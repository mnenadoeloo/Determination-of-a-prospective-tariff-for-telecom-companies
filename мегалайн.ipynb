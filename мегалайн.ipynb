{
 "cells": [
  {
   "cell_type": "markdown",
   "id": "d291cd4e",
   "metadata": {},
   "source": [
    "# Начало\n"
   ]
  },
  {
   "cell_type": "code",
   "execution_count": 1,
   "id": "08c129ce",
   "metadata": {},
   "outputs": [],
   "source": [
    "import pandas as pd\n",
    "import matplotlib.pyplot as plt\n",
    "import math\n",
    "import numpy as np\n",
    "from scipy import stats as st\n",
    "import copy\n",
    "import pylab\n",
    "import warnings\n",
    "warnings.filterwarnings('ignore')\n",
    "pd.set_option('display.max_columns', None)"
   ]
  },
  {
   "cell_type": "code",
   "execution_count": 2,
   "id": "f759ac01",
   "metadata": {},
   "outputs": [],
   "source": [
    "#df_calls = pd.read_csv('C://Users//User//Documents//.ipynb_checkpoints//calls.csv', sep='\\t')\n",
    "#df_internet = pd.read_csv('C://Users//User//Documents//.ipynb_checkpoints//internet.csv', sep='\\t')\n",
    "#df_messages = pd.read_csv('C://Users//User//Documents//.ipynb_checkpoints//messages.csv', sep='\\t')\n",
    "#df_tariffs = pd.read_csv('C://Users//User//Documents//.ipynb_checkpoints//tariffs.csv', sep='\\t')\n",
    "#df_users = pd.read_csv('C://Users//User//Documents//.ipynb_checkpoints//users.csv', sep='\\t')\n",
    "\n",
    "calls = pd.read_csv('/datasets/calls.csv', sep='\\t')\n",
    "internet = pd.read_csv('/datasets/internet.csv', sep='\\t')\n",
    "messages = pd.read_csv('/datasets/messages.csv', sep='\\t')\n",
    "tariffs = pd.read_csv('/datasets/tariffs.csv', sep='\\t')\n",
    "users = pd.read_csv('/datasets/users.csv', sep='\\t')"
   ]
  },
  {
   "cell_type": "markdown",
   "id": "1abfe959",
   "metadata": {},
   "source": [
    "# Просмотр датасетов и исправление ошибок"
   ]
  },
  {
   "cell_type": "markdown",
   "id": "49558c48",
   "metadata": {},
   "source": [
    "Рассмотрим датафреймы по порядку и исправим некоторые ошибки."
   ]
  },
  {
   "cell_type": "code",
   "execution_count": 3,
   "id": "a7292e7f",
   "metadata": {},
   "outputs": [
    {
     "name": "stdout",
     "output_type": "stream",
     "text": [
      "<class 'pandas.core.frame.DataFrame'>\n",
      "RangeIndex: 202607 entries, 0 to 202606\n",
      "Data columns (total 1 columns):\n",
      " #   Column                         Non-Null Count   Dtype \n",
      "---  ------                         --------------   ----- \n",
      " 0   id,call_date,duration,user_id  202607 non-null  object\n",
      "dtypes: object(1)\n",
      "memory usage: 1.5+ MB\n"
     ]
    }
   ],
   "source": [
    "calls.info()"
   ]
  },
  {
   "cell_type": "code",
   "execution_count": 4,
   "id": "52ea0107",
   "metadata": {},
   "outputs": [
    {
     "data": {
      "text/html": [
       "<div>\n",
       "<style scoped>\n",
       "    .dataframe tbody tr th:only-of-type {\n",
       "        vertical-align: middle;\n",
       "    }\n",
       "\n",
       "    .dataframe tbody tr th {\n",
       "        vertical-align: top;\n",
       "    }\n",
       "\n",
       "    .dataframe thead th {\n",
       "        text-align: right;\n",
       "    }\n",
       "</style>\n",
       "<table border=\"1\" class=\"dataframe\">\n",
       "  <thead>\n",
       "    <tr style=\"text-align: right;\">\n",
       "      <th></th>\n",
       "      <th>id</th>\n",
       "      <th>call_date</th>\n",
       "      <th>duration</th>\n",
       "      <th>user_id</th>\n",
       "    </tr>\n",
       "  </thead>\n",
       "  <tbody>\n",
       "    <tr>\n",
       "      <th>0</th>\n",
       "      <td>1000_0</td>\n",
       "      <td>2018-07-25</td>\n",
       "      <td>0.00</td>\n",
       "      <td>1000</td>\n",
       "    </tr>\n",
       "    <tr>\n",
       "      <th>1</th>\n",
       "      <td>1000_1</td>\n",
       "      <td>2018-08-17</td>\n",
       "      <td>0.00</td>\n",
       "      <td>1000</td>\n",
       "    </tr>\n",
       "    <tr>\n",
       "      <th>2</th>\n",
       "      <td>1000_2</td>\n",
       "      <td>2018-06-11</td>\n",
       "      <td>2.85</td>\n",
       "      <td>1000</td>\n",
       "    </tr>\n",
       "    <tr>\n",
       "      <th>3</th>\n",
       "      <td>1000_3</td>\n",
       "      <td>2018-09-21</td>\n",
       "      <td>13.80</td>\n",
       "      <td>1000</td>\n",
       "    </tr>\n",
       "    <tr>\n",
       "      <th>4</th>\n",
       "      <td>1000_4</td>\n",
       "      <td>2018-12-15</td>\n",
       "      <td>5.18</td>\n",
       "      <td>1000</td>\n",
       "    </tr>\n",
       "  </tbody>\n",
       "</table>\n",
       "</div>"
      ],
      "text/plain": [
       "       id  call_date  duration user_id\n",
       "0  1000_0 2018-07-25      0.00    1000\n",
       "1  1000_1 2018-08-17      0.00    1000\n",
       "2  1000_2 2018-06-11      2.85    1000\n",
       "3  1000_3 2018-09-21     13.80    1000\n",
       "4  1000_4 2018-12-15      5.18    1000"
      ]
     },
     "metadata": {},
     "output_type": "display_data"
    }
   ],
   "source": [
    "calls = calls['id,call_date,duration,user_id'].str.split(',', expand=True)\n",
    "calls.columns = ['id', 'call_date', 'duration', 'user_id']\n",
    "calls['duration'] = calls['duration'].astype('float64')\n",
    "calls['call_date'] = pd.to_datetime(calls['call_date'])\n",
    "display(calls.head())"
   ]
  },
  {
   "cell_type": "code",
   "execution_count": 5,
   "id": "7490a44d",
   "metadata": {},
   "outputs": [
    {
     "name": "stdout",
     "output_type": "stream",
     "text": [
      "<class 'pandas.core.frame.DataFrame'>\n",
      "RangeIndex: 202607 entries, 0 to 202606\n",
      "Data columns (total 4 columns):\n",
      " #   Column     Non-Null Count   Dtype         \n",
      "---  ------     --------------   -----         \n",
      " 0   id         202607 non-null  object        \n",
      " 1   call_date  202607 non-null  datetime64[ns]\n",
      " 2   duration   202607 non-null  float64       \n",
      " 3   user_id    202607 non-null  object        \n",
      "dtypes: datetime64[ns](1), float64(1), object(2)\n",
      "memory usage: 6.2+ MB\n"
     ]
    }
   ],
   "source": [
    "calls.info()"
   ]
  },
  {
   "cell_type": "code",
   "execution_count": 6,
   "id": "951f49aa",
   "metadata": {},
   "outputs": [
    {
     "name": "stdout",
     "output_type": "stream",
     "text": [
      "<class 'pandas.core.frame.DataFrame'>\n",
      "RangeIndex: 149396 entries, 0 to 149395\n",
      "Data columns (total 1 columns):\n",
      " #   Column                            Non-Null Count   Dtype \n",
      "---  ------                            --------------   ----- \n",
      " 0   ,id,mb_used,session_date,user_id  149396 non-null  object\n",
      "dtypes: object(1)\n",
      "memory usage: 1.1+ MB\n"
     ]
    }
   ],
   "source": [
    "internet.info()"
   ]
  },
  {
   "cell_type": "code",
   "execution_count": 7,
   "id": "b704971a",
   "metadata": {},
   "outputs": [
    {
     "data": {
      "text/html": [
       "<div>\n",
       "<style scoped>\n",
       "    .dataframe tbody tr th:only-of-type {\n",
       "        vertical-align: middle;\n",
       "    }\n",
       "\n",
       "    .dataframe tbody tr th {\n",
       "        vertical-align: top;\n",
       "    }\n",
       "\n",
       "    .dataframe thead th {\n",
       "        text-align: right;\n",
       "    }\n",
       "</style>\n",
       "<table border=\"1\" class=\"dataframe\">\n",
       "  <thead>\n",
       "    <tr style=\"text-align: right;\">\n",
       "      <th></th>\n",
       "      <th>index</th>\n",
       "      <th>id</th>\n",
       "      <th>mb_used</th>\n",
       "      <th>session_date</th>\n",
       "      <th>user_id</th>\n",
       "    </tr>\n",
       "  </thead>\n",
       "  <tbody>\n",
       "    <tr>\n",
       "      <th>0</th>\n",
       "      <td>0</td>\n",
       "      <td>1000_0</td>\n",
       "      <td>112.95</td>\n",
       "      <td>2018-11-25</td>\n",
       "      <td>1000</td>\n",
       "    </tr>\n",
       "    <tr>\n",
       "      <th>1</th>\n",
       "      <td>1</td>\n",
       "      <td>1000_1</td>\n",
       "      <td>1052.81</td>\n",
       "      <td>2018-09-07</td>\n",
       "      <td>1000</td>\n",
       "    </tr>\n",
       "    <tr>\n",
       "      <th>2</th>\n",
       "      <td>2</td>\n",
       "      <td>1000_2</td>\n",
       "      <td>1197.26</td>\n",
       "      <td>2018-06-25</td>\n",
       "      <td>1000</td>\n",
       "    </tr>\n",
       "    <tr>\n",
       "      <th>3</th>\n",
       "      <td>3</td>\n",
       "      <td>1000_3</td>\n",
       "      <td>550.27</td>\n",
       "      <td>2018-08-22</td>\n",
       "      <td>1000</td>\n",
       "    </tr>\n",
       "    <tr>\n",
       "      <th>4</th>\n",
       "      <td>4</td>\n",
       "      <td>1000_4</td>\n",
       "      <td>302.56</td>\n",
       "      <td>2018-09-24</td>\n",
       "      <td>1000</td>\n",
       "    </tr>\n",
       "  </tbody>\n",
       "</table>\n",
       "</div>"
      ],
      "text/plain": [
       "  index      id  mb_used session_date user_id\n",
       "0     0  1000_0   112.95   2018-11-25    1000\n",
       "1     1  1000_1  1052.81   2018-09-07    1000\n",
       "2     2  1000_2  1197.26   2018-06-25    1000\n",
       "3     3  1000_3   550.27   2018-08-22    1000\n",
       "4     4  1000_4   302.56   2018-09-24    1000"
      ]
     },
     "metadata": {},
     "output_type": "display_data"
    }
   ],
   "source": [
    "internet = internet[',id,mb_used,session_date,user_id'].str.split(',', expand=True)\n",
    "internet.columns = ['index','id', 'mb_used', 'session_date' , 'user_id']\n",
    "internet['mb_used'] = internet['mb_used'].astype('float64')\n",
    "internet['session_date'] = pd.to_datetime(internet['session_date'])\n",
    "display(internet.head())"
   ]
  },
  {
   "cell_type": "code",
   "execution_count": 8,
   "id": "1cde4c71",
   "metadata": {},
   "outputs": [
    {
     "name": "stdout",
     "output_type": "stream",
     "text": [
      "<class 'pandas.core.frame.DataFrame'>\n",
      "RangeIndex: 149396 entries, 0 to 149395\n",
      "Data columns (total 5 columns):\n",
      " #   Column        Non-Null Count   Dtype         \n",
      "---  ------        --------------   -----         \n",
      " 0   index         149396 non-null  object        \n",
      " 1   id            149396 non-null  object        \n",
      " 2   mb_used       149396 non-null  float64       \n",
      " 3   session_date  149396 non-null  datetime64[ns]\n",
      " 4   user_id       149396 non-null  object        \n",
      "dtypes: datetime64[ns](1), float64(1), object(3)\n",
      "memory usage: 5.7+ MB\n"
     ]
    }
   ],
   "source": [
    "internet.info()"
   ]
  },
  {
   "cell_type": "code",
   "execution_count": 9,
   "id": "6a0ae9c7",
   "metadata": {},
   "outputs": [
    {
     "name": "stdout",
     "output_type": "stream",
     "text": [
      "<class 'pandas.core.frame.DataFrame'>\n",
      "RangeIndex: 123036 entries, 0 to 123035\n",
      "Data columns (total 1 columns):\n",
      " #   Column                   Non-Null Count   Dtype \n",
      "---  ------                   --------------   ----- \n",
      " 0   id,message_date,user_id  123036 non-null  object\n",
      "dtypes: object(1)\n",
      "memory usage: 961.3+ KB\n"
     ]
    }
   ],
   "source": [
    "messages.info()"
   ]
  },
  {
   "cell_type": "code",
   "execution_count": 10,
   "id": "35c8add7",
   "metadata": {},
   "outputs": [
    {
     "data": {
      "text/html": [
       "<div>\n",
       "<style scoped>\n",
       "    .dataframe tbody tr th:only-of-type {\n",
       "        vertical-align: middle;\n",
       "    }\n",
       "\n",
       "    .dataframe tbody tr th {\n",
       "        vertical-align: top;\n",
       "    }\n",
       "\n",
       "    .dataframe thead th {\n",
       "        text-align: right;\n",
       "    }\n",
       "</style>\n",
       "<table border=\"1\" class=\"dataframe\">\n",
       "  <thead>\n",
       "    <tr style=\"text-align: right;\">\n",
       "      <th></th>\n",
       "      <th>id</th>\n",
       "      <th>message_date</th>\n",
       "      <th>user_id</th>\n",
       "    </tr>\n",
       "  </thead>\n",
       "  <tbody>\n",
       "    <tr>\n",
       "      <th>0</th>\n",
       "      <td>1000_0</td>\n",
       "      <td>2018-06-27</td>\n",
       "      <td>1000</td>\n",
       "    </tr>\n",
       "    <tr>\n",
       "      <th>1</th>\n",
       "      <td>1000_1</td>\n",
       "      <td>2018-10-08</td>\n",
       "      <td>1000</td>\n",
       "    </tr>\n",
       "    <tr>\n",
       "      <th>2</th>\n",
       "      <td>1000_2</td>\n",
       "      <td>2018-08-04</td>\n",
       "      <td>1000</td>\n",
       "    </tr>\n",
       "    <tr>\n",
       "      <th>3</th>\n",
       "      <td>1000_3</td>\n",
       "      <td>2018-06-16</td>\n",
       "      <td>1000</td>\n",
       "    </tr>\n",
       "    <tr>\n",
       "      <th>4</th>\n",
       "      <td>1000_4</td>\n",
       "      <td>2018-12-05</td>\n",
       "      <td>1000</td>\n",
       "    </tr>\n",
       "  </tbody>\n",
       "</table>\n",
       "</div>"
      ],
      "text/plain": [
       "       id message_date user_id\n",
       "0  1000_0   2018-06-27    1000\n",
       "1  1000_1   2018-10-08    1000\n",
       "2  1000_2   2018-08-04    1000\n",
       "3  1000_3   2018-06-16    1000\n",
       "4  1000_4   2018-12-05    1000"
      ]
     },
     "metadata": {},
     "output_type": "display_data"
    }
   ],
   "source": [
    "messages = messages['id,message_date,user_id'].str.split(',', expand=True)\n",
    "messages.columns = ['id', 'message_date', 'user_id']\n",
    "messages['message_date'] = pd.to_datetime(messages['message_date'])\n",
    "display(messages.head())"
   ]
  },
  {
   "cell_type": "code",
   "execution_count": 11,
   "id": "22ae150d",
   "metadata": {},
   "outputs": [
    {
     "name": "stdout",
     "output_type": "stream",
     "text": [
      "<class 'pandas.core.frame.DataFrame'>\n",
      "RangeIndex: 2 entries, 0 to 1\n",
      "Data columns (total 1 columns):\n",
      " #   Column                                                                                                                          Non-Null Count  Dtype \n",
      "---  ------                                                                                                                          --------------  ----- \n",
      " 0   messages_included,mb_per_month_included,minutes_included,rub_monthly_fee,rub_per_gb,rub_per_message,rub_per_minute,tariff_name  2 non-null      object\n",
      "dtypes: object(1)\n",
      "memory usage: 144.0+ bytes\n"
     ]
    }
   ],
   "source": [
    "tariffs.info()"
   ]
  },
  {
   "cell_type": "code",
   "execution_count": 12,
   "id": "ae4f3213",
   "metadata": {},
   "outputs": [],
   "source": [
    "tariffs = tariffs['messages_included,mb_per_month_included,minutes_included,rub_monthly_fee,rub_per_gb,rub_per_message,rub_per_minute,tariff_name'].str.split(',', expand=True)\n",
    "tariffs.columns = ['messages_included', 'mb_per_month_included', 'minutes_included', 'rub_monthly_fee', 'rub_per_gb', 'rub_per_message', 'rub_per_minute', 'tariff']\n",
    "tariffs['rub_monthly_fee'] = tariffs['rub_monthly_fee'].astype('int64')\n",
    "tariffs['minutes_included'] = tariffs['minutes_included'].astype('int64')\n",
    "tariffs['messages_included'] = tariffs['messages_included'].astype('int64')\n",
    "tariffs['mb_per_month_included'] = tariffs['mb_per_month_included'].astype('int64')\n",
    "tariffs['rub_per_minute'] = tariffs['rub_per_minute'].astype('int64')\n",
    "tariffs['rub_per_message'] = tariffs['rub_per_message'].astype('int64')\n",
    "tariffs['rub_per_gb'] = tariffs['rub_per_gb'].astype('int64')"
   ]
  },
  {
   "cell_type": "code",
   "execution_count": 13,
   "id": "f3ab12ef",
   "metadata": {},
   "outputs": [
    {
     "data": {
      "text/html": [
       "<div>\n",
       "<style scoped>\n",
       "    .dataframe tbody tr th:only-of-type {\n",
       "        vertical-align: middle;\n",
       "    }\n",
       "\n",
       "    .dataframe tbody tr th {\n",
       "        vertical-align: top;\n",
       "    }\n",
       "\n",
       "    .dataframe thead th {\n",
       "        text-align: right;\n",
       "    }\n",
       "</style>\n",
       "<table border=\"1\" class=\"dataframe\">\n",
       "  <thead>\n",
       "    <tr style=\"text-align: right;\">\n",
       "      <th></th>\n",
       "      <th>messages_included</th>\n",
       "      <th>mb_per_month_included</th>\n",
       "      <th>minutes_included</th>\n",
       "      <th>rub_monthly_fee</th>\n",
       "      <th>rub_per_gb</th>\n",
       "      <th>rub_per_message</th>\n",
       "      <th>rub_per_minute</th>\n",
       "      <th>tariff</th>\n",
       "    </tr>\n",
       "  </thead>\n",
       "  <tbody>\n",
       "    <tr>\n",
       "      <th>0</th>\n",
       "      <td>50</td>\n",
       "      <td>15360</td>\n",
       "      <td>500</td>\n",
       "      <td>550</td>\n",
       "      <td>200</td>\n",
       "      <td>3</td>\n",
       "      <td>3</td>\n",
       "      <td>smart</td>\n",
       "    </tr>\n",
       "    <tr>\n",
       "      <th>1</th>\n",
       "      <td>1000</td>\n",
       "      <td>30720</td>\n",
       "      <td>3000</td>\n",
       "      <td>1950</td>\n",
       "      <td>150</td>\n",
       "      <td>1</td>\n",
       "      <td>1</td>\n",
       "      <td>ultra</td>\n",
       "    </tr>\n",
       "  </tbody>\n",
       "</table>\n",
       "</div>"
      ],
      "text/plain": [
       "   messages_included  mb_per_month_included  minutes_included  \\\n",
       "0                 50                  15360               500   \n",
       "1               1000                  30720              3000   \n",
       "\n",
       "   rub_monthly_fee  rub_per_gb  rub_per_message  rub_per_minute tariff  \n",
       "0              550         200                3               3  smart  \n",
       "1             1950         150                1               1  ultra  "
      ]
     },
     "metadata": {},
     "output_type": "display_data"
    }
   ],
   "source": [
    "display(tariffs.head())"
   ]
  },
  {
   "cell_type": "code",
   "execution_count": 14,
   "id": "80138f48",
   "metadata": {},
   "outputs": [],
   "source": [
    "tariffs['mb_per_month_included'] = tariffs['mb_per_month_included'] / 1024"
   ]
  },
  {
   "cell_type": "code",
   "execution_count": 15,
   "id": "9e2f25e3",
   "metadata": {},
   "outputs": [
    {
     "name": "stdout",
     "output_type": "stream",
     "text": [
      "<class 'pandas.core.frame.DataFrame'>\n",
      "RangeIndex: 2 entries, 0 to 1\n",
      "Data columns (total 8 columns):\n",
      " #   Column                 Non-Null Count  Dtype  \n",
      "---  ------                 --------------  -----  \n",
      " 0   messages_included      2 non-null      int64  \n",
      " 1   mb_per_month_included  2 non-null      float64\n",
      " 2   minutes_included       2 non-null      int64  \n",
      " 3   rub_monthly_fee        2 non-null      int64  \n",
      " 4   rub_per_gb             2 non-null      int64  \n",
      " 5   rub_per_message        2 non-null      int64  \n",
      " 6   rub_per_minute         2 non-null      int64  \n",
      " 7   tariff                 2 non-null      object \n",
      "dtypes: float64(1), int64(6), object(1)\n",
      "memory usage: 256.0+ bytes\n"
     ]
    }
   ],
   "source": [
    "tariffs.info()"
   ]
  },
  {
   "cell_type": "code",
   "execution_count": 16,
   "id": "b05124e0",
   "metadata": {},
   "outputs": [
    {
     "name": "stdout",
     "output_type": "stream",
     "text": [
      "<class 'pandas.core.frame.DataFrame'>\n",
      "RangeIndex: 500 entries, 0 to 499\n",
      "Data columns (total 1 columns):\n",
      " #   Column                                                            Non-Null Count  Dtype \n",
      "---  ------                                                            --------------  ----- \n",
      " 0   user_id,age,churn_date,city,first_name,last_name,reg_date,tariff  500 non-null    object\n",
      "dtypes: object(1)\n",
      "memory usage: 4.0+ KB\n"
     ]
    }
   ],
   "source": [
    "users.info()"
   ]
  },
  {
   "cell_type": "code",
   "execution_count": 17,
   "id": "c751e410",
   "metadata": {},
   "outputs": [],
   "source": [
    "users = users['user_id,age,churn_date,city,first_name,last_name,reg_date,tariff'].str.split(',', expand=True)\n",
    "users.columns = ['user_id', 'age', 'churn_date', 'city' ,'first_name', 'last_name', 'reg_date', 'tariff']\n",
    "users['age'] = users['age'].astype('int64')\n",
    "users['churn_date'] = pd.to_datetime(users['churn_date'])\n",
    "users['reg_date'] = pd.to_datetime(users['reg_date'])"
   ]
  },
  {
   "cell_type": "code",
   "execution_count": 18,
   "id": "5677fdc7",
   "metadata": {},
   "outputs": [
    {
     "data": {
      "text/html": [
       "<div>\n",
       "<style scoped>\n",
       "    .dataframe tbody tr th:only-of-type {\n",
       "        vertical-align: middle;\n",
       "    }\n",
       "\n",
       "    .dataframe tbody tr th {\n",
       "        vertical-align: top;\n",
       "    }\n",
       "\n",
       "    .dataframe thead th {\n",
       "        text-align: right;\n",
       "    }\n",
       "</style>\n",
       "<table border=\"1\" class=\"dataframe\">\n",
       "  <thead>\n",
       "    <tr style=\"text-align: right;\">\n",
       "      <th></th>\n",
       "      <th>user_id</th>\n",
       "      <th>age</th>\n",
       "      <th>churn_date</th>\n",
       "      <th>city</th>\n",
       "      <th>first_name</th>\n",
       "      <th>last_name</th>\n",
       "      <th>reg_date</th>\n",
       "      <th>tariff</th>\n",
       "    </tr>\n",
       "  </thead>\n",
       "  <tbody>\n",
       "    <tr>\n",
       "      <th>0</th>\n",
       "      <td>1000</td>\n",
       "      <td>52</td>\n",
       "      <td>NaT</td>\n",
       "      <td>Краснодар</td>\n",
       "      <td>Рафаил</td>\n",
       "      <td>Верещагин</td>\n",
       "      <td>2018-05-25</td>\n",
       "      <td>ultra</td>\n",
       "    </tr>\n",
       "    <tr>\n",
       "      <th>1</th>\n",
       "      <td>1001</td>\n",
       "      <td>41</td>\n",
       "      <td>NaT</td>\n",
       "      <td>Москва</td>\n",
       "      <td>Иван</td>\n",
       "      <td>Ежов</td>\n",
       "      <td>2018-11-01</td>\n",
       "      <td>smart</td>\n",
       "    </tr>\n",
       "    <tr>\n",
       "      <th>2</th>\n",
       "      <td>1002</td>\n",
       "      <td>59</td>\n",
       "      <td>NaT</td>\n",
       "      <td>Стерлитамак</td>\n",
       "      <td>Евгений</td>\n",
       "      <td>Абрамович</td>\n",
       "      <td>2018-06-17</td>\n",
       "      <td>smart</td>\n",
       "    </tr>\n",
       "    <tr>\n",
       "      <th>3</th>\n",
       "      <td>1003</td>\n",
       "      <td>23</td>\n",
       "      <td>NaT</td>\n",
       "      <td>Москва</td>\n",
       "      <td>Белла</td>\n",
       "      <td>Белякова</td>\n",
       "      <td>2018-08-17</td>\n",
       "      <td>ultra</td>\n",
       "    </tr>\n",
       "    <tr>\n",
       "      <th>4</th>\n",
       "      <td>1004</td>\n",
       "      <td>68</td>\n",
       "      <td>NaT</td>\n",
       "      <td>Новокузнецк</td>\n",
       "      <td>Татьяна</td>\n",
       "      <td>Авдеенко</td>\n",
       "      <td>2018-05-14</td>\n",
       "      <td>ultra</td>\n",
       "    </tr>\n",
       "  </tbody>\n",
       "</table>\n",
       "</div>"
      ],
      "text/plain": [
       "  user_id  age churn_date         city first_name  last_name   reg_date tariff\n",
       "0    1000   52        NaT    Краснодар     Рафаил  Верещагин 2018-05-25  ultra\n",
       "1    1001   41        NaT       Москва       Иван       Ежов 2018-11-01  smart\n",
       "2    1002   59        NaT  Стерлитамак    Евгений  Абрамович 2018-06-17  smart\n",
       "3    1003   23        NaT       Москва      Белла   Белякова 2018-08-17  ultra\n",
       "4    1004   68        NaT  Новокузнецк    Татьяна   Авдеенко 2018-05-14  ultra"
      ]
     },
     "metadata": {},
     "output_type": "display_data"
    }
   ],
   "source": [
    "display(users.head())"
   ]
  },
  {
   "cell_type": "code",
   "execution_count": 19,
   "id": "df9b7886",
   "metadata": {},
   "outputs": [
    {
     "name": "stdout",
     "output_type": "stream",
     "text": [
      "<class 'pandas.core.frame.DataFrame'>\n",
      "RangeIndex: 500 entries, 0 to 499\n",
      "Data columns (total 8 columns):\n",
      " #   Column      Non-Null Count  Dtype         \n",
      "---  ------      --------------  -----         \n",
      " 0   user_id     500 non-null    object        \n",
      " 1   age         500 non-null    int64         \n",
      " 2   churn_date  38 non-null     datetime64[ns]\n",
      " 3   city        500 non-null    object        \n",
      " 4   first_name  500 non-null    object        \n",
      " 5   last_name   500 non-null    object        \n",
      " 6   reg_date    500 non-null    datetime64[ns]\n",
      " 7   tariff      500 non-null    object        \n",
      "dtypes: datetime64[ns](2), int64(1), object(5)\n",
      "memory usage: 31.4+ KB\n"
     ]
    }
   ],
   "source": [
    "users.info()"
   ]
  },
  {
   "cell_type": "markdown",
   "id": "ed1a3e76",
   "metadata": {},
   "source": [
    "Разберемся с тем,что мы делали на примере df_calls.Сначала мы применили метод info() к датасету df_calls и после этого увидели,что 4 столбца соединены в 1,поэтому была необходимость разделить данные..Увидели,что в столбцах тип данных object.Так как это длительность звонка в минутах,то мы изменили их на float,а дату изменили на дату. Мы проанализировали данные,привели их к нормальному виду.Ошибки были связаны с тем,что все столбцы были в одну строчку.Это мы успешно исправили,а также исправили тип данных там,где это нужно.Двигаемся дальше."
   ]
  },
  {
   "cell_type": "markdown",
   "id": "1c7e991c",
   "metadata": {},
   "source": [
    "# Подсчеты"
   ]
  },
  {
   "cell_type": "markdown",
   "id": "140d6361",
   "metadata": {},
   "source": [
    "Теперь нам необходимо посчитать для каждого пользователя: количество сделанных звонков и израсходованных минут разговора по месяцам; количество отправленных сообщений по месяцам; объем израсходованного интернет-трафика по месяцам; помесячную выручку с каждого пользователя.\n",
    "\n",
    "В первоначальной версии проекта я соединил все таблицы в один датасет и начал работать таким образом.В этот раз поступлю немного иначе.Разберемся сначала с df_calls.Добавим столбец с месяцем,а также дропнем все звонки,которые длились 0 секунд,а те,которые длились от 0 до минуты, округлим до 1 минуты.Так как «Мегалайн» всегда округляет секунды до минут, а мегабайты — до гигабайт."
   ]
  },
  {
   "cell_type": "code",
   "execution_count": 20,
   "id": "99d02be7",
   "metadata": {},
   "outputs": [],
   "source": [
    "def func_ceil(value):\n",
    "    return np.ceil(value)"
   ]
  },
  {
   "cell_type": "code",
   "execution_count": 21,
   "id": "ca10a204",
   "metadata": {},
   "outputs": [
    {
     "data": {
      "text/html": [
       "<div>\n",
       "<style scoped>\n",
       "    .dataframe tbody tr th:only-of-type {\n",
       "        vertical-align: middle;\n",
       "    }\n",
       "\n",
       "    .dataframe tbody tr th {\n",
       "        vertical-align: top;\n",
       "    }\n",
       "\n",
       "    .dataframe thead th {\n",
       "        text-align: right;\n",
       "    }\n",
       "</style>\n",
       "<table border=\"1\" class=\"dataframe\">\n",
       "  <thead>\n",
       "    <tr style=\"text-align: right;\">\n",
       "      <th></th>\n",
       "      <th>id</th>\n",
       "      <th>call_date</th>\n",
       "      <th>duration</th>\n",
       "      <th>user_id</th>\n",
       "    </tr>\n",
       "  </thead>\n",
       "  <tbody>\n",
       "    <tr>\n",
       "      <th>2</th>\n",
       "      <td>1000_2</td>\n",
       "      <td>2018-06-11</td>\n",
       "      <td>3</td>\n",
       "      <td>1000</td>\n",
       "    </tr>\n",
       "    <tr>\n",
       "      <th>3</th>\n",
       "      <td>1000_3</td>\n",
       "      <td>2018-09-21</td>\n",
       "      <td>14</td>\n",
       "      <td>1000</td>\n",
       "    </tr>\n",
       "    <tr>\n",
       "      <th>4</th>\n",
       "      <td>1000_4</td>\n",
       "      <td>2018-12-15</td>\n",
       "      <td>6</td>\n",
       "      <td>1000</td>\n",
       "    </tr>\n",
       "    <tr>\n",
       "      <th>7</th>\n",
       "      <td>1000_7</td>\n",
       "      <td>2018-08-22</td>\n",
       "      <td>19</td>\n",
       "      <td>1000</td>\n",
       "    </tr>\n",
       "    <tr>\n",
       "      <th>8</th>\n",
       "      <td>1000_8</td>\n",
       "      <td>2018-09-15</td>\n",
       "      <td>19</td>\n",
       "      <td>1000</td>\n",
       "    </tr>\n",
       "  </tbody>\n",
       "</table>\n",
       "</div>"
      ],
      "text/plain": [
       "       id  call_date  duration user_id\n",
       "2  1000_2 2018-06-11         3    1000\n",
       "3  1000_3 2018-09-21        14    1000\n",
       "4  1000_4 2018-12-15         6    1000\n",
       "7  1000_7 2018-08-22        19    1000\n",
       "8  1000_8 2018-09-15        19    1000"
      ]
     },
     "metadata": {},
     "output_type": "display_data"
    }
   ],
   "source": [
    "calls['duration'] = calls['duration'].apply(func_ceil).astype('int64')\n",
    "calls = calls.query('duration >= 1')\n",
    "display(calls.head())"
   ]
  },
  {
   "cell_type": "code",
   "execution_count": 22,
   "id": "9c2ee5ae",
   "metadata": {},
   "outputs": [],
   "source": [
    "calls['month'] = calls['call_date'].dt.strftime('%B')"
   ]
  },
  {
   "cell_type": "code",
   "execution_count": 23,
   "id": "922980da",
   "metadata": {},
   "outputs": [],
   "source": [
    "internet['month'] = internet['session_date'].dt.strftime('%B')"
   ]
  },
  {
   "cell_type": "code",
   "execution_count": 24,
   "id": "c1531dd8",
   "metadata": {},
   "outputs": [],
   "source": [
    "messages['month'] = messages['message_date'].dt.strftime('%B')"
   ]
  },
  {
   "cell_type": "code",
   "execution_count": 25,
   "id": "e81590fd",
   "metadata": {},
   "outputs": [
    {
     "data": {
      "text/html": [
       "<div>\n",
       "<style scoped>\n",
       "    .dataframe tbody tr th:only-of-type {\n",
       "        vertical-align: middle;\n",
       "    }\n",
       "\n",
       "    .dataframe tbody tr th {\n",
       "        vertical-align: top;\n",
       "    }\n",
       "\n",
       "    .dataframe thead th {\n",
       "        text-align: right;\n",
       "    }\n",
       "</style>\n",
       "<table border=\"1\" class=\"dataframe\">\n",
       "  <thead>\n",
       "    <tr style=\"text-align: right;\">\n",
       "      <th></th>\n",
       "      <th>age</th>\n",
       "      <th>churn_date</th>\n",
       "      <th>city</th>\n",
       "      <th>first_name</th>\n",
       "      <th>last_name</th>\n",
       "      <th>reg_date</th>\n",
       "      <th>tariff</th>\n",
       "    </tr>\n",
       "    <tr>\n",
       "      <th>user_id</th>\n",
       "      <th></th>\n",
       "      <th></th>\n",
       "      <th></th>\n",
       "      <th></th>\n",
       "      <th></th>\n",
       "      <th></th>\n",
       "      <th></th>\n",
       "    </tr>\n",
       "  </thead>\n",
       "  <tbody>\n",
       "    <tr>\n",
       "      <th>1000</th>\n",
       "      <td>52</td>\n",
       "      <td>NaT</td>\n",
       "      <td>Краснодар</td>\n",
       "      <td>Рафаил</td>\n",
       "      <td>Верещагин</td>\n",
       "      <td>2018-05-25</td>\n",
       "      <td>ultra</td>\n",
       "    </tr>\n",
       "    <tr>\n",
       "      <th>1001</th>\n",
       "      <td>41</td>\n",
       "      <td>NaT</td>\n",
       "      <td>Москва</td>\n",
       "      <td>Иван</td>\n",
       "      <td>Ежов</td>\n",
       "      <td>2018-11-01</td>\n",
       "      <td>smart</td>\n",
       "    </tr>\n",
       "    <tr>\n",
       "      <th>1002</th>\n",
       "      <td>59</td>\n",
       "      <td>NaT</td>\n",
       "      <td>Стерлитамак</td>\n",
       "      <td>Евгений</td>\n",
       "      <td>Абрамович</td>\n",
       "      <td>2018-06-17</td>\n",
       "      <td>smart</td>\n",
       "    </tr>\n",
       "    <tr>\n",
       "      <th>1003</th>\n",
       "      <td>23</td>\n",
       "      <td>NaT</td>\n",
       "      <td>Москва</td>\n",
       "      <td>Белла</td>\n",
       "      <td>Белякова</td>\n",
       "      <td>2018-08-17</td>\n",
       "      <td>ultra</td>\n",
       "    </tr>\n",
       "    <tr>\n",
       "      <th>1004</th>\n",
       "      <td>68</td>\n",
       "      <td>NaT</td>\n",
       "      <td>Новокузнецк</td>\n",
       "      <td>Татьяна</td>\n",
       "      <td>Авдеенко</td>\n",
       "      <td>2018-05-14</td>\n",
       "      <td>ultra</td>\n",
       "    </tr>\n",
       "  </tbody>\n",
       "</table>\n",
       "</div>"
      ],
      "text/plain": [
       "         age churn_date         city first_name  last_name   reg_date tariff\n",
       "user_id                                                                     \n",
       "1000      52        NaT    Краснодар     Рафаил  Верещагин 2018-05-25  ultra\n",
       "1001      41        NaT       Москва       Иван       Ежов 2018-11-01  smart\n",
       "1002      59        NaT  Стерлитамак    Евгений  Абрамович 2018-06-17  smart\n",
       "1003      23        NaT       Москва      Белла   Белякова 2018-08-17  ultra\n",
       "1004      68        NaT  Новокузнецк    Татьяна   Авдеенко 2018-05-14  ultra"
      ]
     },
     "metadata": {},
     "output_type": "display_data"
    }
   ],
   "source": [
    "users.set_index('user_id', inplace=True)\n",
    "display(users.head())"
   ]
  },
  {
   "cell_type": "code",
   "execution_count": 26,
   "id": "bc6b91d0",
   "metadata": {},
   "outputs": [
    {
     "data": {
      "text/plain": [
       "<AxesSubplot:>"
      ]
     },
     "execution_count": 26,
     "metadata": {},
     "output_type": "execute_result"
    },
    {
     "data": {
      "image/png": "[encoded data removed]",
      "text/plain": [
       "<Figure size 432x288 with 1 Axes>"
      ]
     },
     "metadata": {
      "needs_background": "light"
     },
     "output_type": "display_data"
    }
   ],
   "source": [
    "calls['duration'].hist()"
   ]
  },
  {
   "cell_type": "code",
   "execution_count": 27,
   "id": "f3176aef",
   "metadata": {},
   "outputs": [
    {
     "data": {
      "text/plain": [
       "<AxesSubplot:>"
      ]
     },
     "execution_count": 27,
     "metadata": {},
     "output_type": "execute_result"
    },
    {
     "data": {
      "image/png": "[encoded data removed]",
      "text/plain": [
       "<Figure size 432x288 with 1 Axes>"
      ]
     },
     "metadata": {
      "needs_background": "light"
     },
     "output_type": "display_data"
    }
   ],
   "source": [
    "calls.boxplot()"
   ]
  },
  {
   "cell_type": "code",
   "execution_count": 28,
   "id": "fe7dcff0",
   "metadata": {},
   "outputs": [
    {
     "data": {
      "text/plain": [
       "<AxesSubplot:>"
      ]
     },
     "execution_count": 28,
     "metadata": {},
     "output_type": "execute_result"
    },
    {
     "data": {
      "image/png": "[encoded data removed]",
      "text/plain": [
       "<Figure size 432x288 with 1 Axes>"
      ]
     },
     "metadata": {
      "needs_background": "light"
     },
     "output_type": "display_data"
    }
   ],
   "source": [
    "internet['mb_used'].hist()"
   ]
  },
  {
   "cell_type": "code",
   "execution_count": 29,
   "id": "3e2cce3f",
   "metadata": {},
   "outputs": [
    {
     "data": {
      "text/plain": [
       "<AxesSubplot:>"
      ]
     },
     "execution_count": 29,
     "metadata": {},
     "output_type": "execute_result"
    },
    {
     "data": {
      "image/png": "[encoded data removed]",
      "text/plain": [
       "<Figure size 432x288 with 1 Axes>"
      ]
     },
     "metadata": {
      "needs_background": "light"
     },
     "output_type": "display_data"
    }
   ],
   "source": [
    "internet.boxplot()"
   ]
  },
  {
   "cell_type": "markdown",
   "id": "88f4fbad",
   "metadata": {},
   "source": [
    "Довольно странные гистограммы получились. Избавимся от редких и выбывающихся значений.Редкими и выбивающимися значениями будем считать все значения,которые ниже или выше Q1–1.5IQR и Q3 + 1.5IQR."
   ]
  },
  {
   "cell_type": "code",
   "execution_count": 36,
   "id": "2298367a",
   "metadata": {},
   "outputs": [
    {
     "data": {
      "text/html": [
       "<div>\n",
       "<style scoped>\n",
       "    .dataframe tbody tr th:only-of-type {\n",
       "        vertical-align: middle;\n",
       "    }\n",
       "\n",
       "    .dataframe tbody tr th {\n",
       "        vertical-align: top;\n",
       "    }\n",
       "\n",
       "    .dataframe thead th {\n",
       "        text-align: right;\n",
       "    }\n",
       "</style>\n",
       "<table border=\"1\" class=\"dataframe\">\n",
       "  <thead>\n",
       "    <tr style=\"text-align: right;\">\n",
       "      <th></th>\n",
       "      <th>index</th>\n",
       "      <th>id</th>\n",
       "      <th>mb_used</th>\n",
       "      <th>session_date</th>\n",
       "      <th>user_id</th>\n",
       "      <th>month</th>\n",
       "    </tr>\n",
       "  </thead>\n",
       "  <tbody>\n",
       "    <tr>\n",
       "      <th>0</th>\n",
       "      <td>0</td>\n",
       "      <td>1000_0</td>\n",
       "      <td>112.95</td>\n",
       "      <td>2018-11-25</td>\n",
       "      <td>1000</td>\n",
       "      <td>November</td>\n",
       "    </tr>\n",
       "    <tr>\n",
       "      <th>1</th>\n",
       "      <td>1</td>\n",
       "      <td>1000_1</td>\n",
       "      <td>1052.81</td>\n",
       "      <td>2018-09-07</td>\n",
       "      <td>1000</td>\n",
       "      <td>September</td>\n",
       "    </tr>\n",
       "    <tr>\n",
       "      <th>2</th>\n",
       "      <td>2</td>\n",
       "      <td>1000_2</td>\n",
       "      <td>1197.26</td>\n",
       "      <td>2018-06-25</td>\n",
       "      <td>1000</td>\n",
       "      <td>June</td>\n",
       "    </tr>\n",
       "    <tr>\n",
       "      <th>3</th>\n",
       "      <td>3</td>\n",
       "      <td>1000_3</td>\n",
       "      <td>550.27</td>\n",
       "      <td>2018-08-22</td>\n",
       "      <td>1000</td>\n",
       "      <td>August</td>\n",
       "    </tr>\n",
       "    <tr>\n",
       "      <th>4</th>\n",
       "      <td>4</td>\n",
       "      <td>1000_4</td>\n",
       "      <td>302.56</td>\n",
       "      <td>2018-09-24</td>\n",
       "      <td>1000</td>\n",
       "      <td>September</td>\n",
       "    </tr>\n",
       "  </tbody>\n",
       "</table>\n",
       "</div>"
      ],
      "text/plain": [
       "  index      id  mb_used session_date user_id      month\n",
       "0     0  1000_0   112.95   2018-11-25    1000   November\n",
       "1     1  1000_1  1052.81   2018-09-07    1000  September\n",
       "2     2  1000_2  1197.26   2018-06-25    1000       June\n",
       "3     3  1000_3   550.27   2018-08-22    1000     August\n",
       "4     4  1000_4   302.56   2018-09-24    1000  September"
      ]
     },
     "execution_count": 36,
     "metadata": {},
     "output_type": "execute_result"
    }
   ],
   "source": [
    "internet.head()"
   ]
  },
  {
   "cell_type": "code",
   "execution_count": 40,
   "id": "54ed66d7",
   "metadata": {},
   "outputs": [],
   "source": [
    "for row in internet['mb_used']:\n",
    "    if row < 0:\n",
    "        display(row)"
   ]
  },
  {
   "cell_type": "code",
   "execution_count": 38,
   "id": "250d4962",
   "metadata": {},
   "outputs": [
    {
     "data": {
      "text/html": [
       "<div>\n",
       "<style scoped>\n",
       "    .dataframe tbody tr th:only-of-type {\n",
       "        vertical-align: middle;\n",
       "    }\n",
       "\n",
       "    .dataframe tbody tr th {\n",
       "        vertical-align: top;\n",
       "    }\n",
       "\n",
       "    .dataframe thead th {\n",
       "        text-align: right;\n",
       "    }\n",
       "</style>\n",
       "<table border=\"1\" class=\"dataframe\">\n",
       "  <thead>\n",
       "    <tr style=\"text-align: right;\">\n",
       "      <th></th>\n",
       "      <th>age</th>\n",
       "      <th>churn_date</th>\n",
       "      <th>city</th>\n",
       "      <th>first_name</th>\n",
       "      <th>last_name</th>\n",
       "      <th>reg_date</th>\n",
       "      <th>tariff</th>\n",
       "    </tr>\n",
       "    <tr>\n",
       "      <th>user_id</th>\n",
       "      <th></th>\n",
       "      <th></th>\n",
       "      <th></th>\n",
       "      <th></th>\n",
       "      <th></th>\n",
       "      <th></th>\n",
       "      <th></th>\n",
       "    </tr>\n",
       "  </thead>\n",
       "  <tbody>\n",
       "    <tr>\n",
       "      <th>1000</th>\n",
       "      <td>52</td>\n",
       "      <td>NaT</td>\n",
       "      <td>Краснодар</td>\n",
       "      <td>Рафаил</td>\n",
       "      <td>Верещагин</td>\n",
       "      <td>2018-05-25</td>\n",
       "      <td>ultra</td>\n",
       "    </tr>\n",
       "    <tr>\n",
       "      <th>1001</th>\n",
       "      <td>41</td>\n",
       "      <td>NaT</td>\n",
       "      <td>Москва</td>\n",
       "      <td>Иван</td>\n",
       "      <td>Ежов</td>\n",
       "      <td>2018-11-01</td>\n",
       "      <td>smart</td>\n",
       "    </tr>\n",
       "    <tr>\n",
       "      <th>1002</th>\n",
       "      <td>59</td>\n",
       "      <td>NaT</td>\n",
       "      <td>Стерлитамак</td>\n",
       "      <td>Евгений</td>\n",
       "      <td>Абрамович</td>\n",
       "      <td>2018-06-17</td>\n",
       "      <td>smart</td>\n",
       "    </tr>\n",
       "    <tr>\n",
       "      <th>1003</th>\n",
       "      <td>23</td>\n",
       "      <td>NaT</td>\n",
       "      <td>Москва</td>\n",
       "      <td>Белла</td>\n",
       "      <td>Белякова</td>\n",
       "      <td>2018-08-17</td>\n",
       "      <td>ultra</td>\n",
       "    </tr>\n",
       "    <tr>\n",
       "      <th>1004</th>\n",
       "      <td>68</td>\n",
       "      <td>NaT</td>\n",
       "      <td>Новокузнецк</td>\n",
       "      <td>Татьяна</td>\n",
       "      <td>Авдеенко</td>\n",
       "      <td>2018-05-14</td>\n",
       "      <td>ultra</td>\n",
       "    </tr>\n",
       "  </tbody>\n",
       "</table>\n",
       "</div>"
      ],
      "text/plain": [
       "         age churn_date         city first_name  last_name   reg_date tariff\n",
       "user_id                                                                     \n",
       "1000      52        NaT    Краснодар     Рафаил  Верещагин 2018-05-25  ultra\n",
       "1001      41        NaT       Москва       Иван       Ежов 2018-11-01  smart\n",
       "1002      59        NaT  Стерлитамак    Евгений  Абрамович 2018-06-17  smart\n",
       "1003      23        NaT       Москва      Белла   Белякова 2018-08-17  ultra\n",
       "1004      68        NaT  Новокузнецк    Татьяна   Авдеенко 2018-05-14  ultra"
      ]
     },
     "execution_count": 38,
     "metadata": {},
     "output_type": "execute_result"
    }
   ],
   "source": [
    "users.head()"
   ]
  },
  {
   "cell_type": "code",
   "execution_count": 43,
   "id": "b6713f4d",
   "metadata": {},
   "outputs": [
    {
     "data": {
      "text/plain": [
       "0"
      ]
     },
     "metadata": {},
     "output_type": "display_data"
    }
   ],
   "source": [
    "display(users.duplicated().sum())"
   ]
  },
  {
   "cell_type": "code",
   "execution_count": 44,
   "id": "5dca7c20",
   "metadata": {},
   "outputs": [],
   "source": [
    "for row in users['age']:\n",
    "    if row < 0:\n",
    "        display(row)"
   ]
  },
  {
   "cell_type": "code",
   "execution_count": 34,
   "id": "ac8512fa",
   "metadata": {},
   "outputs": [
    {
     "data": {
      "text/html": [
       "<div>\n",
       "<style scoped>\n",
       "    .dataframe tbody tr th:only-of-type {\n",
       "        vertical-align: middle;\n",
       "    }\n",
       "\n",
       "    .dataframe tbody tr th {\n",
       "        vertical-align: top;\n",
       "    }\n",
       "\n",
       "    .dataframe thead th {\n",
       "        text-align: right;\n",
       "    }\n",
       "</style>\n",
       "<table border=\"1\" class=\"dataframe\">\n",
       "  <thead>\n",
       "    <tr style=\"text-align: right;\">\n",
       "      <th></th>\n",
       "      <th>id</th>\n",
       "      <th>call_date</th>\n",
       "      <th>duration</th>\n",
       "      <th>user_id</th>\n",
       "      <th>month</th>\n",
       "    </tr>\n",
       "  </thead>\n",
       "  <tbody>\n",
       "    <tr>\n",
       "      <th>2</th>\n",
       "      <td>1000_2</td>\n",
       "      <td>2018-06-11</td>\n",
       "      <td>3</td>\n",
       "      <td>1000</td>\n",
       "      <td>June</td>\n",
       "    </tr>\n",
       "    <tr>\n",
       "      <th>3</th>\n",
       "      <td>1000_3</td>\n",
       "      <td>2018-09-21</td>\n",
       "      <td>14</td>\n",
       "      <td>1000</td>\n",
       "      <td>September</td>\n",
       "    </tr>\n",
       "    <tr>\n",
       "      <th>4</th>\n",
       "      <td>1000_4</td>\n",
       "      <td>2018-12-15</td>\n",
       "      <td>6</td>\n",
       "      <td>1000</td>\n",
       "      <td>December</td>\n",
       "    </tr>\n",
       "    <tr>\n",
       "      <th>7</th>\n",
       "      <td>1000_7</td>\n",
       "      <td>2018-08-22</td>\n",
       "      <td>19</td>\n",
       "      <td>1000</td>\n",
       "      <td>August</td>\n",
       "    </tr>\n",
       "    <tr>\n",
       "      <th>8</th>\n",
       "      <td>1000_8</td>\n",
       "      <td>2018-09-15</td>\n",
       "      <td>19</td>\n",
       "      <td>1000</td>\n",
       "      <td>September</td>\n",
       "    </tr>\n",
       "  </tbody>\n",
       "</table>\n",
       "</div>"
      ],
      "text/plain": [
       "       id  call_date  duration user_id      month\n",
       "2  1000_2 2018-06-11         3    1000       June\n",
       "3  1000_3 2018-09-21        14    1000  September\n",
       "4  1000_4 2018-12-15         6    1000   December\n",
       "7  1000_7 2018-08-22        19    1000     August\n",
       "8  1000_8 2018-09-15        19    1000  September"
      ]
     },
     "execution_count": 34,
     "metadata": {},
     "output_type": "execute_result"
    }
   ],
   "source": [
    "calls.head()"
   ]
  },
  {
   "cell_type": "code",
   "execution_count": 45,
   "id": "54347b97",
   "metadata": {},
   "outputs": [],
   "source": [
    "for row in calls['duration']:\n",
    "    if row < 0:\n",
    "        display(row)"
   ]
  },
  {
   "cell_type": "code",
   "execution_count": 31,
   "id": "0e8db228",
   "metadata": {},
   "outputs": [],
   "source": [
    "calls_month = calls.pivot_table(index=['user_id', 'month'], aggfunc={'duration': 'count'}).fillna(0).astype('int64')\n",
    "calls_month.columns = ['calls_count']\n",
    "duration_month = calls.pivot_table(index=['user_id', 'month'], aggfunc={'duration': 'sum'}).fillna(0).astype('int64')\n",
    "duration_month.columns = ['sum_duration']\n",
    "mb_used_month = internet.pivot_table(index=['user_id','month'], aggfunc={'mb_used': 'sum'}).fillna(0).astype('int64')\n",
    "mb_used_month = (mb_used_month['mb_used'] / 1024).apply(func_ceil)\n",
    "mb_used_month.columns = ['mb_used']\n",
    "messages_month = messages.pivot_table(index=['user_id','month'], aggfunc={'id': 'count'}).fillna(0).astype('int64')\n",
    "messages_month.columns = ['messages_count']"
   ]
  },
  {
   "cell_type": "code",
   "execution_count": 32,
   "id": "6724140b",
   "metadata": {},
   "outputs": [],
   "source": [
    "profit = calls_month.join([duration_month, messages_month, mb_used_month], how='outer').fillna(0).astype('int64')\n",
    "tariffs_grouped = {'smart' : tariffs.loc[:,'messages_included':'rub_per_minute'].loc[0], 'ultra' : tariffs.loc[:,'messages_included':'rub_per_minute'].loc[1]}\n",
    "profit = profit.join(users['tariff'])\n",
    "profit = profit.join(users['city'])"
   ]
  },
  {
   "cell_type": "code",
   "execution_count": 33,
   "id": "32e639ff",
   "metadata": {},
   "outputs": [
    {
     "data": {
      "text/html": [
       "<div>\n",
       "<style scoped>\n",
       "    .dataframe tbody tr th:only-of-type {\n",
       "        vertical-align: middle;\n",
       "    }\n",
       "\n",
       "    .dataframe tbody tr th {\n",
       "        vertical-align: top;\n",
       "    }\n",
       "\n",
       "    .dataframe thead th {\n",
       "        text-align: right;\n",
       "    }\n",
       "</style>\n",
       "<table border=\"1\" class=\"dataframe\">\n",
       "  <thead>\n",
       "    <tr style=\"text-align: right;\">\n",
       "      <th></th>\n",
       "      <th></th>\n",
       "      <th>calls_count</th>\n",
       "      <th>sum_duration</th>\n",
       "      <th>messages_count</th>\n",
       "      <th>mb_used</th>\n",
       "      <th>tariff</th>\n",
       "      <th>city</th>\n",
       "    </tr>\n",
       "    <tr>\n",
       "      <th>user_id</th>\n",
       "      <th>month</th>\n",
       "      <th></th>\n",
       "      <th></th>\n",
       "      <th></th>\n",
       "      <th></th>\n",
       "      <th></th>\n",
       "      <th></th>\n",
       "    </tr>\n",
       "  </thead>\n",
       "  <tbody>\n",
       "    <tr>\n",
       "      <th rowspan=\"8\" valign=\"top\">1000</th>\n",
       "      <th>August</th>\n",
       "      <td>41</td>\n",
       "      <td>384</td>\n",
       "      <td>81</td>\n",
       "      <td>14</td>\n",
       "      <td>ultra</td>\n",
       "      <td>Краснодар</td>\n",
       "    </tr>\n",
       "    <tr>\n",
       "      <th>December</th>\n",
       "      <td>37</td>\n",
       "      <td>309</td>\n",
       "      <td>70</td>\n",
       "      <td>10</td>\n",
       "      <td>ultra</td>\n",
       "      <td>Краснодар</td>\n",
       "    </tr>\n",
       "    <tr>\n",
       "      <th>July</th>\n",
       "      <td>41</td>\n",
       "      <td>340</td>\n",
       "      <td>75</td>\n",
       "      <td>14</td>\n",
       "      <td>ultra</td>\n",
       "      <td>Краснодар</td>\n",
       "    </tr>\n",
       "    <tr>\n",
       "      <th>June</th>\n",
       "      <td>28</td>\n",
       "      <td>172</td>\n",
       "      <td>60</td>\n",
       "      <td>22</td>\n",
       "      <td>ultra</td>\n",
       "      <td>Краснодар</td>\n",
       "    </tr>\n",
       "    <tr>\n",
       "      <th>May</th>\n",
       "      <td>17</td>\n",
       "      <td>159</td>\n",
       "      <td>22</td>\n",
       "      <td>3</td>\n",
       "      <td>ultra</td>\n",
       "      <td>Краснодар</td>\n",
       "    </tr>\n",
       "    <tr>\n",
       "      <th>November</th>\n",
       "      <td>36</td>\n",
       "      <td>313</td>\n",
       "      <td>58</td>\n",
       "      <td>12</td>\n",
       "      <td>ultra</td>\n",
       "      <td>Краснодар</td>\n",
       "    </tr>\n",
       "    <tr>\n",
       "      <th>October</th>\n",
       "      <td>43</td>\n",
       "      <td>327</td>\n",
       "      <td>73</td>\n",
       "      <td>15</td>\n",
       "      <td>ultra</td>\n",
       "      <td>Краснодар</td>\n",
       "    </tr>\n",
       "    <tr>\n",
       "      <th>September</th>\n",
       "      <td>46</td>\n",
       "      <td>466</td>\n",
       "      <td>57</td>\n",
       "      <td>15</td>\n",
       "      <td>ultra</td>\n",
       "      <td>Краснодар</td>\n",
       "    </tr>\n",
       "    <tr>\n",
       "      <th rowspan=\"2\" valign=\"top\">1001</th>\n",
       "      <th>December</th>\n",
       "      <td>47</td>\n",
       "      <td>414</td>\n",
       "      <td>0</td>\n",
       "      <td>14</td>\n",
       "      <td>smart</td>\n",
       "      <td>Москва</td>\n",
       "    </tr>\n",
       "    <tr>\n",
       "      <th>November</th>\n",
       "      <td>45</td>\n",
       "      <td>430</td>\n",
       "      <td>0</td>\n",
       "      <td>18</td>\n",
       "      <td>smart</td>\n",
       "      <td>Москва</td>\n",
       "    </tr>\n",
       "    <tr>\n",
       "      <th rowspan=\"5\" valign=\"top\">1002</th>\n",
       "      <th>August</th>\n",
       "      <td>37</td>\n",
       "      <td>289</td>\n",
       "      <td>13</td>\n",
       "      <td>20</td>\n",
       "      <td>smart</td>\n",
       "      <td>Стерлитамак</td>\n",
       "    </tr>\n",
       "    <tr>\n",
       "      <th>December</th>\n",
       "      <td>27</td>\n",
       "      <td>236</td>\n",
       "      <td>12</td>\n",
       "      <td>18</td>\n",
       "      <td>smart</td>\n",
       "      <td>Стерлитамак</td>\n",
       "    </tr>\n",
       "    <tr>\n",
       "      <th>July</th>\n",
       "      <td>20</td>\n",
       "      <td>187</td>\n",
       "      <td>11</td>\n",
       "      <td>18</td>\n",
       "      <td>smart</td>\n",
       "      <td>Стерлитамак</td>\n",
       "    </tr>\n",
       "    <tr>\n",
       "      <th>June</th>\n",
       "      <td>13</td>\n",
       "      <td>94</td>\n",
       "      <td>4</td>\n",
       "      <td>11</td>\n",
       "      <td>smart</td>\n",
       "      <td>Стерлитамак</td>\n",
       "    </tr>\n",
       "    <tr>\n",
       "      <th>November</th>\n",
       "      <td>25</td>\n",
       "      <td>243</td>\n",
       "      <td>16</td>\n",
       "      <td>19</td>\n",
       "      <td>smart</td>\n",
       "      <td>Стерлитамак</td>\n",
       "    </tr>\n",
       "  </tbody>\n",
       "</table>\n",
       "</div>"
      ],
      "text/plain": [
       "                   calls_count  sum_duration  messages_count  mb_used tariff  \\\n",
       "user_id month                                                                  \n",
       "1000    August              41           384              81       14  ultra   \n",
       "        December            37           309              70       10  ultra   \n",
       "        July                41           340              75       14  ultra   \n",
       "        June                28           172              60       22  ultra   \n",
       "        May                 17           159              22        3  ultra   \n",
       "        November            36           313              58       12  ultra   \n",
       "        October             43           327              73       15  ultra   \n",
       "        September           46           466              57       15  ultra   \n",
       "1001    December            47           414               0       14  smart   \n",
       "        November            45           430               0       18  smart   \n",
       "1002    August              37           289              13       20  smart   \n",
       "        December            27           236              12       18  smart   \n",
       "        July                20           187              11       18  smart   \n",
       "        June                13            94               4       11  smart   \n",
       "        November            25           243              16       19  smart   \n",
       "\n",
       "                          city  \n",
       "user_id month                   \n",
       "1000    August       Краснодар  \n",
       "        December     Краснодар  \n",
       "        July         Краснодар  \n",
       "        June         Краснодар  \n",
       "        May          Краснодар  \n",
       "        November     Краснодар  \n",
       "        October      Краснодар  \n",
       "        September    Краснодар  \n",
       "1001    December        Москва  \n",
       "        November        Москва  \n",
       "1002    August     Стерлитамак  \n",
       "        December   Стерлитамак  \n",
       "        July       Стерлитамак  \n",
       "        June       Стерлитамак  \n",
       "        November   Стерлитамак  "
      ]
     },
     "execution_count": 33,
     "metadata": {},
     "output_type": "execute_result"
    }
   ],
   "source": [
    "profit.head(15)"
   ]
  },
  {
   "cell_type": "code",
   "execution_count": 34,
   "id": "b37cf727",
   "metadata": {},
   "outputs": [],
   "source": [
    "def profit_calculation(row):\n",
    "    tariff_name = users.loc[row.name[0], 'tariff']\n",
    "    messages_included, mb_per_month_included, minutes_included, monthly_fee, rub_per_gb , rub_per_message, rub_per_minute = tariffs_grouped[tariff_name]\n",
    "    result = monthly_fee\n",
    "    if row['sum_duration'] > minutes_included:\n",
    "        result_minutes = (row['sum_duration'] - minutes_included) * rub_per_minute\n",
    "        result += result_minutes\n",
    "    if row['messages_count'] > messages_included:\n",
    "        result_messages = (row['messages_count'] - messages_included) * rub_per_message\n",
    "        result += result_messages\n",
    "    if row['mb_used'] > mb_per_month_included:\n",
    "        result_mb = (row['mb_used'] - mb_per_month_included) * rub_per_gb\n",
    "        result += result_mb\n",
    "    return result\n"
   ]
  },
  {
   "cell_type": "code",
   "execution_count": 35,
   "id": "2e9ee2c3",
   "metadata": {},
   "outputs": [
    {
     "data": {
      "text/html": [
       "<div>\n",
       "<style scoped>\n",
       "    .dataframe tbody tr th:only-of-type {\n",
       "        vertical-align: middle;\n",
       "    }\n",
       "\n",
       "    .dataframe tbody tr th {\n",
       "        vertical-align: top;\n",
       "    }\n",
       "\n",
       "    .dataframe thead th {\n",
       "        text-align: right;\n",
       "    }\n",
       "</style>\n",
       "<table border=\"1\" class=\"dataframe\">\n",
       "  <thead>\n",
       "    <tr style=\"text-align: right;\">\n",
       "      <th></th>\n",
       "      <th></th>\n",
       "      <th>calls_count</th>\n",
       "      <th>sum_duration</th>\n",
       "      <th>messages_count</th>\n",
       "      <th>mb_used</th>\n",
       "      <th>tariff</th>\n",
       "      <th>city</th>\n",
       "      <th>total</th>\n",
       "    </tr>\n",
       "    <tr>\n",
       "      <th>user_id</th>\n",
       "      <th>month</th>\n",
       "      <th></th>\n",
       "      <th></th>\n",
       "      <th></th>\n",
       "      <th></th>\n",
       "      <th></th>\n",
       "      <th></th>\n",
       "      <th></th>\n",
       "    </tr>\n",
       "  </thead>\n",
       "  <tbody>\n",
       "    <tr>\n",
       "      <th rowspan=\"8\" valign=\"top\">1000</th>\n",
       "      <th>August</th>\n",
       "      <td>41</td>\n",
       "      <td>384</td>\n",
       "      <td>81</td>\n",
       "      <td>14</td>\n",
       "      <td>ultra</td>\n",
       "      <td>Краснодар</td>\n",
       "      <td>1950.0</td>\n",
       "    </tr>\n",
       "    <tr>\n",
       "      <th>December</th>\n",
       "      <td>37</td>\n",
       "      <td>309</td>\n",
       "      <td>70</td>\n",
       "      <td>10</td>\n",
       "      <td>ultra</td>\n",
       "      <td>Краснодар</td>\n",
       "      <td>1950.0</td>\n",
       "    </tr>\n",
       "    <tr>\n",
       "      <th>July</th>\n",
       "      <td>41</td>\n",
       "      <td>340</td>\n",
       "      <td>75</td>\n",
       "      <td>14</td>\n",
       "      <td>ultra</td>\n",
       "      <td>Краснодар</td>\n",
       "      <td>1950.0</td>\n",
       "    </tr>\n",
       "    <tr>\n",
       "      <th>June</th>\n",
       "      <td>28</td>\n",
       "      <td>172</td>\n",
       "      <td>60</td>\n",
       "      <td>22</td>\n",
       "      <td>ultra</td>\n",
       "      <td>Краснодар</td>\n",
       "      <td>1950.0</td>\n",
       "    </tr>\n",
       "    <tr>\n",
       "      <th>May</th>\n",
       "      <td>17</td>\n",
       "      <td>159</td>\n",
       "      <td>22</td>\n",
       "      <td>3</td>\n",
       "      <td>ultra</td>\n",
       "      <td>Краснодар</td>\n",
       "      <td>1950.0</td>\n",
       "    </tr>\n",
       "    <tr>\n",
       "      <th>November</th>\n",
       "      <td>36</td>\n",
       "      <td>313</td>\n",
       "      <td>58</td>\n",
       "      <td>12</td>\n",
       "      <td>ultra</td>\n",
       "      <td>Краснодар</td>\n",
       "      <td>1950.0</td>\n",
       "    </tr>\n",
       "    <tr>\n",
       "      <th>October</th>\n",
       "      <td>43</td>\n",
       "      <td>327</td>\n",
       "      <td>73</td>\n",
       "      <td>15</td>\n",
       "      <td>ultra</td>\n",
       "      <td>Краснодар</td>\n",
       "      <td>1950.0</td>\n",
       "    </tr>\n",
       "    <tr>\n",
       "      <th>September</th>\n",
       "      <td>46</td>\n",
       "      <td>466</td>\n",
       "      <td>57</td>\n",
       "      <td>15</td>\n",
       "      <td>ultra</td>\n",
       "      <td>Краснодар</td>\n",
       "      <td>1950.0</td>\n",
       "    </tr>\n",
       "    <tr>\n",
       "      <th rowspan=\"2\" valign=\"top\">1001</th>\n",
       "      <th>December</th>\n",
       "      <td>47</td>\n",
       "      <td>414</td>\n",
       "      <td>0</td>\n",
       "      <td>14</td>\n",
       "      <td>smart</td>\n",
       "      <td>Москва</td>\n",
       "      <td>550.0</td>\n",
       "    </tr>\n",
       "    <tr>\n",
       "      <th>November</th>\n",
       "      <td>45</td>\n",
       "      <td>430</td>\n",
       "      <td>0</td>\n",
       "      <td>18</td>\n",
       "      <td>smart</td>\n",
       "      <td>Москва</td>\n",
       "      <td>1150.0</td>\n",
       "    </tr>\n",
       "    <tr>\n",
       "      <th rowspan=\"5\" valign=\"top\">1002</th>\n",
       "      <th>August</th>\n",
       "      <td>37</td>\n",
       "      <td>289</td>\n",
       "      <td>13</td>\n",
       "      <td>20</td>\n",
       "      <td>smart</td>\n",
       "      <td>Стерлитамак</td>\n",
       "      <td>1550.0</td>\n",
       "    </tr>\n",
       "    <tr>\n",
       "      <th>December</th>\n",
       "      <td>27</td>\n",
       "      <td>236</td>\n",
       "      <td>12</td>\n",
       "      <td>18</td>\n",
       "      <td>smart</td>\n",
       "      <td>Стерлитамак</td>\n",
       "      <td>1150.0</td>\n",
       "    </tr>\n",
       "    <tr>\n",
       "      <th>July</th>\n",
       "      <td>20</td>\n",
       "      <td>187</td>\n",
       "      <td>11</td>\n",
       "      <td>18</td>\n",
       "      <td>smart</td>\n",
       "      <td>Стерлитамак</td>\n",
       "      <td>1150.0</td>\n",
       "    </tr>\n",
       "    <tr>\n",
       "      <th>June</th>\n",
       "      <td>13</td>\n",
       "      <td>94</td>\n",
       "      <td>4</td>\n",
       "      <td>11</td>\n",
       "      <td>smart</td>\n",
       "      <td>Стерлитамак</td>\n",
       "      <td>550.0</td>\n",
       "    </tr>\n",
       "    <tr>\n",
       "      <th>November</th>\n",
       "      <td>25</td>\n",
       "      <td>243</td>\n",
       "      <td>16</td>\n",
       "      <td>19</td>\n",
       "      <td>smart</td>\n",
       "      <td>Стерлитамак</td>\n",
       "      <td>1350.0</td>\n",
       "    </tr>\n",
       "  </tbody>\n",
       "</table>\n",
       "</div>"
      ],
      "text/plain": [
       "                   calls_count  sum_duration  messages_count  mb_used tariff  \\\n",
       "user_id month                                                                  \n",
       "1000    August              41           384              81       14  ultra   \n",
       "        December            37           309              70       10  ultra   \n",
       "        July                41           340              75       14  ultra   \n",
       "        June                28           172              60       22  ultra   \n",
       "        May                 17           159              22        3  ultra   \n",
       "        November            36           313              58       12  ultra   \n",
       "        October             43           327              73       15  ultra   \n",
       "        September           46           466              57       15  ultra   \n",
       "1001    December            47           414               0       14  smart   \n",
       "        November            45           430               0       18  smart   \n",
       "1002    August              37           289              13       20  smart   \n",
       "        December            27           236              12       18  smart   \n",
       "        July                20           187              11       18  smart   \n",
       "        June                13            94               4       11  smart   \n",
       "        November            25           243              16       19  smart   \n",
       "\n",
       "                          city   total  \n",
       "user_id month                           \n",
       "1000    August       Краснодар  1950.0  \n",
       "        December     Краснодар  1950.0  \n",
       "        July         Краснодар  1950.0  \n",
       "        June         Краснодар  1950.0  \n",
       "        May          Краснодар  1950.0  \n",
       "        November     Краснодар  1950.0  \n",
       "        October      Краснодар  1950.0  \n",
       "        September    Краснодар  1950.0  \n",
       "1001    December        Москва   550.0  \n",
       "        November        Москва  1150.0  \n",
       "1002    August     Стерлитамак  1550.0  \n",
       "        December   Стерлитамак  1150.0  \n",
       "        July       Стерлитамак  1150.0  \n",
       "        June       Стерлитамак   550.0  \n",
       "        November   Стерлитамак  1350.0  "
      ]
     },
     "metadata": {},
     "output_type": "display_data"
    }
   ],
   "source": [
    "profit['total'] = profit.apply(profit_calculation, axis=1)\n",
    "display(profit.head(15))"
   ]
  },
  {
   "cell_type": "markdown",
   "id": "c0bf30b1",
   "metadata": {},
   "source": [
    "## Минивывод:\n",
    "Опишу все действия последовательно.В данном разделе мы сначала создали функцию:она округляет число в бОльшую сторону,она нам требовалась для столбцов duration и mb_used,т.к это было необходимо в следствие примечания*.Потом мы дропнули все звонки с длительностью в 0 секунд,ибо их было много и при построении гистограмм они бы искажали данных.Позже мы добавили в датафреймы df_calls, df_internet и df_messages столбец с месяцем.Далее мы ввели новые индексы в df_users.Потом создали пивот таблицы с кол-вом звонков для каждого пользователя,общую длительность разговоров для каждого пользователя, общее кол-во сообщений для каждого пользователя и потраченного интернет-трафика.И в конце концов мы посчитали прибыль.Для этого нам тоже потребовалось создание функции и объединение всех пивот таблиц в одну. \n",
    "### *Примечание\n",
    "«Мегалайн» всегда округляет секунды до минут, а мегабайты — до гигабайт. Каждый звонок округляется отдельно: даже если он длился всего 1 секунду, будет засчитан как 1 минута.\n",
    "Для веб-трафика отдельные сессии не считаются. Вместо этого общая сумма за месяц округляется в бо́льшую сторону. Если абонент использует 1025 мегабайт в этом месяце, с него возьмут плату за 2 гигабайта."
   ]
  },
  {
   "cell_type": "markdown",
   "id": "208a3f10",
   "metadata": {},
   "source": [
    "# Анализ данных"
   ]
  },
  {
   "cell_type": "markdown",
   "id": "686ebe8d",
   "metadata": {},
   "source": [
    "В этом разделе мы опишем поведение клиентов оператора, исходя из выборки.Определим сколько минут разговора, сколько сообщений и какой объём интернет-трафика требуется пользователям каждого тарифа в месяц. Посчитаем среднее количество, дисперсию и стандартное отклонение. Построим гистограммы. Опишем распределения."
   ]
  },
  {
   "cell_type": "code",
   "execution_count": 36,
   "id": "b5e20b36",
   "metadata": {},
   "outputs": [
    {
     "data": {
      "text/html": [
       "<div>\n",
       "<style scoped>\n",
       "    .dataframe tbody tr th:only-of-type {\n",
       "        vertical-align: middle;\n",
       "    }\n",
       "\n",
       "    .dataframe tbody tr th {\n",
       "        vertical-align: top;\n",
       "    }\n",
       "\n",
       "    .dataframe thead tr th {\n",
       "        text-align: left;\n",
       "    }\n",
       "\n",
       "    .dataframe thead tr:last-of-type th {\n",
       "        text-align: right;\n",
       "    }\n",
       "</style>\n",
       "<table border=\"1\" class=\"dataframe\">\n",
       "  <thead>\n",
       "    <tr>\n",
       "      <th></th>\n",
       "      <th colspan=\"2\" halign=\"left\">calls_count</th>\n",
       "    </tr>\n",
       "    <tr>\n",
       "      <th>tariff</th>\n",
       "      <th>smart</th>\n",
       "      <th>ultra</th>\n",
       "    </tr>\n",
       "    <tr>\n",
       "      <th>month</th>\n",
       "      <th></th>\n",
       "      <th></th>\n",
       "    </tr>\n",
       "  </thead>\n",
       "  <tbody>\n",
       "    <tr>\n",
       "      <th>April</th>\n",
       "      <td>40.973214</td>\n",
       "      <td>51.072727</td>\n",
       "    </tr>\n",
       "    <tr>\n",
       "      <th>August</th>\n",
       "      <td>46.621277</td>\n",
       "      <td>56.850467</td>\n",
       "    </tr>\n",
       "    <tr>\n",
       "      <th>December</th>\n",
       "      <td>52.884273</td>\n",
       "      <td>66.107914</td>\n",
       "    </tr>\n",
       "    <tr>\n",
       "      <th>February</th>\n",
       "      <td>32.120690</td>\n",
       "      <td>33.750000</td>\n",
       "    </tr>\n",
       "    <tr>\n",
       "      <th>January</th>\n",
       "      <td>21.588235</td>\n",
       "      <td>45.666667</td>\n",
       "    </tr>\n",
       "    <tr>\n",
       "      <th>July</th>\n",
       "      <td>45.129353</td>\n",
       "      <td>60.461538</td>\n",
       "    </tr>\n",
       "    <tr>\n",
       "      <th>June</th>\n",
       "      <td>43.902439</td>\n",
       "      <td>53.261905</td>\n",
       "    </tr>\n",
       "    <tr>\n",
       "      <th>March</th>\n",
       "      <td>43.272727</td>\n",
       "      <td>53.054054</td>\n",
       "    </tr>\n",
       "    <tr>\n",
       "      <th>May</th>\n",
       "      <td>43.659574</td>\n",
       "      <td>57.119403</td>\n",
       "    </tr>\n",
       "    <tr>\n",
       "      <th>November</th>\n",
       "      <td>48.462025</td>\n",
       "      <td>59.791045</td>\n",
       "    </tr>\n",
       "    <tr>\n",
       "      <th>October</th>\n",
       "      <td>47.217687</td>\n",
       "      <td>61.764228</td>\n",
       "    </tr>\n",
       "    <tr>\n",
       "      <th>September</th>\n",
       "      <td>47.384615</td>\n",
       "      <td>59.556522</td>\n",
       "    </tr>\n",
       "  </tbody>\n",
       "</table>\n",
       "</div>"
      ],
      "text/plain": [
       "          calls_count           \n",
       "tariff          smart      ultra\n",
       "month                           \n",
       "April       40.973214  51.072727\n",
       "August      46.621277  56.850467\n",
       "December    52.884273  66.107914\n",
       "February    32.120690  33.750000\n",
       "January     21.588235  45.666667\n",
       "July        45.129353  60.461538\n",
       "June        43.902439  53.261905\n",
       "March       43.272727  53.054054\n",
       "May         43.659574  57.119403\n",
       "November    48.462025  59.791045\n",
       "October     47.217687  61.764228\n",
       "September   47.384615  59.556522"
      ]
     },
     "metadata": {},
     "output_type": "display_data"
    },
    {
     "data": {
      "text/html": [
       "<div>\n",
       "<style scoped>\n",
       "    .dataframe tbody tr th:only-of-type {\n",
       "        vertical-align: middle;\n",
       "    }\n",
       "\n",
       "    .dataframe tbody tr th {\n",
       "        vertical-align: top;\n",
       "    }\n",
       "\n",
       "    .dataframe thead tr th {\n",
       "        text-align: left;\n",
       "    }\n",
       "\n",
       "    .dataframe thead tr:last-of-type th {\n",
       "        text-align: right;\n",
       "    }\n",
       "</style>\n",
       "<table border=\"1\" class=\"dataframe\">\n",
       "  <thead>\n",
       "    <tr>\n",
       "      <th></th>\n",
       "      <th colspan=\"2\" halign=\"left\">sum_duration</th>\n",
       "    </tr>\n",
       "    <tr>\n",
       "      <th>tariff</th>\n",
       "      <th>smart</th>\n",
       "      <th>ultra</th>\n",
       "    </tr>\n",
       "    <tr>\n",
       "      <th>month</th>\n",
       "      <th></th>\n",
       "      <th></th>\n",
       "    </tr>\n",
       "  </thead>\n",
       "  <tbody>\n",
       "    <tr>\n",
       "      <th>April</th>\n",
       "      <td>355.223214</td>\n",
       "      <td>433.418182</td>\n",
       "    </tr>\n",
       "    <tr>\n",
       "      <th>August</th>\n",
       "      <td>405.757447</td>\n",
       "      <td>494.822430</td>\n",
       "    </tr>\n",
       "    <tr>\n",
       "      <th>December</th>\n",
       "      <td>459.908012</td>\n",
       "      <td>570.719424</td>\n",
       "    </tr>\n",
       "    <tr>\n",
       "      <th>February</th>\n",
       "      <td>287.517241</td>\n",
       "      <td>291.041667</td>\n",
       "    </tr>\n",
       "    <tr>\n",
       "      <th>January</th>\n",
       "      <td>196.588235</td>\n",
       "      <td>403.555556</td>\n",
       "    </tr>\n",
       "    <tr>\n",
       "      <th>July</th>\n",
       "      <td>391.900498</td>\n",
       "      <td>525.538462</td>\n",
       "    </tr>\n",
       "    <tr>\n",
       "      <th>June</th>\n",
       "      <td>381.085366</td>\n",
       "      <td>460.761905</td>\n",
       "    </tr>\n",
       "    <tr>\n",
       "      <th>March</th>\n",
       "      <td>376.064935</td>\n",
       "      <td>460.324324</td>\n",
       "    </tr>\n",
       "    <tr>\n",
       "      <th>May</th>\n",
       "      <td>374.191489</td>\n",
       "      <td>489.134328</td>\n",
       "    </tr>\n",
       "    <tr>\n",
       "      <th>November</th>\n",
       "      <td>417.873418</td>\n",
       "      <td>518.731343</td>\n",
       "    </tr>\n",
       "    <tr>\n",
       "      <th>October</th>\n",
       "      <td>411.513605</td>\n",
       "      <td>536.650407</td>\n",
       "    </tr>\n",
       "    <tr>\n",
       "      <th>September</th>\n",
       "      <td>411.384615</td>\n",
       "      <td>518.408696</td>\n",
       "    </tr>\n",
       "  </tbody>\n",
       "</table>\n",
       "</div>"
      ],
      "text/plain": [
       "          sum_duration            \n",
       "tariff           smart       ultra\n",
       "month                             \n",
       "April       355.223214  433.418182\n",
       "August      405.757447  494.822430\n",
       "December    459.908012  570.719424\n",
       "February    287.517241  291.041667\n",
       "January     196.588235  403.555556\n",
       "July        391.900498  525.538462\n",
       "June        381.085366  460.761905\n",
       "March       376.064935  460.324324\n",
       "May         374.191489  489.134328\n",
       "November    417.873418  518.731343\n",
       "October     411.513605  536.650407\n",
       "September   411.384615  518.408696"
      ]
     },
     "metadata": {},
     "output_type": "display_data"
    },
    {
     "data": {
      "text/html": [
       "<div>\n",
       "<style scoped>\n",
       "    .dataframe tbody tr th:only-of-type {\n",
       "        vertical-align: middle;\n",
       "    }\n",
       "\n",
       "    .dataframe tbody tr th {\n",
       "        vertical-align: top;\n",
       "    }\n",
       "\n",
       "    .dataframe thead tr th {\n",
       "        text-align: left;\n",
       "    }\n",
       "\n",
       "    .dataframe thead tr:last-of-type th {\n",
       "        text-align: right;\n",
       "    }\n",
       "</style>\n",
       "<table border=\"1\" class=\"dataframe\">\n",
       "  <thead>\n",
       "    <tr>\n",
       "      <th></th>\n",
       "      <th colspan=\"2\" halign=\"left\">messages_count</th>\n",
       "    </tr>\n",
       "    <tr>\n",
       "      <th>tariff</th>\n",
       "      <th>smart</th>\n",
       "      <th>ultra</th>\n",
       "    </tr>\n",
       "    <tr>\n",
       "      <th>month</th>\n",
       "      <th></th>\n",
       "      <th></th>\n",
       "    </tr>\n",
       "  </thead>\n",
       "  <tbody>\n",
       "    <tr>\n",
       "      <th>April</th>\n",
       "      <td>30.741071</td>\n",
       "      <td>31.563636</td>\n",
       "    </tr>\n",
       "    <tr>\n",
       "      <th>August</th>\n",
       "      <td>33.638298</td>\n",
       "      <td>48.439252</td>\n",
       "    </tr>\n",
       "    <tr>\n",
       "      <th>December</th>\n",
       "      <td>35.994065</td>\n",
       "      <td>60.611511</td>\n",
       "    </tr>\n",
       "    <tr>\n",
       "      <th>February</th>\n",
       "      <td>24.086207</td>\n",
       "      <td>21.958333</td>\n",
       "    </tr>\n",
       "    <tr>\n",
       "      <th>January</th>\n",
       "      <td>18.235294</td>\n",
       "      <td>33.777778</td>\n",
       "    </tr>\n",
       "    <tr>\n",
       "      <th>July</th>\n",
       "      <td>33.751244</td>\n",
       "      <td>49.846154</td>\n",
       "    </tr>\n",
       "    <tr>\n",
       "      <th>June</th>\n",
       "      <td>33.402439</td>\n",
       "      <td>41.726190</td>\n",
       "    </tr>\n",
       "    <tr>\n",
       "      <th>March</th>\n",
       "      <td>31.857143</td>\n",
       "      <td>32.297297</td>\n",
       "    </tr>\n",
       "    <tr>\n",
       "      <th>May</th>\n",
       "      <td>33.773050</td>\n",
       "      <td>37.850746</td>\n",
       "    </tr>\n",
       "    <tr>\n",
       "      <th>November</th>\n",
       "      <td>34.075949</td>\n",
       "      <td>55.791045</td>\n",
       "    </tr>\n",
       "    <tr>\n",
       "      <th>October</th>\n",
       "      <td>33.765306</td>\n",
       "      <td>58.430894</td>\n",
       "    </tr>\n",
       "    <tr>\n",
       "      <th>September</th>\n",
       "      <td>33.638462</td>\n",
       "      <td>52.286957</td>\n",
       "    </tr>\n",
       "  </tbody>\n",
       "</table>\n",
       "</div>"
      ],
      "text/plain": [
       "          messages_count           \n",
       "tariff             smart      ultra\n",
       "month                              \n",
       "April          30.741071  31.563636\n",
       "August         33.638298  48.439252\n",
       "December       35.994065  60.611511\n",
       "February       24.086207  21.958333\n",
       "January        18.235294  33.777778\n",
       "July           33.751244  49.846154\n",
       "June           33.402439  41.726190\n",
       "March          31.857143  32.297297\n",
       "May            33.773050  37.850746\n",
       "November       34.075949  55.791045\n",
       "October        33.765306  58.430894\n",
       "September      33.638462  52.286957"
      ]
     },
     "metadata": {},
     "output_type": "display_data"
    },
    {
     "data": {
      "text/html": [
       "<div>\n",
       "<style scoped>\n",
       "    .dataframe tbody tr th:only-of-type {\n",
       "        vertical-align: middle;\n",
       "    }\n",
       "\n",
       "    .dataframe tbody tr th {\n",
       "        vertical-align: top;\n",
       "    }\n",
       "\n",
       "    .dataframe thead tr th {\n",
       "        text-align: left;\n",
       "    }\n",
       "\n",
       "    .dataframe thead tr:last-of-type th {\n",
       "        text-align: right;\n",
       "    }\n",
       "</style>\n",
       "<table border=\"1\" class=\"dataframe\">\n",
       "  <thead>\n",
       "    <tr>\n",
       "      <th></th>\n",
       "      <th colspan=\"2\" halign=\"left\">mb_used</th>\n",
       "    </tr>\n",
       "    <tr>\n",
       "      <th>tariff</th>\n",
       "      <th>smart</th>\n",
       "      <th>ultra</th>\n",
       "    </tr>\n",
       "    <tr>\n",
       "      <th>month</th>\n",
       "      <th></th>\n",
       "      <th></th>\n",
       "    </tr>\n",
       "  </thead>\n",
       "  <tbody>\n",
       "    <tr>\n",
       "      <th>April</th>\n",
       "      <td>13.571429</td>\n",
       "      <td>16.345455</td>\n",
       "    </tr>\n",
       "    <tr>\n",
       "      <th>August</th>\n",
       "      <td>16.600000</td>\n",
       "      <td>19.186916</td>\n",
       "    </tr>\n",
       "    <tr>\n",
       "      <th>December</th>\n",
       "      <td>18.127596</td>\n",
       "      <td>21.273381</td>\n",
       "    </tr>\n",
       "    <tr>\n",
       "      <th>February</th>\n",
       "      <td>11.775862</td>\n",
       "      <td>11.708333</td>\n",
       "    </tr>\n",
       "    <tr>\n",
       "      <th>January</th>\n",
       "      <td>8.735294</td>\n",
       "      <td>12.888889</td>\n",
       "    </tr>\n",
       "    <tr>\n",
       "      <th>July</th>\n",
       "      <td>15.820896</td>\n",
       "      <td>19.956044</td>\n",
       "    </tr>\n",
       "    <tr>\n",
       "      <th>June</th>\n",
       "      <td>15.853659</td>\n",
       "      <td>18.369048</td>\n",
       "    </tr>\n",
       "    <tr>\n",
       "      <th>March</th>\n",
       "      <td>15.168831</td>\n",
       "      <td>17.081081</td>\n",
       "    </tr>\n",
       "    <tr>\n",
       "      <th>May</th>\n",
       "      <td>15.765957</td>\n",
       "      <td>19.014925</td>\n",
       "    </tr>\n",
       "    <tr>\n",
       "      <th>November</th>\n",
       "      <td>16.911392</td>\n",
       "      <td>19.328358</td>\n",
       "    </tr>\n",
       "    <tr>\n",
       "      <th>October</th>\n",
       "      <td>16.765306</td>\n",
       "      <td>19.487805</td>\n",
       "    </tr>\n",
       "    <tr>\n",
       "      <th>September</th>\n",
       "      <td>16.315385</td>\n",
       "      <td>18.730435</td>\n",
       "    </tr>\n",
       "  </tbody>\n",
       "</table>\n",
       "</div>"
      ],
      "text/plain": [
       "             mb_used           \n",
       "tariff         smart      ultra\n",
       "month                          \n",
       "April      13.571429  16.345455\n",
       "August     16.600000  19.186916\n",
       "December   18.127596  21.273381\n",
       "February   11.775862  11.708333\n",
       "January     8.735294  12.888889\n",
       "July       15.820896  19.956044\n",
       "June       15.853659  18.369048\n",
       "March      15.168831  17.081081\n",
       "May        15.765957  19.014925\n",
       "November   16.911392  19.328358\n",
       "October    16.765306  19.487805\n",
       "September  16.315385  18.730435"
      ]
     },
     "metadata": {},
     "output_type": "display_data"
    },
    {
     "data": {
      "image/png": "[encoded data removed]",
      "text/plain": [
       "<Figure size 432x288 with 1 Axes>"
      ]
     },
     "metadata": {
      "needs_background": "light"
     },
     "output_type": "display_data"
    },
    {
     "data": {
      "image/png": "[encoded data removed]",
      "text/plain": [
       "<Figure size 432x288 with 1 Axes>"
      ]
     },
     "metadata": {
      "needs_background": "light"
     },
     "output_type": "display_data"
    },
    {
     "data": {
      "image/png": "[encoded data removed]",
      "text/plain": [
       "<Figure size 432x288 with 1 Axes>"
      ]
     },
     "metadata": {
      "needs_background": "light"
     },
     "output_type": "display_data"
    },
    {
     "data": {
      "image/png": "[encoded data removed]",
      "text/plain": [
       "<Figure size 432x288 with 1 Axes>"
      ]
     },
     "metadata": {
      "needs_background": "light"
     },
     "output_type": "display_data"
    },
    {
     "data": {
      "image/png": "[encoded data removed]",
      "text/plain": [
       "<Figure size 432x288 with 1 Axes>"
      ]
     },
     "metadata": {
      "needs_background": "light"
     },
     "output_type": "display_data"
    },
    {
     "data": {
      "image/png": "[encoded data removed]",
      "text/plain": [
       "<Figure size 432x288 with 1 Axes>"
      ]
     },
     "metadata": {
      "needs_background": "light"
     },
     "output_type": "display_data"
    },
    {
     "data": {
      "image/png": "[encoded data removed]",
      "text/plain": [
       "<Figure size 432x288 with 1 Axes>"
      ]
     },
     "metadata": {
      "needs_background": "light"
     },
     "output_type": "display_data"
    },
    {
     "data": {
      "image/png": "[encoded data removed]",
      "text/plain": [
       "<Figure size 432x288 with 1 Axes>"
      ]
     },
     "metadata": {
      "needs_background": "light"
     },
     "output_type": "display_data"
    }
   ],
   "source": [
    "for column in profit.loc[:,'calls_count': 'mb_used']:\n",
    "    profit_mean = profit.pivot_table(index='month' ,columns='tariff', aggfunc={column: 'mean'})\n",
    "    profit.query(\"tariff == 'smart'\").hist(column)\n",
    "    profit.query(\"tariff == 'ultra'\").hist(column)\n",
    "    display(profit_mean)"
   ]
  },
  {
   "cell_type": "code",
   "execution_count": 37,
   "id": "80f0cc88",
   "metadata": {},
   "outputs": [
    {
     "data": {
      "text/html": [
       "<div>\n",
       "<style scoped>\n",
       "    .dataframe tbody tr th:only-of-type {\n",
       "        vertical-align: middle;\n",
       "    }\n",
       "\n",
       "    .dataframe tbody tr th {\n",
       "        vertical-align: top;\n",
       "    }\n",
       "\n",
       "    .dataframe thead tr th {\n",
       "        text-align: left;\n",
       "    }\n",
       "\n",
       "    .dataframe thead tr:last-of-type th {\n",
       "        text-align: right;\n",
       "    }\n",
       "</style>\n",
       "<table border=\"1\" class=\"dataframe\">\n",
       "  <thead>\n",
       "    <tr>\n",
       "      <th></th>\n",
       "      <th colspan=\"2\" halign=\"left\">calls_count</th>\n",
       "    </tr>\n",
       "    <tr>\n",
       "      <th>tariff</th>\n",
       "      <th>smart</th>\n",
       "      <th>ultra</th>\n",
       "    </tr>\n",
       "    <tr>\n",
       "      <th>month</th>\n",
       "      <th></th>\n",
       "      <th></th>\n",
       "    </tr>\n",
       "  </thead>\n",
       "  <tbody>\n",
       "    <tr>\n",
       "      <th>April</th>\n",
       "      <td>423.071348</td>\n",
       "      <td>831.920539</td>\n",
       "    </tr>\n",
       "    <tr>\n",
       "      <th>August</th>\n",
       "      <td>405.509802</td>\n",
       "      <td>1227.826486</td>\n",
       "    </tr>\n",
       "    <tr>\n",
       "      <th>December</th>\n",
       "      <td>475.346686</td>\n",
       "      <td>1459.401314</td>\n",
       "    </tr>\n",
       "    <tr>\n",
       "      <th>February</th>\n",
       "      <td>436.774652</td>\n",
       "      <td>1076.717391</td>\n",
       "    </tr>\n",
       "    <tr>\n",
       "      <th>January</th>\n",
       "      <td>254.855615</td>\n",
       "      <td>944.000000</td>\n",
       "    </tr>\n",
       "    <tr>\n",
       "      <th>July</th>\n",
       "      <td>389.963184</td>\n",
       "      <td>1148.495726</td>\n",
       "    </tr>\n",
       "    <tr>\n",
       "      <th>June</th>\n",
       "      <td>371.904534</td>\n",
       "      <td>1046.267929</td>\n",
       "    </tr>\n",
       "    <tr>\n",
       "      <th>March</th>\n",
       "      <td>430.174641</td>\n",
       "      <td>1263.052553</td>\n",
       "    </tr>\n",
       "    <tr>\n",
       "      <th>May</th>\n",
       "      <td>427.340426</td>\n",
       "      <td>1057.924921</td>\n",
       "    </tr>\n",
       "    <tr>\n",
       "      <th>November</th>\n",
       "      <td>372.452522</td>\n",
       "      <td>1184.196611</td>\n",
       "    </tr>\n",
       "    <tr>\n",
       "      <th>October</th>\n",
       "      <td>414.614567</td>\n",
       "      <td>1315.066907</td>\n",
       "    </tr>\n",
       "    <tr>\n",
       "      <th>September</th>\n",
       "      <td>396.114048</td>\n",
       "      <td>1293.863005</td>\n",
       "    </tr>\n",
       "  </tbody>\n",
       "</table>\n",
       "</div>"
      ],
      "text/plain": [
       "          calls_count             \n",
       "tariff          smart        ultra\n",
       "month                             \n",
       "April      423.071348   831.920539\n",
       "August     405.509802  1227.826486\n",
       "December   475.346686  1459.401314\n",
       "February   436.774652  1076.717391\n",
       "January    254.855615   944.000000\n",
       "July       389.963184  1148.495726\n",
       "June       371.904534  1046.267929\n",
       "March      430.174641  1263.052553\n",
       "May        427.340426  1057.924921\n",
       "November   372.452522  1184.196611\n",
       "October    414.614567  1315.066907\n",
       "September  396.114048  1293.863005"
      ]
     },
     "metadata": {},
     "output_type": "display_data"
    },
    {
     "data": {
      "text/html": [
       "<div>\n",
       "<style scoped>\n",
       "    .dataframe tbody tr th:only-of-type {\n",
       "        vertical-align: middle;\n",
       "    }\n",
       "\n",
       "    .dataframe tbody tr th {\n",
       "        vertical-align: top;\n",
       "    }\n",
       "\n",
       "    .dataframe thead tr th {\n",
       "        text-align: left;\n",
       "    }\n",
       "\n",
       "    .dataframe thead tr:last-of-type th {\n",
       "        text-align: right;\n",
       "    }\n",
       "</style>\n",
       "<table border=\"1\" class=\"dataframe\">\n",
       "  <thead>\n",
       "    <tr>\n",
       "      <th></th>\n",
       "      <th colspan=\"2\" halign=\"left\">sum_duration</th>\n",
       "    </tr>\n",
       "    <tr>\n",
       "      <th>tariff</th>\n",
       "      <th>smart</th>\n",
       "      <th>ultra</th>\n",
       "    </tr>\n",
       "    <tr>\n",
       "      <th>month</th>\n",
       "      <th></th>\n",
       "      <th></th>\n",
       "    </tr>\n",
       "  </thead>\n",
       "  <tbody>\n",
       "    <tr>\n",
       "      <th>April</th>\n",
       "      <td>32000.571348</td>\n",
       "      <td>64594.544108</td>\n",
       "    </tr>\n",
       "    <tr>\n",
       "      <th>August</th>\n",
       "      <td>32056.039207</td>\n",
       "      <td>91857.619115</td>\n",
       "    </tr>\n",
       "    <tr>\n",
       "      <th>December</th>\n",
       "      <td>36638.542108</td>\n",
       "      <td>108740.754040</td>\n",
       "    </tr>\n",
       "    <tr>\n",
       "      <th>February</th>\n",
       "      <td>35293.236540</td>\n",
       "      <td>83232.215580</td>\n",
       "    </tr>\n",
       "    <tr>\n",
       "      <th>January</th>\n",
       "      <td>22341.825312</td>\n",
       "      <td>65448.527778</td>\n",
       "    </tr>\n",
       "    <tr>\n",
       "      <th>July</th>\n",
       "      <td>30221.410050</td>\n",
       "      <td>87999.429060</td>\n",
       "    </tr>\n",
       "    <tr>\n",
       "      <th>June</th>\n",
       "      <td>29194.618435</td>\n",
       "      <td>83530.810098</td>\n",
       "    </tr>\n",
       "    <tr>\n",
       "      <th>March</th>\n",
       "      <td>34450.798360</td>\n",
       "      <td>101842.003003</td>\n",
       "    </tr>\n",
       "    <tr>\n",
       "      <th>May</th>\n",
       "      <td>32545.227356</td>\n",
       "      <td>76993.057440</td>\n",
       "    </tr>\n",
       "    <tr>\n",
       "      <th>November</th>\n",
       "      <td>28914.275990</td>\n",
       "      <td>89762.919762</td>\n",
       "    </tr>\n",
       "    <tr>\n",
       "      <th>October</th>\n",
       "      <td>33435.329166</td>\n",
       "      <td>99542.278422</td>\n",
       "    </tr>\n",
       "    <tr>\n",
       "      <th>September</th>\n",
       "      <td>31262.052272</td>\n",
       "      <td>97603.226240</td>\n",
       "    </tr>\n",
       "  </tbody>\n",
       "</table>\n",
       "</div>"
      ],
      "text/plain": [
       "           sum_duration               \n",
       "tariff            smart          ultra\n",
       "month                                 \n",
       "April      32000.571348   64594.544108\n",
       "August     32056.039207   91857.619115\n",
       "December   36638.542108  108740.754040\n",
       "February   35293.236540   83232.215580\n",
       "January    22341.825312   65448.527778\n",
       "July       30221.410050   87999.429060\n",
       "June       29194.618435   83530.810098\n",
       "March      34450.798360  101842.003003\n",
       "May        32545.227356   76993.057440\n",
       "November   28914.275990   89762.919762\n",
       "October    33435.329166   99542.278422\n",
       "September  31262.052272   97603.226240"
      ]
     },
     "metadata": {},
     "output_type": "display_data"
    },
    {
     "data": {
      "text/html": [
       "<div>\n",
       "<style scoped>\n",
       "    .dataframe tbody tr th:only-of-type {\n",
       "        vertical-align: middle;\n",
       "    }\n",
       "\n",
       "    .dataframe tbody tr th {\n",
       "        vertical-align: top;\n",
       "    }\n",
       "\n",
       "    .dataframe thead tr th {\n",
       "        text-align: left;\n",
       "    }\n",
       "\n",
       "    .dataframe thead tr:last-of-type th {\n",
       "        text-align: right;\n",
       "    }\n",
       "</style>\n",
       "<table border=\"1\" class=\"dataframe\">\n",
       "  <thead>\n",
       "    <tr>\n",
       "      <th></th>\n",
       "      <th colspan=\"2\" halign=\"left\">messages_count</th>\n",
       "    </tr>\n",
       "    <tr>\n",
       "      <th>tariff</th>\n",
       "      <th>smart</th>\n",
       "      <th>ultra</th>\n",
       "    </tr>\n",
       "    <tr>\n",
       "      <th>month</th>\n",
       "      <th></th>\n",
       "      <th></th>\n",
       "    </tr>\n",
       "  </thead>\n",
       "  <tbody>\n",
       "    <tr>\n",
       "      <th>April</th>\n",
       "      <td>602.139559</td>\n",
       "      <td>1407.287542</td>\n",
       "    </tr>\n",
       "    <tr>\n",
       "      <th>August</th>\n",
       "      <td>838.257501</td>\n",
       "      <td>2171.739199</td>\n",
       "    </tr>\n",
       "    <tr>\n",
       "      <th>December</th>\n",
       "      <td>934.952346</td>\n",
       "      <td>2681.978417</td>\n",
       "    </tr>\n",
       "    <tr>\n",
       "      <th>February</th>\n",
       "      <td>473.097701</td>\n",
       "      <td>716.824275</td>\n",
       "    </tr>\n",
       "    <tr>\n",
       "      <th>January</th>\n",
       "      <td>262.367201</td>\n",
       "      <td>940.694444</td>\n",
       "    </tr>\n",
       "    <tr>\n",
       "      <th>July</th>\n",
       "      <td>799.887811</td>\n",
       "      <td>2372.042735</td>\n",
       "    </tr>\n",
       "    <tr>\n",
       "      <th>June</th>\n",
       "      <td>806.806374</td>\n",
       "      <td>1986.297619</td>\n",
       "    </tr>\n",
       "    <tr>\n",
       "      <th>March</th>\n",
       "      <td>718.492481</td>\n",
       "      <td>1732.381381</td>\n",
       "    </tr>\n",
       "    <tr>\n",
       "      <th>May</th>\n",
       "      <td>730.990983</td>\n",
       "      <td>1624.644052</td>\n",
       "    </tr>\n",
       "    <tr>\n",
       "      <th>November</th>\n",
       "      <td>805.937071</td>\n",
       "      <td>2476.948491</td>\n",
       "    </tr>\n",
       "    <tr>\n",
       "      <th>October</th>\n",
       "      <td>816.111966</td>\n",
       "      <td>2697.181661</td>\n",
       "    </tr>\n",
       "    <tr>\n",
       "      <th>September</th>\n",
       "      <td>790.617820</td>\n",
       "      <td>2152.855530</td>\n",
       "    </tr>\n",
       "  </tbody>\n",
       "</table>\n",
       "</div>"
      ],
      "text/plain": [
       "          messages_count             \n",
       "tariff             smart        ultra\n",
       "month                                \n",
       "April         602.139559  1407.287542\n",
       "August        838.257501  2171.739199\n",
       "December      934.952346  2681.978417\n",
       "February      473.097701   716.824275\n",
       "January       262.367201   940.694444\n",
       "July          799.887811  2372.042735\n",
       "June          806.806374  1986.297619\n",
       "March         718.492481  1732.381381\n",
       "May           730.990983  1624.644052\n",
       "November      805.937071  2476.948491\n",
       "October       816.111966  2697.181661\n",
       "September     790.617820  2152.855530"
      ]
     },
     "metadata": {},
     "output_type": "display_data"
    },
    {
     "data": {
      "text/html": [
       "<div>\n",
       "<style scoped>\n",
       "    .dataframe tbody tr th:only-of-type {\n",
       "        vertical-align: middle;\n",
       "    }\n",
       "\n",
       "    .dataframe tbody tr th {\n",
       "        vertical-align: top;\n",
       "    }\n",
       "\n",
       "    .dataframe thead tr th {\n",
       "        text-align: left;\n",
       "    }\n",
       "\n",
       "    .dataframe thead tr:last-of-type th {\n",
       "        text-align: right;\n",
       "    }\n",
       "</style>\n",
       "<table border=\"1\" class=\"dataframe\">\n",
       "  <thead>\n",
       "    <tr>\n",
       "      <th></th>\n",
       "      <th colspan=\"2\" halign=\"left\">mb_used</th>\n",
       "    </tr>\n",
       "    <tr>\n",
       "      <th>tariff</th>\n",
       "      <th>smart</th>\n",
       "      <th>ultra</th>\n",
       "    </tr>\n",
       "    <tr>\n",
       "      <th>month</th>\n",
       "      <th></th>\n",
       "      <th></th>\n",
       "    </tr>\n",
       "  </thead>\n",
       "  <tbody>\n",
       "    <tr>\n",
       "      <th>April</th>\n",
       "      <td>31.166023</td>\n",
       "      <td>82.711785</td>\n",
       "    </tr>\n",
       "    <tr>\n",
       "      <th>August</th>\n",
       "      <td>29.095726</td>\n",
       "      <td>99.134544</td>\n",
       "    </tr>\n",
       "    <tr>\n",
       "      <th>December</th>\n",
       "      <td>29.427123</td>\n",
       "      <td>98.026170</td>\n",
       "    </tr>\n",
       "    <tr>\n",
       "      <th>February</th>\n",
       "      <td>36.492740</td>\n",
       "      <td>104.563406</td>\n",
       "    </tr>\n",
       "    <tr>\n",
       "      <th>January</th>\n",
       "      <td>39.412656</td>\n",
       "      <td>40.111111</td>\n",
       "    </tr>\n",
       "    <tr>\n",
       "      <th>July</th>\n",
       "      <td>33.737761</td>\n",
       "      <td>89.709158</td>\n",
       "    </tr>\n",
       "    <tr>\n",
       "      <th>June</th>\n",
       "      <td>31.622625</td>\n",
       "      <td>80.356139</td>\n",
       "    </tr>\n",
       "    <tr>\n",
       "      <th>March</th>\n",
       "      <td>32.721121</td>\n",
       "      <td>108.076577</td>\n",
       "    </tr>\n",
       "    <tr>\n",
       "      <th>May</th>\n",
       "      <td>34.694833</td>\n",
       "      <td>91.651289</td>\n",
       "    </tr>\n",
       "    <tr>\n",
       "      <th>November</th>\n",
       "      <td>26.804822</td>\n",
       "      <td>88.207160</td>\n",
       "    </tr>\n",
       "    <tr>\n",
       "      <th>October</th>\n",
       "      <td>32.630738</td>\n",
       "      <td>86.694522</td>\n",
       "    </tr>\n",
       "    <tr>\n",
       "      <th>September</th>\n",
       "      <td>25.622156</td>\n",
       "      <td>79.426697</td>\n",
       "    </tr>\n",
       "  </tbody>\n",
       "</table>\n",
       "</div>"
      ],
      "text/plain": [
       "             mb_used            \n",
       "tariff         smart       ultra\n",
       "month                           \n",
       "April      31.166023   82.711785\n",
       "August     29.095726   99.134544\n",
       "December   29.427123   98.026170\n",
       "February   36.492740  104.563406\n",
       "January    39.412656   40.111111\n",
       "July       33.737761   89.709158\n",
       "June       31.622625   80.356139\n",
       "March      32.721121  108.076577\n",
       "May        34.694833   91.651289\n",
       "November   26.804822   88.207160\n",
       "October    32.630738   86.694522\n",
       "September  25.622156   79.426697"
      ]
     },
     "metadata": {},
     "output_type": "display_data"
    },
    {
     "data": {
      "image/png": "[encoded data removed]",
      "text/plain": [
       "<Figure size 432x288 with 1 Axes>"
      ]
     },
     "metadata": {
      "needs_background": "light"
     },
     "output_type": "display_data"
    },
    {
     "data": {
      "image/png": "[encoded data removed]",
      "text/plain": [
       "<Figure size 432x288 with 1 Axes>"
      ]
     },
     "metadata": {
      "needs_background": "light"
     },
     "output_type": "display_data"
    },
    {
     "data": {
      "image/png": "[encoded data removed]",
      "text/plain": [
       "<Figure size 432x288 with 1 Axes>"
      ]
     },
     "metadata": {
      "needs_background": "light"
     },
     "output_type": "display_data"
    },
    {
     "data": {
      "image/png": "[encoded data removed]",
      "text/plain": [
       "<Figure size 432x288 with 1 Axes>"
      ]
     },
     "metadata": {
      "needs_background": "light"
     },
     "output_type": "display_data"
    },
    {
     "data": {
      "image/png": "[encoded data removed]",
      "text/plain": [
       "<Figure size 432x288 with 1 Axes>"
      ]
     },
     "metadata": {
      "needs_background": "light"
     },
     "output_type": "display_data"
    },
    {
     "data": {
      "image/png": "[encoded data removed]",
      "text/plain": [
       "<Figure size 432x288 with 1 Axes>"
      ]
     },
     "metadata": {
      "needs_background": "light"
     },
     "output_type": "display_data"
    },
    {
     "data": {
      "image/png": "[encoded data removed]",
      "text/plain": [
       "<Figure size 432x288 with 1 Axes>"
      ]
     },
     "metadata": {
      "needs_background": "light"
     },
     "output_type": "display_data"
    },
    {
     "data": {
      "image/png": "[encoded data removed]",
      "text/plain": [
       "<Figure size 432x288 with 1 Axes>"
      ]
     },
     "metadata": {
      "needs_background": "light"
     },
     "output_type": "display_data"
    }
   ],
   "source": [
    "for column in profit.loc[:,'calls_count': 'mb_used']:\n",
    "    profit_var = profit.pivot_table(index='month' ,columns='tariff', aggfunc={column: 'var'})\n",
    "    profit.query(\"tariff == 'smart'\").hist(column)\n",
    "    profit.query(\"tariff == 'ultra'\").hist(column)\n",
    "    display(profit_var)"
   ]
  },
  {
   "cell_type": "code",
   "execution_count": 38,
   "id": "de100ce6",
   "metadata": {},
   "outputs": [
    {
     "data": {
      "text/html": [
       "<div>\n",
       "<style scoped>\n",
       "    .dataframe tbody tr th:only-of-type {\n",
       "        vertical-align: middle;\n",
       "    }\n",
       "\n",
       "    .dataframe tbody tr th {\n",
       "        vertical-align: top;\n",
       "    }\n",
       "\n",
       "    .dataframe thead th {\n",
       "        text-align: right;\n",
       "    }\n",
       "</style>\n",
       "<table border=\"1\" class=\"dataframe\">\n",
       "  <thead>\n",
       "    <tr style=\"text-align: right;\">\n",
       "      <th></th>\n",
       "      <th>calls_count</th>\n",
       "    </tr>\n",
       "    <tr>\n",
       "      <th>tariff</th>\n",
       "      <th></th>\n",
       "    </tr>\n",
       "  </thead>\n",
       "  <tbody>\n",
       "    <tr>\n",
       "      <th>smart</th>\n",
       "      <td>20.785495</td>\n",
       "    </tr>\n",
       "    <tr>\n",
       "      <th>ultra</th>\n",
       "      <td>35.107396</td>\n",
       "    </tr>\n",
       "  </tbody>\n",
       "</table>\n",
       "</div>"
      ],
      "text/plain": [
       "        calls_count\n",
       "tariff             \n",
       "smart     20.785495\n",
       "ultra     35.107396"
      ]
     },
     "metadata": {},
     "output_type": "display_data"
    },
    {
     "data": {
      "text/html": [
       "<div>\n",
       "<style scoped>\n",
       "    .dataframe tbody tr th:only-of-type {\n",
       "        vertical-align: middle;\n",
       "    }\n",
       "\n",
       "    .dataframe tbody tr th {\n",
       "        vertical-align: top;\n",
       "    }\n",
       "\n",
       "    .dataframe thead th {\n",
       "        text-align: right;\n",
       "    }\n",
       "</style>\n",
       "<table border=\"1\" class=\"dataframe\">\n",
       "  <thead>\n",
       "    <tr style=\"text-align: right;\">\n",
       "      <th></th>\n",
       "      <th>sum_duration</th>\n",
       "    </tr>\n",
       "    <tr>\n",
       "      <th>tariff</th>\n",
       "      <th></th>\n",
       "    </tr>\n",
       "  </thead>\n",
       "  <tbody>\n",
       "    <tr>\n",
       "      <th>smart</th>\n",
       "      <td>183.530946</td>\n",
       "    </tr>\n",
       "    <tr>\n",
       "      <th>ultra</th>\n",
       "      <td>305.814258</td>\n",
       "    </tr>\n",
       "  </tbody>\n",
       "</table>\n",
       "</div>"
      ],
      "text/plain": [
       "        sum_duration\n",
       "tariff              \n",
       "smart     183.530946\n",
       "ultra     305.814258"
      ]
     },
     "metadata": {},
     "output_type": "display_data"
    },
    {
     "data": {
      "text/html": [
       "<div>\n",
       "<style scoped>\n",
       "    .dataframe tbody tr th:only-of-type {\n",
       "        vertical-align: middle;\n",
       "    }\n",
       "\n",
       "    .dataframe tbody tr th {\n",
       "        vertical-align: top;\n",
       "    }\n",
       "\n",
       "    .dataframe thead th {\n",
       "        text-align: right;\n",
       "    }\n",
       "</style>\n",
       "<table border=\"1\" class=\"dataframe\">\n",
       "  <thead>\n",
       "    <tr style=\"text-align: right;\">\n",
       "      <th></th>\n",
       "      <th>messages_count</th>\n",
       "    </tr>\n",
       "    <tr>\n",
       "      <th>tariff</th>\n",
       "      <th></th>\n",
       "    </tr>\n",
       "  </thead>\n",
       "  <tbody>\n",
       "    <tr>\n",
       "      <th>smart</th>\n",
       "      <td>28.227876</td>\n",
       "    </tr>\n",
       "    <tr>\n",
       "      <th>ultra</th>\n",
       "      <td>47.804457</td>\n",
       "    </tr>\n",
       "  </tbody>\n",
       "</table>\n",
       "</div>"
      ],
      "text/plain": [
       "        messages_count\n",
       "tariff                \n",
       "smart        28.227876\n",
       "ultra        47.804457"
      ]
     },
     "metadata": {},
     "output_type": "display_data"
    },
    {
     "data": {
      "text/html": [
       "<div>\n",
       "<style scoped>\n",
       "    .dataframe tbody tr th:only-of-type {\n",
       "        vertical-align: middle;\n",
       "    }\n",
       "\n",
       "    .dataframe tbody tr th {\n",
       "        vertical-align: top;\n",
       "    }\n",
       "\n",
       "    .dataframe thead th {\n",
       "        text-align: right;\n",
       "    }\n",
       "</style>\n",
       "<table border=\"1\" class=\"dataframe\">\n",
       "  <thead>\n",
       "    <tr style=\"text-align: right;\">\n",
       "      <th></th>\n",
       "      <th>mb_used</th>\n",
       "    </tr>\n",
       "    <tr>\n",
       "      <th>tariff</th>\n",
       "      <th></th>\n",
       "    </tr>\n",
       "  </thead>\n",
       "  <tbody>\n",
       "    <tr>\n",
       "      <th>smart</th>\n",
       "      <td>5.721194</td>\n",
       "    </tr>\n",
       "    <tr>\n",
       "      <th>ultra</th>\n",
       "      <td>9.579629</td>\n",
       "    </tr>\n",
       "  </tbody>\n",
       "</table>\n",
       "</div>"
      ],
      "text/plain": [
       "         mb_used\n",
       "tariff          \n",
       "smart   5.721194\n",
       "ultra   9.579629"
      ]
     },
     "metadata": {},
     "output_type": "display_data"
    },
    {
     "data": {
      "image/png": "[encoded data removed]",
      "text/plain": [
       "<Figure size 432x288 with 1 Axes>"
      ]
     },
     "metadata": {
      "needs_background": "light"
     },
     "output_type": "display_data"
    },
    {
     "data": {
      "image/png": "[encoded data removed]",
      "text/plain": [
       "<Figure size 432x288 with 1 Axes>"
      ]
     },
     "metadata": {
      "needs_background": "light"
     },
     "output_type": "display_data"
    },
    {
     "data": {
      "image/png": "[encoded data removed]",
      "text/plain": [
       "<Figure size 432x288 with 1 Axes>"
      ]
     },
     "metadata": {
      "needs_background": "light"
     },
     "output_type": "display_data"
    },
    {
     "data": {
      "image/png": "[encoded data removed]",
      "text/plain": [
       "<Figure size 432x288 with 1 Axes>"
      ]
     },
     "metadata": {
      "needs_background": "light"
     },
     "output_type": "display_data"
    },
    {
     "data": {
      "image/png": "[encoded data removed]",
      "text/plain": [
       "<Figure size 432x288 with 1 Axes>"
      ]
     },
     "metadata": {
      "needs_background": "light"
     },
     "output_type": "display_data"
    },
    {
     "data": {
      "image/png": "[encoded data removed]",
      "text/plain": [
       "<Figure size 432x288 with 1 Axes>"
      ]
     },
     "metadata": {
      "needs_background": "light"
     },
     "output_type": "display_data"
    },
    {
     "data": {
      "image/png": "[encoded data removed]",
      "text/plain": [
       "<Figure size 432x288 with 1 Axes>"
      ]
     },
     "metadata": {
      "needs_background": "light"
     },
     "output_type": "display_data"
    },
    {
     "data": {
      "image/png": "[encoded data removed]",
      "text/plain": [
       "<Figure size 432x288 with 1 Axes>"
      ]
     },
     "metadata": {
      "needs_background": "light"
     },
     "output_type": "display_data"
    }
   ],
   "source": [
    "for column in profit.loc[:,'calls_count': 'mb_used']:\n",
    "    profit_std = profit.pivot_table(index='tariff', aggfunc={column: 'std'})\n",
    "    profit.query(\"tariff == 'smart'\").hist(column)\n",
    "    profit.query(\"tariff == 'ultra'\").hist(column)\n",
    "    display(profit_std)"
   ]
  },
  {
   "cell_type": "code",
   "execution_count": 47,
   "id": "82c78f79",
   "metadata": {},
   "outputs": [
    {
     "data": {
      "text/html": [
       "<div>\n",
       "<style scoped>\n",
       "    .dataframe tbody tr th:only-of-type {\n",
       "        vertical-align: middle;\n",
       "    }\n",
       "\n",
       "    .dataframe tbody tr th {\n",
       "        vertical-align: top;\n",
       "    }\n",
       "\n",
       "    .dataframe thead tr th {\n",
       "        text-align: left;\n",
       "    }\n",
       "\n",
       "    .dataframe thead tr:last-of-type th {\n",
       "        text-align: right;\n",
       "    }\n",
       "</style>\n",
       "<table border=\"1\" class=\"dataframe\">\n",
       "  <thead>\n",
       "    <tr>\n",
       "      <th></th>\n",
       "      <th colspan=\"3\" halign=\"left\">mean</th>\n",
       "      <th colspan=\"3\" halign=\"left\">std</th>\n",
       "      <th colspan=\"3\" halign=\"left\">var</th>\n",
       "    </tr>\n",
       "    <tr>\n",
       "      <th></th>\n",
       "      <th>messages_count</th>\n",
       "      <th>messages_count</th>\n",
       "      <th>sum_duration</th>\n",
       "      <th>messages_count</th>\n",
       "      <th>messages_count</th>\n",
       "      <th>sum_duration</th>\n",
       "      <th>messages_count</th>\n",
       "      <th>messages_count</th>\n",
       "      <th>sum_duration</th>\n",
       "    </tr>\n",
       "    <tr>\n",
       "      <th>tariff</th>\n",
       "      <th></th>\n",
       "      <th></th>\n",
       "      <th></th>\n",
       "      <th></th>\n",
       "      <th></th>\n",
       "      <th></th>\n",
       "      <th></th>\n",
       "      <th></th>\n",
       "      <th></th>\n",
       "    </tr>\n",
       "  </thead>\n",
       "  <tbody>\n",
       "    <tr>\n",
       "      <th>smart</th>\n",
       "      <td>33.384029</td>\n",
       "      <td>33.384029</td>\n",
       "      <td>402.183939</td>\n",
       "      <td>28.227876</td>\n",
       "      <td>28.227876</td>\n",
       "      <td>183.530946</td>\n",
       "      <td>796.812958</td>\n",
       "      <td>796.812958</td>\n",
       "      <td>33683.607983</td>\n",
       "    </tr>\n",
       "    <tr>\n",
       "      <th>ultra</th>\n",
       "      <td>49.363452</td>\n",
       "      <td>49.363452</td>\n",
       "      <td>505.784772</td>\n",
       "      <td>47.804457</td>\n",
       "      <td>47.804457</td>\n",
       "      <td>305.814258</td>\n",
       "      <td>2285.266143</td>\n",
       "      <td>2285.266143</td>\n",
       "      <td>93522.360134</td>\n",
       "    </tr>\n",
       "  </tbody>\n",
       "</table>\n",
       "</div>"
      ],
      "text/plain": [
       "                 mean                                        std  \\\n",
       "       messages_count messages_count sum_duration messages_count   \n",
       "tariff                                                             \n",
       "smart       33.384029      33.384029   402.183939      28.227876   \n",
       "ultra       49.363452      49.363452   505.784772      47.804457   \n",
       "\n",
       "                                              var                               \n",
       "       messages_count sum_duration messages_count messages_count  sum_duration  \n",
       "tariff                                                                          \n",
       "smart       28.227876   183.530946     796.812958     796.812958  33683.607983  \n",
       "ultra       47.804457   305.814258    2285.266143    2285.266143  93522.360134  "
      ]
     },
     "execution_count": 47,
     "metadata": {},
     "output_type": "execute_result"
    }
   ],
   "source": [
    "# код ревьюера\n",
    "profit.pivot_table(index = 'tariff', values = ['sum_duration', 'messages_count', 'messages_count'],\n",
    "                aggfunc = ['mean', 'std', 'var'])"
   ]
  },
  {
   "cell_type": "markdown",
   "id": "e13125e0",
   "metadata": {},
   "source": [
    "## Мини-вывод:\n",
    "Мы проанализировали данные.Для этого мы активно использовали pivot_table.Что можем сказать: \n",
    "    1)Средние значения по количеству звонков в тарифе ultra больше,чем ср.знач в тарифе smart.Месяц с наибольшим ср.знач для обоих тарифов является декабрь.Наименьшим для тарифа smart является январь месяц,для ultra - февраль.\n",
    "    Средние значения по длительности звонка в тарифе ultra больше, чем ср.знач в тарифе smart во всех месяцах.Месяц с     наибольшим средним значением для обоих тарифов является декабрь.Наименьшим для тарифа smart является январь месяц,для ultra - февраль.Связано это с тем,что в декабре было больше всего звонков в сумме.А в случае января для smart и для ultra в феврале ситуация полностью наоборот.\n",
    "    Средние значения по кол-ву сообщений также в тарифе ultra больше, чем ср.знач в тарифе smart во всех месяцах.Месяц с     наибольшим средним значением для обоих тарифов снова является декабрь.Наименьшими месяцами для тарифов также являются январь и февраль(smart-январь, ultra - февраль).\n",
    "    Аналогичная ситуация по ср.знач в кол-ве использованных гигабайт интернета(в тарифе ultra больше, чем ср.знач в тарифе smart во всех месяцах).Месяц с наибольшим средним значением для обоих тарифов является декабрь.Наименьшими же являются январь и февраль.\n",
    "    Опишем поведение клиентов оператора,судя по ср.значениям.Наиболее активным месяцем является декабрь.Именно в этот месяц клиентам оператора нужно больше всего минут разговора, сообщений и объёма интернет-трафика.Это связано с Новым Годом.Люди звонят/пишут друг другу и думают что подарить, обсуждают подарки, поздравляют с праздником.Наименее активными месяцами в этом плане являются январь и февраль.Причину описать трудно,возможно,причина тоже кроется в Новом Годе.После празднования люди,возможно,ходят побыть одни и настроиться на ближайший год. \n",
    "     2)Поговорим о дисперсии.\n",
    "     Дисперсия по количеству звонков в тарифе ultra больше, дисперсия в тарифе smart во всех месяцах.Месяц с наибольшим значением дисперсии для тарифов является декабрь.Наименьшим же для тарифа smart является январь, для ultra - май.\n",
    "     Дисперсия по длительности звонка в тарифе ultra больше, чем дисперсия в тарифе smart во всех месяцах.Месяц с наибольшим значением дисперсии для тарифа smart является декабрь,для тарифа ultra - март.Наименьшим же для обоих тарифов также является январь месяц.\n",
    "     Дисперсия по кол-ву сообщений в тарифе ultra больше, чем дисперсия в тарифе smart во всех месяцах.Месяц с наибольшим значением дисперсии для тарифа smart является декабрь,для тарифа ultra - октябрь.Наименьшими же для тарифа smart является январь, для ultra - февраль\n",
    "     Дисперсия по объему интернет-трафика в тарифе smart больше, чем дисперсия в тарифе ultra во всех месяцах,кроме ноября.Месяц с наибольшим значением дисперсии для тарифа smart является январь,для тарифа ultra - август.Наименьшими для smart является ноябрь, для ultra - январь.\n",
    "     Опишем поведение клиентов оператора,судя по дисперсии.Наиболее активным месяцем является декабрь для тарифа smart, для ultra - трудно определить,т.к для каждого \"подсчета\" наиб.значения находятся в разных месяцах.\n",
    "     3)Стандартное отклонение.\n",
    "     Ситуация аналогичная с дисперсией,т.к стандартное отклонение = корень из дисперсии.\n",
    "     4)Гистограммы.\n",
    "     Пик по количеству звонков в тарифе ultra находится в 60.Потом график резко скашивается вправо,значит скошенность положительная.Пик по длительности разговора в тарифе smart находится в 50-60.Потом график также скашивается вправо,но не так резко,как в тарифе ultra.Скошенность также положительная.\n",
    "     Пик по длительности разговоров в тарифе ultra находится в 500-550.Потом график скашивается вправо,значит скошенность положительная.Пик по длительности разговора в тарифе smart находится в 450-500.Потом график резко скашивается вправо,значит скошенность положительная.\n",
    "     Пик по кол-ву сообщений в тарифе ultrа находится в 0-10.Потом график также сильно скашивается вправо.В тарифе smart пик находится в 0-5.Ситуация аналогичная как по длительности разговора.\n",
    "     Пик по объему интернет-трафика находится в 15 и 20 в тарифе ultra.В smart 15."
   ]
  },
  {
   "cell_type": "markdown",
   "id": "4c72879c",
   "metadata": {},
   "source": [
    "# Проверка гипотез"
   ]
  },
  {
   "cell_type": "markdown",
   "id": "d735759f",
   "metadata": {},
   "source": [
    "Средняя выручка пользователей тарифов «Ультра» и «Смарт» различаются.Тип у данной гипотезы,как я ее сформулировал,будет двусторонний,т.е нулевая гипотеза - выручка от пользователей тарифов \"Ультра\" и \"Смарт\" не различается; альтернативная гипотеза - выручка от пользователей тарифов \"Ультра\" и \"Смарт\" различается."
   ]
  },
  {
   "cell_type": "code",
   "execution_count": 39,
   "id": "30ee884c",
   "metadata": {},
   "outputs": [],
   "source": [
    "smart = []\n",
    "ultra = []"
   ]
  },
  {
   "cell_type": "code",
   "execution_count": 40,
   "id": "765707e5",
   "metadata": {},
   "outputs": [],
   "source": [
    "for row in profit.query('tariff == \"smart\"')['total']:\n",
    "    smart.append(row)\n",
    "for row in profit.query('tariff == \"ultra\"')['total']:\n",
    "    ultra.append(row)"
   ]
  },
  {
   "cell_type": "code",
   "execution_count": 41,
   "id": "3a14aa23",
   "metadata": {},
   "outputs": [
    {
     "name": "stdout",
     "output_type": "stream",
     "text": [
      "p-значение: 4.010193769427187e-176\n",
      "Отвергаем нулевую гипотезу\n"
     ]
    }
   ],
   "source": [
    "alpha = .05\n",
    "results = st.ttest_ind(\n",
    "    smart, \n",
    "    ultra)\n",
    "\n",
    "print('p-значение:', results.pvalue)\n",
    "\n",
    "if results.pvalue < alpha:\n",
    "    print(\"Отвергаем нулевую гипотезу\")\n",
    "else:\n",
    "    print(\"Не получилось отвергнуть нулевую гипотезу\")"
   ]
  },
  {
   "cell_type": "markdown",
   "id": "452f7be4",
   "metadata": {},
   "source": [
    "Мы смогли отвергнуть нулевую гипотезу,а значит,что выручка от пользователей тарифов \"Ультра\" и \"Смарт\" различается.\n"
   ]
  },
  {
   "cell_type": "markdown",
   "id": "90f31b9c",
   "metadata": {},
   "source": [
    "Средняя выручка пользователей из Москвы отличается от выручки пользователей из других регионов.Тип у данной гипотезы,как я ее сформулировал,также будет двусторонней,т.е нулевая гипотеза - выручка от пользователей из Москвы и других регионов не различается; альтернативная гипотеза - выручка от пользователей из Москвы отличается от выручки пользователей из других регионов."
   ]
  },
  {
   "cell_type": "code",
   "execution_count": 42,
   "id": "0bef039d",
   "metadata": {},
   "outputs": [],
   "source": [
    "moscow = []\n",
    "for row in profit.query('city == \"Москва\"')['total']:\n",
    "    moscow.append(row)\n",
    "    \n",
    "other_cities = []\n",
    "for row in profit.query('city != \"Москва\"')['total']:\n",
    "    other_cities.append(row)"
   ]
  },
  {
   "cell_type": "code",
   "execution_count": 43,
   "id": "efeee275",
   "metadata": {},
   "outputs": [
    {
     "name": "stdout",
     "output_type": "stream",
     "text": [
      "p-значение: 0.4930897488153082\n",
      "Не получилось отвергнуть нулевую гипотезу\n"
     ]
    }
   ],
   "source": [
    "alpha = .05\n",
    "results = st.ttest_ind(\n",
    "    moscow, \n",
    "    other_cities)\n",
    "\n",
    "print('p-значение:', results.pvalue)\n",
    "\n",
    "if results.pvalue < alpha:\n",
    "    print(\"Отвергаем нулевую гипотезу\")\n",
    "else:\n",
    "    print(\"Не получилось отвергнуть нулевую гипотезу\") "
   ]
  },
  {
   "cell_type": "markdown",
   "id": "0548def5",
   "metadata": {},
   "source": [
    "Мы не смогли отвергнуть нулевую гипотезу,а значит,что средняя выручка пользователей из Москвы не отличается от выручки пользователей из других регионов."
   ]
  },
  {
   "cell_type": "markdown",
   "id": "5a0093fa",
   "metadata": {},
   "source": [
    "# Вывод"
   ]
  },
  {
   "cell_type": "markdown",
   "id": "a0e49af6",
   "metadata": {},
   "source": [
    "Мы провели анализ преврарительный анализ тарифов на небольшой выборке клиентов.В нашем распоряжении данные 500 пользователей «Мегалайна»: кто они, откуда, каким тарифом пользуются, сколько звонков и сообщений каждый отправил за 2018 год. Нужно проанализировать поведение клиентов и сделать вывод — какой тариф лучше.\n",
    "Для этого мы сначала просмотрели все данные.После небольшого ознакомления было понятно,что в данных есть небольшие ошибки.Например,все 4 столбца были объединены в один и у всех был тип данных object.Мы успешно разъединили эти столбцы,а потом исправили типы данных.\n",
    "Потом перед нами встал выбор объединять ли все датафреймы в один или нет.Мы решили этого не делать в силу того,что в разных датафреймах разное кол-во строк,соответственно,данные снова станут с пропусками и тд.Это довольно сильно усложнило бы жизнь.\n",
    "Переходя к разделу \"Подсчеты\" мы снова решили просмотреть данные.В датафрейме df_calls мы решили избавиться от звонков длительность которых была равна 0.Эти звонки,вероятнее всего,были безответными.Поэтому,они бы не показали полную картину и сильно искажали бы данные.В датафреймах df_messages, df_internet и df_calls мы добавили столбец с месяцами,чтобы при анализе увидеть информацию помесячно для более точного анализа.После перешли к созданию пивот таблиц для подсчета кол-ва звонков,потраченных звонков,отправленных смс и потраченных интернет-трафика в гигабайтах.Сделали это мы для дальнейшего подсчета прибыли.Чтобы подсчитать прибыль с каждого клиента мы создали функцию и применили ее.\n",
    "Для более точного анализа рассчитали ср.знач,дисперсию и стандартное отклонение для кол-ва звонков,длительность звонков,кол-ва сообщений и потраченных гигабайт, и на основе этого построили пивот таблицы и гистограммы.\n",
    "Далее начали проверять гипотезы.Пришли к тому,что выручка от пользователей тарифов \"Ультра\" и \"Смарт\" различается, и что средняя выручка пользователей из Москвы не отличается от выручки пользователей из других регионов."
   ]
  },
  {
   "cell_type": "code",
   "execution_count": null,
   "id": "ffc1bf6b",
   "metadata": {},
   "outputs": [],
   "source": []
  }
 ],
 "metadata": {
  "ExecuteTimeLog": [
   {
    "duration": 1260,
    "start_time": "2022-04-29T13:05:38.152Z"
   },
   {
    "duration": 1306,
    "start_time": "2022-04-30T11:35:03.740Z"
   },
   {
    "duration": 123,
    "start_time": "2022-04-30T11:35:05.048Z"
   },
   {
    "duration": 0,
    "start_time": "2022-04-30T11:35:05.174Z"
   },
   {
    "duration": 0,
    "start_time": "2022-04-30T11:35:05.175Z"
   },
   {
    "duration": 0,
    "start_time": "2022-04-30T11:35:05.176Z"
   },
   {
    "duration": 0,
    "start_time": "2022-04-30T11:35:05.178Z"
   },
   {
    "duration": 0,
    "start_time": "2022-04-30T11:35:05.179Z"
   },
   {
    "duration": 0,
    "start_time": "2022-04-30T11:35:05.180Z"
   },
   {
    "duration": 0,
    "start_time": "2022-04-30T11:35:05.180Z"
   },
   {
    "duration": 0,
    "start_time": "2022-04-30T11:35:05.182Z"
   },
   {
    "duration": 0,
    "start_time": "2022-04-30T11:35:05.183Z"
   },
   {
    "duration": 0,
    "start_time": "2022-04-30T11:35:05.184Z"
   },
   {
    "duration": 0,
    "start_time": "2022-04-30T11:35:05.185Z"
   },
   {
    "duration": 0,
    "start_time": "2022-04-30T11:35:05.186Z"
   },
   {
    "duration": 0,
    "start_time": "2022-04-30T11:35:05.187Z"
   },
   {
    "duration": 0,
    "start_time": "2022-04-30T11:35:05.188Z"
   },
   {
    "duration": 0,
    "start_time": "2022-04-30T11:35:05.189Z"
   },
   {
    "duration": 0,
    "start_time": "2022-04-30T11:35:05.190Z"
   },
   {
    "duration": 0,
    "start_time": "2022-04-30T11:35:05.191Z"
   },
   {
    "duration": 0,
    "start_time": "2022-04-30T11:35:05.191Z"
   },
   {
    "duration": 0,
    "start_time": "2022-04-30T11:35:05.193Z"
   },
   {
    "duration": 0,
    "start_time": "2022-04-30T11:35:05.193Z"
   },
   {
    "duration": 0,
    "start_time": "2022-04-30T11:35:05.194Z"
   },
   {
    "duration": 0,
    "start_time": "2022-04-30T11:35:05.195Z"
   },
   {
    "duration": 0,
    "start_time": "2022-04-30T11:35:05.196Z"
   },
   {
    "duration": 0,
    "start_time": "2022-04-30T11:35:05.197Z"
   },
   {
    "duration": 0,
    "start_time": "2022-04-30T11:35:05.197Z"
   },
   {
    "duration": 0,
    "start_time": "2022-04-30T11:35:05.198Z"
   },
   {
    "duration": 0,
    "start_time": "2022-04-30T11:35:05.199Z"
   },
   {
    "duration": 0,
    "start_time": "2022-04-30T11:35:05.200Z"
   },
   {
    "duration": 0,
    "start_time": "2022-04-30T11:35:05.201Z"
   },
   {
    "duration": 0,
    "start_time": "2022-04-30T11:35:05.202Z"
   },
   {
    "duration": 0,
    "start_time": "2022-04-30T11:35:05.203Z"
   },
   {
    "duration": 0,
    "start_time": "2022-04-30T11:35:05.204Z"
   },
   {
    "duration": 0,
    "start_time": "2022-04-30T11:35:05.205Z"
   },
   {
    "duration": 0,
    "start_time": "2022-04-30T11:35:05.255Z"
   },
   {
    "duration": 0,
    "start_time": "2022-04-30T11:35:05.256Z"
   },
   {
    "duration": 1311,
    "start_time": "2022-04-30T11:36:14.226Z"
   },
   {
    "duration": 458,
    "start_time": "2022-04-30T11:36:15.540Z"
   },
   {
    "duration": 21,
    "start_time": "2022-04-30T11:36:16.000Z"
   },
   {
    "duration": 888,
    "start_time": "2022-04-30T11:36:16.023Z"
   },
   {
    "duration": 59,
    "start_time": "2022-04-30T11:36:16.912Z"
   },
   {
    "duration": 15,
    "start_time": "2022-04-30T11:36:16.973Z"
   },
   {
    "duration": 779,
    "start_time": "2022-04-30T11:36:16.990Z"
   },
   {
    "duration": 65,
    "start_time": "2022-04-30T11:36:17.771Z"
   },
   {
    "duration": 36,
    "start_time": "2022-04-30T11:36:17.837Z"
   },
   {
    "duration": 742,
    "start_time": "2022-04-30T11:36:17.876Z"
   },
   {
    "duration": 13,
    "start_time": "2022-04-30T11:36:18.619Z"
   },
   {
    "duration": 36,
    "start_time": "2022-04-30T11:36:18.633Z"
   },
   {
    "duration": 14,
    "start_time": "2022-04-30T11:36:18.672Z"
   },
   {
    "duration": 9,
    "start_time": "2022-04-30T11:36:18.688Z"
   },
   {
    "duration": 9,
    "start_time": "2022-04-30T11:36:18.699Z"
   },
   {
    "duration": 12,
    "start_time": "2022-04-30T11:36:18.710Z"
   },
   {
    "duration": 14,
    "start_time": "2022-04-30T11:36:18.724Z"
   },
   {
    "duration": 37,
    "start_time": "2022-04-30T11:36:18.739Z"
   },
   {
    "duration": 11,
    "start_time": "2022-04-30T11:36:18.777Z"
   },
   {
    "duration": 4,
    "start_time": "2022-04-30T11:36:18.789Z"
   },
   {
    "duration": 241,
    "start_time": "2022-04-30T11:36:18.795Z"
   },
   {
    "duration": 629,
    "start_time": "2022-04-30T11:36:19.038Z"
   },
   {
    "duration": 566,
    "start_time": "2022-04-30T11:36:19.669Z"
   },
   {
    "duration": 705,
    "start_time": "2022-04-30T11:36:20.237Z"
   },
   {
    "duration": 21,
    "start_time": "2022-04-30T11:36:20.944Z"
   },
   {
    "duration": 313,
    "start_time": "2022-04-30T11:36:20.967Z"
   },
   {
    "duration": 155,
    "start_time": "2022-04-30T11:36:21.281Z"
   },
   {
    "duration": 1190,
    "start_time": "2022-04-30T11:36:21.439Z"
   },
   {
    "duration": 1244,
    "start_time": "2022-04-30T11:36:22.631Z"
   },
   {
    "duration": 1132,
    "start_time": "2022-04-30T11:36:23.877Z"
   },
   {
    "duration": 16,
    "start_time": "2022-04-30T11:36:25.011Z"
   },
   {
    "duration": 13,
    "start_time": "2022-04-30T11:36:25.028Z"
   },
   {
    "duration": 15,
    "start_time": "2022-04-30T11:36:25.043Z"
   },
   {
    "duration": 34,
    "start_time": "2022-04-30T11:36:25.061Z"
   },
   {
    "duration": 17,
    "start_time": "2022-04-30T11:36:25.096Z"
   },
   {
    "duration": 4,
    "start_time": "2022-04-30T11:36:25.114Z"
   },
   {
    "duration": 20,
    "start_time": "2022-04-30T11:36:25.119Z"
   },
   {
    "duration": 20,
    "start_time": "2022-04-30T11:38:49.088Z"
   },
   {
    "duration": 4,
    "start_time": "2022-04-30T11:40:30.275Z"
   },
   {
    "duration": 12,
    "start_time": "2022-04-30T11:45:00.209Z"
   },
   {
    "duration": 52,
    "start_time": "2022-04-30T12:06:09.644Z"
   },
   {
    "duration": 1435,
    "start_time": "2022-04-30T12:06:18.738Z"
   },
   {
    "duration": 358,
    "start_time": "2022-04-30T12:06:23.078Z"
   },
   {
    "duration": 25,
    "start_time": "2022-04-30T12:06:24.751Z"
   },
   {
    "duration": 787,
    "start_time": "2022-04-30T12:06:26.145Z"
   },
   {
    "duration": 44,
    "start_time": "2022-04-30T12:06:30.349Z"
   },
   {
    "duration": 15,
    "start_time": "2022-04-30T12:06:31.315Z"
   },
   {
    "duration": 667,
    "start_time": "2022-04-30T12:06:34.968Z"
   },
   {
    "duration": 72,
    "start_time": "2022-04-30T12:06:36.822Z"
   },
   {
    "duration": 19,
    "start_time": "2022-04-30T12:06:38.455Z"
   },
   {
    "duration": 619,
    "start_time": "2022-04-30T12:06:42.044Z"
   },
   {
    "duration": 9,
    "start_time": "2022-04-30T12:06:44.468Z"
   },
   {
    "duration": 9,
    "start_time": "2022-04-30T12:06:48.997Z"
   },
   {
    "duration": 8,
    "start_time": "2022-04-30T12:06:50.422Z"
   },
   {
    "duration": 7,
    "start_time": "2022-04-30T12:06:52.164Z"
   },
   {
    "duration": 15,
    "start_time": "2022-04-30T12:06:53.657Z"
   },
   {
    "duration": 9,
    "start_time": "2022-04-30T12:06:56.668Z"
   },
   {
    "duration": 9,
    "start_time": "2022-04-30T12:06:58.225Z"
   },
   {
    "duration": 10,
    "start_time": "2022-04-30T12:07:00.297Z"
   },
   {
    "duration": 11,
    "start_time": "2022-04-30T12:07:02.289Z"
   },
   {
    "duration": 2,
    "start_time": "2022-04-30T12:07:11.327Z"
   },
   {
    "duration": 226,
    "start_time": "2022-04-30T12:07:12.390Z"
   },
   {
    "duration": 596,
    "start_time": "2022-04-30T12:07:16.121Z"
   },
   {
    "duration": 593,
    "start_time": "2022-04-30T12:07:16.769Z"
   },
   {
    "duration": 450,
    "start_time": "2022-04-30T12:07:17.675Z"
   },
   {
    "duration": 12,
    "start_time": "2022-04-30T12:07:19.368Z"
   },
   {
    "duration": 337,
    "start_time": "2022-04-30T12:07:20.647Z"
   },
   {
    "duration": 123,
    "start_time": "2022-04-30T12:07:41.937Z"
   },
   {
    "duration": 5,
    "start_time": "2022-04-30T12:08:03.467Z"
   },
   {
    "duration": 132,
    "start_time": "2022-04-30T12:13:23.897Z"
   },
   {
    "duration": 5,
    "start_time": "2022-04-30T12:13:54.688Z"
   },
   {
    "duration": 60,
    "start_time": "2022-04-30T12:15:46.895Z"
   },
   {
    "duration": 209,
    "start_time": "2022-04-30T12:16:15.723Z"
   },
   {
    "duration": 193,
    "start_time": "2022-04-30T12:23:31.004Z"
   },
   {
    "duration": 50,
    "start_time": "2022-04-30T12:27:55.603Z"
   },
   {
    "duration": 260,
    "start_time": "2022-04-30T12:28:47.585Z"
   },
   {
    "duration": 144,
    "start_time": "2022-04-30T12:28:49.446Z"
   },
   {
    "duration": 259,
    "start_time": "2022-04-30T12:54:06.466Z"
   },
   {
    "duration": 8,
    "start_time": "2022-04-30T12:54:23.185Z"
   },
   {
    "duration": 4,
    "start_time": "2022-04-30T12:54:41.129Z"
   },
   {
    "duration": 137,
    "start_time": "2022-04-30T12:54:54.110Z"
   },
   {
    "duration": 3,
    "start_time": "2022-04-30T12:54:59.628Z"
   },
   {
    "duration": 3,
    "start_time": "2022-04-30T12:55:24.194Z"
   },
   {
    "duration": 4,
    "start_time": "2022-04-30T12:55:53.496Z"
   },
   {
    "duration": 12,
    "start_time": "2022-04-30T12:59:24.557Z"
   },
   {
    "duration": 146,
    "start_time": "2022-04-30T13:00:27.812Z"
   },
   {
    "duration": 260,
    "start_time": "2022-04-30T13:01:10.369Z"
   },
   {
    "duration": 12,
    "start_time": "2022-04-30T13:01:14.092Z"
   },
   {
    "duration": 7,
    "start_time": "2022-04-30T13:02:43.109Z"
   },
   {
    "duration": 7,
    "start_time": "2022-04-30T13:03:00.886Z"
   },
   {
    "duration": 13,
    "start_time": "2022-04-30T13:03:45.988Z"
   },
   {
    "duration": 12,
    "start_time": "2022-04-30T13:04:09.893Z"
   },
   {
    "duration": 225,
    "start_time": "2022-04-30T13:04:32.449Z"
   },
   {
    "duration": 32,
    "start_time": "2022-04-30T13:05:04.845Z"
   },
   {
    "duration": 258,
    "start_time": "2022-04-30T13:05:07.351Z"
   },
   {
    "duration": 4,
    "start_time": "2022-04-30T13:05:20.537Z"
   },
   {
    "duration": 29,
    "start_time": "2022-04-30T13:09:53.866Z"
   },
   {
    "duration": 4,
    "start_time": "2022-04-30T13:10:29.963Z"
   },
   {
    "duration": 120,
    "start_time": "2022-04-30T13:10:31.504Z"
   },
   {
    "duration": 33,
    "start_time": "2022-04-30T13:39:34.277Z"
   },
   {
    "duration": 252,
    "start_time": "2022-04-30T13:39:38.926Z"
   },
   {
    "duration": 27,
    "start_time": "2022-04-30T13:39:41.570Z"
   },
   {
    "duration": 4,
    "start_time": "2022-04-30T13:39:42.533Z"
   },
   {
    "duration": 115,
    "start_time": "2022-04-30T13:39:44.048Z"
   },
   {
    "duration": 4,
    "start_time": "2022-04-30T13:40:06.062Z"
   },
   {
    "duration": 483,
    "start_time": "2022-04-30T13:56:44.102Z"
   },
   {
    "duration": 426,
    "start_time": "2022-04-30T13:57:07.629Z"
   },
   {
    "duration": 18,
    "start_time": "2022-04-30T13:57:23.761Z"
   },
   {
    "duration": 30,
    "start_time": "2022-04-30T13:58:20.605Z"
   },
   {
    "duration": 18,
    "start_time": "2022-04-30T13:58:32.384Z"
   },
   {
    "duration": 7,
    "start_time": "2022-04-30T13:58:40.373Z"
   },
   {
    "duration": 10,
    "start_time": "2022-04-30T13:59:00.177Z"
   },
   {
    "duration": 102,
    "start_time": "2022-04-30T13:59:35.754Z"
   },
   {
    "duration": 53,
    "start_time": "2022-04-30T13:59:41.792Z"
   },
   {
    "duration": 1321,
    "start_time": "2022-05-01T09:22:06.586Z"
   },
   {
    "duration": 410,
    "start_time": "2022-05-01T09:22:09.595Z"
   },
   {
    "duration": 20,
    "start_time": "2022-05-01T09:22:14.978Z"
   },
   {
    "duration": 835,
    "start_time": "2022-05-01T09:22:15.526Z"
   },
   {
    "duration": 54,
    "start_time": "2022-05-01T09:22:16.363Z"
   },
   {
    "duration": 16,
    "start_time": "2022-05-01T09:22:16.418Z"
   },
   {
    "duration": 691,
    "start_time": "2022-05-01T09:22:16.436Z"
   },
   {
    "duration": 54,
    "start_time": "2022-05-01T09:22:17.129Z"
   },
   {
    "duration": 27,
    "start_time": "2022-05-01T09:22:17.184Z"
   },
   {
    "duration": 619,
    "start_time": "2022-05-01T09:22:17.213Z"
   },
   {
    "duration": 10,
    "start_time": "2022-05-01T09:22:17.833Z"
   },
   {
    "duration": 10,
    "start_time": "2022-05-01T09:22:17.845Z"
   },
   {
    "duration": 12,
    "start_time": "2022-05-01T09:22:17.857Z"
   },
   {
    "duration": 11,
    "start_time": "2022-05-01T09:22:17.871Z"
   },
   {
    "duration": 30,
    "start_time": "2022-05-01T09:22:17.884Z"
   },
   {
    "duration": 11,
    "start_time": "2022-05-01T09:22:17.915Z"
   },
   {
    "duration": 10,
    "start_time": "2022-05-01T09:22:17.927Z"
   },
   {
    "duration": 10,
    "start_time": "2022-05-01T09:22:17.939Z"
   },
   {
    "duration": 13,
    "start_time": "2022-05-01T09:22:17.951Z"
   },
   {
    "duration": 3,
    "start_time": "2022-05-01T09:22:19.392Z"
   },
   {
    "duration": 236,
    "start_time": "2022-05-01T09:22:20.193Z"
   },
   {
    "duration": 667,
    "start_time": "2022-05-01T09:22:23.994Z"
   },
   {
    "duration": 623,
    "start_time": "2022-05-01T09:22:24.664Z"
   },
   {
    "duration": 486,
    "start_time": "2022-05-01T09:22:25.289Z"
   },
   {
    "duration": 12,
    "start_time": "2022-05-01T09:22:25.777Z"
   },
   {
    "duration": 147,
    "start_time": "2022-05-01T09:22:26.928Z"
   },
   {
    "duration": 212,
    "start_time": "2022-05-01T09:22:28.251Z"
   },
   {
    "duration": 152,
    "start_time": "2022-05-01T09:22:29.650Z"
   },
   {
    "duration": 218,
    "start_time": "2022-05-01T09:22:31.214Z"
   },
   {
    "duration": 44,
    "start_time": "2022-05-01T09:22:36.919Z"
   },
   {
    "duration": 271,
    "start_time": "2022-05-01T09:22:43.538Z"
   },
   {
    "duration": 32,
    "start_time": "2022-05-01T09:22:45.031Z"
   },
   {
    "duration": 4,
    "start_time": "2022-05-01T09:22:47.039Z"
   },
   {
    "duration": 126,
    "start_time": "2022-05-01T09:22:48.582Z"
   },
   {
    "duration": 11,
    "start_time": "2022-05-01T09:23:08.159Z"
   },
   {
    "duration": 1322,
    "start_time": "2022-05-03T09:14:17.880Z"
   },
   {
    "duration": 429,
    "start_time": "2022-05-03T09:14:21.585Z"
   },
   {
    "duration": 17,
    "start_time": "2022-05-03T09:14:23.468Z"
   },
   {
    "duration": 745,
    "start_time": "2022-05-03T09:14:26.482Z"
   },
   {
    "duration": 43,
    "start_time": "2022-05-03T09:14:28.840Z"
   },
   {
    "duration": 16,
    "start_time": "2022-05-03T09:14:29.539Z"
   },
   {
    "duration": 675,
    "start_time": "2022-05-03T09:14:30.179Z"
   },
   {
    "duration": 53,
    "start_time": "2022-05-03T09:14:30.923Z"
   },
   {
    "duration": 14,
    "start_time": "2022-05-03T09:14:31.604Z"
   },
   {
    "duration": 544,
    "start_time": "2022-05-03T09:14:32.382Z"
   },
   {
    "duration": 9,
    "start_time": "2022-05-03T09:14:33.100Z"
   },
   {
    "duration": 8,
    "start_time": "2022-05-03T09:14:33.697Z"
   },
   {
    "duration": 9,
    "start_time": "2022-05-03T09:14:34.504Z"
   },
   {
    "duration": 7,
    "start_time": "2022-05-03T09:14:35.322Z"
   },
   {
    "duration": 11,
    "start_time": "2022-05-03T09:14:36.008Z"
   },
   {
    "duration": 10,
    "start_time": "2022-05-03T09:14:36.800Z"
   },
   {
    "duration": 10,
    "start_time": "2022-05-03T09:14:37.798Z"
   },
   {
    "duration": 12,
    "start_time": "2022-05-03T09:14:38.466Z"
   },
   {
    "duration": 11,
    "start_time": "2022-05-03T09:14:39.284Z"
   },
   {
    "duration": 3,
    "start_time": "2022-05-03T09:14:44.242Z"
   },
   {
    "duration": 218,
    "start_time": "2022-05-03T09:14:44.914Z"
   },
   {
    "duration": 679,
    "start_time": "2022-05-03T09:14:46.633Z"
   },
   {
    "duration": 616,
    "start_time": "2022-05-03T09:14:47.315Z"
   },
   {
    "duration": 474,
    "start_time": "2022-05-03T09:14:47.933Z"
   },
   {
    "duration": 11,
    "start_time": "2022-05-03T09:14:48.481Z"
   },
   {
    "duration": 130,
    "start_time": "2022-05-03T09:14:49.858Z"
   },
   {
    "duration": 208,
    "start_time": "2022-05-03T09:14:50.832Z"
   },
   {
    "duration": 134,
    "start_time": "2022-05-03T09:14:51.844Z"
   },
   {
    "duration": 208,
    "start_time": "2022-05-03T09:14:52.739Z"
   },
   {
    "duration": 33,
    "start_time": "2022-05-03T09:14:58.741Z"
   },
   {
    "duration": 288,
    "start_time": "2022-05-03T09:15:04.091Z"
   },
   {
    "duration": 33,
    "start_time": "2022-05-03T09:15:06.073Z"
   },
   {
    "duration": 4,
    "start_time": "2022-05-03T09:15:07.954Z"
   },
   {
    "duration": 96,
    "start_time": "2022-05-03T09:15:23.879Z"
   },
   {
    "duration": 12,
    "start_time": "2022-05-03T09:16:05.783Z"
   },
   {
    "duration": 14,
    "start_time": "2022-05-03T09:16:34.047Z"
   },
   {
    "duration": 26,
    "start_time": "2022-05-03T09:16:48.553Z"
   },
   {
    "duration": 4,
    "start_time": "2022-05-03T09:17:00.431Z"
   },
   {
    "duration": 5,
    "start_time": "2022-05-03T09:17:05.471Z"
   },
   {
    "duration": 128,
    "start_time": "2022-05-03T09:17:06.686Z"
   },
   {
    "duration": 1207,
    "start_time": "2022-05-03T09:17:46.450Z"
   },
   {
    "duration": 1154,
    "start_time": "2022-05-03T09:17:50.540Z"
   },
   {
    "duration": 1318,
    "start_time": "2022-05-03T09:18:55.238Z"
   },
   {
    "duration": 17,
    "start_time": "2022-05-03T09:20:17.133Z"
   },
   {
    "duration": 4,
    "start_time": "2022-05-03T09:20:21.461Z"
   },
   {
    "duration": 8,
    "start_time": "2022-05-03T09:22:47.171Z"
   },
   {
    "duration": 116,
    "start_time": "2022-05-03T09:23:02.528Z"
   },
   {
    "duration": 11,
    "start_time": "2022-05-03T09:23:19.531Z"
   },
   {
    "duration": 1999,
    "start_time": "2022-05-03T09:23:55.332Z"
   },
   {
    "duration": 6510,
    "start_time": "2022-05-03T09:24:53.925Z"
   },
   {
    "duration": 3102,
    "start_time": "2022-05-03T09:25:22.348Z"
   },
   {
    "duration": 2720,
    "start_time": "2022-05-03T09:25:52.844Z"
   },
   {
    "duration": 12,
    "start_time": "2022-05-03T09:28:07.838Z"
   },
   {
    "duration": 4,
    "start_time": "2022-05-03T09:29:20.069Z"
   },
   {
    "duration": 2846,
    "start_time": "2022-05-03T09:31:09.027Z"
   },
   {
    "duration": 3514,
    "start_time": "2022-05-03T09:31:38.930Z"
   },
   {
    "duration": 4,
    "start_time": "2022-05-03T09:32:36.677Z"
   },
   {
    "duration": 4,
    "start_time": "2022-05-03T09:32:41.673Z"
   },
   {
    "duration": 11,
    "start_time": "2022-05-03T09:32:50.517Z"
   },
   {
    "duration": 2834,
    "start_time": "2022-05-03T09:32:54.879Z"
   },
   {
    "duration": 5,
    "start_time": "2022-05-03T09:33:07.587Z"
   },
   {
    "duration": 3,
    "start_time": "2022-05-03T09:33:51.272Z"
   },
   {
    "duration": 4,
    "start_time": "2022-05-03T09:33:53.780Z"
   },
   {
    "duration": 5,
    "start_time": "2022-05-03T09:34:05.044Z"
   },
   {
    "duration": 10,
    "start_time": "2022-05-03T09:35:55.912Z"
   },
   {
    "duration": 8,
    "start_time": "2022-05-03T09:35:57.154Z"
   },
   {
    "duration": 16,
    "start_time": "2022-05-03T09:37:04.437Z"
   },
   {
    "duration": 10,
    "start_time": "2022-05-03T09:40:23.319Z"
   },
   {
    "duration": 7,
    "start_time": "2022-05-03T09:40:24.192Z"
   },
   {
    "duration": 9,
    "start_time": "2022-05-03T09:40:35.227Z"
   },
   {
    "duration": 8,
    "start_time": "2022-05-03T09:40:38.528Z"
   },
   {
    "duration": 3188,
    "start_time": "2022-05-03T09:41:58.903Z"
   },
   {
    "duration": 5,
    "start_time": "2022-05-03T09:42:28.975Z"
   },
   {
    "duration": 2589,
    "start_time": "2022-05-03T09:43:05.630Z"
   },
   {
    "duration": 2657,
    "start_time": "2022-05-03T09:47:07.322Z"
   },
   {
    "duration": 3134,
    "start_time": "2022-05-03T09:47:18.798Z"
   },
   {
    "duration": 10,
    "start_time": "2022-05-03T09:47:41.246Z"
   },
   {
    "duration": 7,
    "start_time": "2022-05-03T09:47:42.728Z"
   },
   {
    "duration": 9,
    "start_time": "2022-05-03T09:48:31.963Z"
   },
   {
    "duration": 10,
    "start_time": "2022-05-03T09:48:32.865Z"
   },
   {
    "duration": 8,
    "start_time": "2022-05-03T09:48:43.641Z"
   },
   {
    "duration": 9,
    "start_time": "2022-05-03T09:49:05.189Z"
   },
   {
    "duration": 10,
    "start_time": "2022-05-03T10:02:42.250Z"
   },
   {
    "duration": 11,
    "start_time": "2022-05-03T10:02:45.232Z"
   },
   {
    "duration": 14,
    "start_time": "2022-05-03T10:05:17.240Z"
   },
   {
    "duration": 14,
    "start_time": "2022-05-03T10:06:51.816Z"
   },
   {
    "duration": 14,
    "start_time": "2022-05-03T10:06:59.953Z"
   },
   {
    "duration": 15,
    "start_time": "2022-05-03T10:07:16.701Z"
   },
   {
    "duration": 2574,
    "start_time": "2022-05-03T10:11:53.993Z"
   },
   {
    "duration": 10,
    "start_time": "2022-05-03T10:13:55.288Z"
   },
   {
    "duration": 9,
    "start_time": "2022-05-03T10:14:22.163Z"
   },
   {
    "duration": 1992,
    "start_time": "2022-05-03T10:14:35.625Z"
   },
   {
    "duration": 11,
    "start_time": "2022-05-03T10:20:05.477Z"
   },
   {
    "duration": 4,
    "start_time": "2022-05-03T10:20:21.482Z"
   },
   {
    "duration": 971,
    "start_time": "2022-05-03T10:20:23.051Z"
   },
   {
    "duration": 4547,
    "start_time": "2022-05-03T10:21:09.148Z"
   },
   {
    "duration": 2512,
    "start_time": "2022-05-03T10:21:38.328Z"
   },
   {
    "duration": 10,
    "start_time": "2022-05-03T10:24:27.971Z"
   },
   {
    "duration": 7,
    "start_time": "2022-05-03T10:24:29.603Z"
   },
   {
    "duration": 14,
    "start_time": "2022-05-03T10:25:35.680Z"
   },
   {
    "duration": 9,
    "start_time": "2022-05-03T10:26:00.179Z"
   },
   {
    "duration": 13,
    "start_time": "2022-05-03T10:26:13.748Z"
   },
   {
    "duration": 12,
    "start_time": "2022-05-03T10:27:01.561Z"
   },
   {
    "duration": 14,
    "start_time": "2022-05-03T10:27:32.503Z"
   },
   {
    "duration": 8,
    "start_time": "2022-05-03T14:28:15.642Z"
   },
   {
    "duration": 93,
    "start_time": "2022-05-03T15:00:47.422Z"
   },
   {
    "duration": 98,
    "start_time": "2022-05-03T15:01:03.880Z"
   },
   {
    "duration": 4,
    "start_time": "2022-05-03T15:01:23.078Z"
   },
   {
    "duration": 455,
    "start_time": "2022-05-03T15:01:23.653Z"
   },
   {
    "duration": 18,
    "start_time": "2022-05-03T15:01:24.110Z"
   },
   {
    "duration": 922,
    "start_time": "2022-05-03T15:01:24.214Z"
   },
   {
    "duration": 56,
    "start_time": "2022-05-03T15:01:25.138Z"
   },
   {
    "duration": 31,
    "start_time": "2022-05-03T15:01:25.196Z"
   },
   {
    "duration": 722,
    "start_time": "2022-05-03T15:01:25.229Z"
   },
   {
    "duration": 76,
    "start_time": "2022-05-03T15:01:25.953Z"
   },
   {
    "duration": 18,
    "start_time": "2022-05-03T15:01:26.031Z"
   },
   {
    "duration": 650,
    "start_time": "2022-05-03T15:01:26.052Z"
   },
   {
    "duration": 9,
    "start_time": "2022-05-03T15:01:26.704Z"
   },
   {
    "duration": 18,
    "start_time": "2022-05-03T15:01:26.722Z"
   },
   {
    "duration": 31,
    "start_time": "2022-05-03T15:01:26.742Z"
   },
   {
    "duration": 19,
    "start_time": "2022-05-03T15:01:26.775Z"
   },
   {
    "duration": 29,
    "start_time": "2022-05-03T15:01:26.797Z"
   },
   {
    "duration": 26,
    "start_time": "2022-05-03T15:01:26.828Z"
   },
   {
    "duration": 25,
    "start_time": "2022-05-03T15:01:26.856Z"
   },
   {
    "duration": 20,
    "start_time": "2022-05-03T15:01:26.883Z"
   },
   {
    "duration": 12,
    "start_time": "2022-05-03T15:01:27.053Z"
   },
   {
    "duration": 3,
    "start_time": "2022-05-03T15:01:30.146Z"
   },
   {
    "duration": 223,
    "start_time": "2022-05-03T15:01:30.934Z"
   },
   {
    "duration": 647,
    "start_time": "2022-05-03T15:01:32.451Z"
   },
   {
    "duration": 652,
    "start_time": "2022-05-03T15:01:33.100Z"
   },
   {
    "duration": 480,
    "start_time": "2022-05-03T15:01:33.754Z"
   },
   {
    "duration": 13,
    "start_time": "2022-05-03T15:01:35.102Z"
   },
   {
    "duration": 121,
    "start_time": "2022-05-03T15:01:36.339Z"
   },
   {
    "duration": 202,
    "start_time": "2022-05-03T15:01:37.370Z"
   },
   {
    "duration": 140,
    "start_time": "2022-05-03T15:01:38.561Z"
   },
   {
    "duration": 210,
    "start_time": "2022-05-03T15:01:40.319Z"
   },
   {
    "duration": 34,
    "start_time": "2022-05-03T15:01:44.888Z"
   },
   {
    "duration": 283,
    "start_time": "2022-05-03T15:01:48.297Z"
   },
   {
    "duration": 31,
    "start_time": "2022-05-03T15:01:51.437Z"
   },
   {
    "duration": 5,
    "start_time": "2022-05-03T15:01:55.884Z"
   },
   {
    "duration": 129,
    "start_time": "2022-05-03T15:01:57.493Z"
   },
   {
    "duration": 12,
    "start_time": "2022-05-03T15:02:12.365Z"
   },
   {
    "duration": 4,
    "start_time": "2022-05-03T15:02:42.447Z"
   },
   {
    "duration": 1214,
    "start_time": "2022-05-03T15:02:52.333Z"
   },
   {
    "duration": 1133,
    "start_time": "2022-05-03T15:02:55.559Z"
   },
   {
    "duration": 1099,
    "start_time": "2022-05-03T15:02:56.694Z"
   },
   {
    "duration": 15,
    "start_time": "2022-05-03T15:03:13.107Z"
   },
   {
    "duration": 9,
    "start_time": "2022-05-03T15:03:17.001Z"
   },
   {
    "duration": 7,
    "start_time": "2022-05-03T15:03:18.624Z"
   },
   {
    "duration": 9,
    "start_time": "2022-05-03T15:04:47.127Z"
   },
   {
    "duration": 8,
    "start_time": "2022-05-03T15:05:05.040Z"
   },
   {
    "duration": 9,
    "start_time": "2022-05-03T15:07:03.443Z"
   },
   {
    "duration": 8,
    "start_time": "2022-05-03T15:07:09.127Z"
   },
   {
    "duration": 13,
    "start_time": "2022-05-03T15:07:51.874Z"
   },
   {
    "duration": 9,
    "start_time": "2022-05-03T15:08:28.818Z"
   },
   {
    "duration": 11,
    "start_time": "2022-05-03T15:10:33.507Z"
   },
   {
    "duration": 19,
    "start_time": "2022-05-03T15:19:20.985Z"
   },
   {
    "duration": 15,
    "start_time": "2022-05-03T15:19:27.030Z"
   },
   {
    "duration": 17,
    "start_time": "2022-05-03T15:20:30.680Z"
   },
   {
    "duration": 8,
    "start_time": "2022-05-03T15:23:35.226Z"
   },
   {
    "duration": 2033,
    "start_time": "2022-05-04T10:43:28.808Z"
   },
   {
    "duration": 544,
    "start_time": "2022-05-04T10:43:33.596Z"
   },
   {
    "duration": 27,
    "start_time": "2022-05-04T10:43:34.325Z"
   },
   {
    "duration": 1164,
    "start_time": "2022-05-04T10:43:34.604Z"
   },
   {
    "duration": 68,
    "start_time": "2022-05-04T10:43:35.771Z"
   },
   {
    "duration": 25,
    "start_time": "2022-05-04T10:43:35.842Z"
   },
   {
    "duration": 962,
    "start_time": "2022-05-04T10:43:35.871Z"
   },
   {
    "duration": 71,
    "start_time": "2022-05-04T10:43:36.835Z"
   },
   {
    "duration": 20,
    "start_time": "2022-05-04T10:43:36.925Z"
   },
   {
    "duration": 842,
    "start_time": "2022-05-04T10:43:36.949Z"
   },
   {
    "duration": 14,
    "start_time": "2022-05-04T10:43:37.793Z"
   },
   {
    "duration": 14,
    "start_time": "2022-05-04T10:43:37.825Z"
   },
   {
    "duration": 22,
    "start_time": "2022-05-04T10:43:37.841Z"
   },
   {
    "duration": 14,
    "start_time": "2022-05-04T10:43:37.866Z"
   },
   {
    "duration": 19,
    "start_time": "2022-05-04T10:43:37.883Z"
   },
   {
    "duration": 34,
    "start_time": "2022-05-04T10:43:37.904Z"
   },
   {
    "duration": 14,
    "start_time": "2022-05-04T10:43:37.942Z"
   },
   {
    "duration": 19,
    "start_time": "2022-05-04T10:43:37.959Z"
   },
   {
    "duration": 57,
    "start_time": "2022-05-04T10:43:37.980Z"
   },
   {
    "duration": 4,
    "start_time": "2022-05-04T10:43:38.525Z"
   },
   {
    "duration": 331,
    "start_time": "2022-05-04T10:43:38.717Z"
   },
   {
    "duration": 985,
    "start_time": "2022-05-04T10:43:39.157Z"
   },
   {
    "duration": 910,
    "start_time": "2022-05-04T10:43:40.145Z"
   },
   {
    "duration": 711,
    "start_time": "2022-05-04T10:43:41.058Z"
   },
   {
    "duration": 17,
    "start_time": "2022-05-04T10:43:41.771Z"
   },
   {
    "duration": 224,
    "start_time": "2022-05-04T10:43:43.031Z"
   },
   {
    "duration": 300,
    "start_time": "2022-05-04T10:43:44.232Z"
   },
   {
    "duration": 231,
    "start_time": "2022-05-04T10:43:45.462Z"
   },
   {
    "duration": 304,
    "start_time": "2022-05-04T10:43:47.344Z"
   },
   {
    "duration": 60,
    "start_time": "2022-05-04T10:43:51.168Z"
   },
   {
    "duration": 393,
    "start_time": "2022-05-04T10:44:31.552Z"
   },
   {
    "duration": 44,
    "start_time": "2022-05-04T10:44:33.712Z"
   },
   {
    "duration": 7,
    "start_time": "2022-05-04T10:44:35.424Z"
   },
   {
    "duration": 489,
    "start_time": "2022-05-04T10:44:37.689Z"
   },
   {
    "duration": 4,
    "start_time": "2022-05-04T10:44:43.650Z"
   },
   {
    "duration": 1969,
    "start_time": "2022-05-04T10:44:49.070Z"
   },
   {
    "duration": 2206,
    "start_time": "2022-05-04T10:44:53.978Z"
   },
   {
    "duration": 2775,
    "start_time": "2022-05-04T10:45:12.752Z"
   },
   {
    "duration": 28,
    "start_time": "2022-05-04T10:47:21.697Z"
   },
   {
    "duration": 19,
    "start_time": "2022-05-04T10:47:23.499Z"
   },
   {
    "duration": 13,
    "start_time": "2022-05-04T10:47:24.923Z"
   },
   {
    "duration": 237,
    "start_time": "2022-05-04T10:47:36.470Z"
   },
   {
    "duration": 13,
    "start_time": "2022-05-04T10:51:58.676Z"
   },
   {
    "duration": 24,
    "start_time": "2022-05-04T10:53:12.626Z"
   },
   {
    "duration": 16,
    "start_time": "2022-05-04T10:53:18.877Z"
   },
   {
    "duration": 23,
    "start_time": "2022-05-04T10:55:56.857Z"
   },
   {
    "duration": 18,
    "start_time": "2022-05-04T11:00:44.852Z"
   },
   {
    "duration": 156,
    "start_time": "2022-05-04T11:05:23.250Z"
   },
   {
    "duration": 4446,
    "start_time": "2022-05-04T11:05:31.964Z"
   },
   {
    "duration": 161,
    "start_time": "2022-05-04T11:08:38.354Z"
   },
   {
    "duration": 11,
    "start_time": "2022-05-04T11:08:40.793Z"
   },
   {
    "duration": 183,
    "start_time": "2022-05-04T11:11:17.990Z"
   },
   {
    "duration": 9,
    "start_time": "2022-05-04T11:11:26.817Z"
   },
   {
    "duration": 6,
    "start_time": "2022-05-04T11:11:34.054Z"
   },
   {
    "duration": 211,
    "start_time": "2022-05-04T11:11:35.406Z"
   },
   {
    "duration": 7,
    "start_time": "2022-05-04T11:11:38.047Z"
   },
   {
    "duration": 1993,
    "start_time": "2022-05-04T11:11:42.168Z"
   },
   {
    "duration": 1967,
    "start_time": "2022-05-04T11:11:45.967Z"
   },
   {
    "duration": 2074,
    "start_time": "2022-05-04T11:11:51.644Z"
   },
   {
    "duration": 22,
    "start_time": "2022-05-04T11:12:09.157Z"
   },
   {
    "duration": 21,
    "start_time": "2022-05-04T11:12:12.305Z"
   },
   {
    "duration": 145,
    "start_time": "2022-05-04T11:12:17.062Z"
   },
   {
    "duration": 10,
    "start_time": "2022-05-04T11:12:18.586Z"
   },
   {
    "duration": 21,
    "start_time": "2022-05-04T11:12:27.241Z"
   },
   {
    "duration": 38,
    "start_time": "2022-05-04T11:13:09.069Z"
   },
   {
    "duration": 5,
    "start_time": "2022-05-04T11:13:17.399Z"
   },
   {
    "duration": 12,
    "start_time": "2022-05-04T11:13:31.925Z"
   },
   {
    "duration": 250,
    "start_time": "2022-05-04T11:13:33.162Z"
   },
   {
    "duration": 6,
    "start_time": "2022-05-04T11:13:34.700Z"
   },
   {
    "duration": 20,
    "start_time": "2022-05-04T11:13:46.986Z"
   },
   {
    "duration": 132,
    "start_time": "2022-05-04T11:19:42.973Z"
   },
   {
    "duration": 2404,
    "start_time": "2022-05-04T11:19:53.078Z"
   },
   {
    "duration": 2847,
    "start_time": "2022-05-04T11:20:41.969Z"
   },
   {
    "duration": 10,
    "start_time": "2022-05-04T11:21:07.458Z"
   },
   {
    "duration": 14,
    "start_time": "2022-05-04T11:22:14.874Z"
   },
   {
    "duration": 138,
    "start_time": "2022-05-04T11:25:07.108Z"
   },
   {
    "duration": 12,
    "start_time": "2022-05-04T11:25:15.072Z"
   },
   {
    "duration": 11,
    "start_time": "2022-05-04T11:25:22.852Z"
   },
   {
    "duration": 3,
    "start_time": "2022-05-04T11:25:33.572Z"
   },
   {
    "duration": 9,
    "start_time": "2022-05-04T11:25:35.280Z"
   },
   {
    "duration": 11,
    "start_time": "2022-05-04T11:25:36.042Z"
   },
   {
    "duration": 15,
    "start_time": "2022-05-04T11:32:00.731Z"
   },
   {
    "duration": 12,
    "start_time": "2022-05-04T11:32:01.582Z"
   },
   {
    "duration": 5,
    "start_time": "2022-05-04T11:32:17.531Z"
   },
   {
    "duration": 15,
    "start_time": "2022-05-04T11:32:18.859Z"
   },
   {
    "duration": 8,
    "start_time": "2022-05-04T11:32:20.084Z"
   },
   {
    "duration": 16,
    "start_time": "2022-05-04T11:32:31.959Z"
   },
   {
    "duration": 21,
    "start_time": "2022-05-04T11:32:55.731Z"
   },
   {
    "duration": 5,
    "start_time": "2022-05-04T11:33:11.167Z"
   },
   {
    "duration": 17,
    "start_time": "2022-05-04T11:33:11.965Z"
   },
   {
    "duration": 18,
    "start_time": "2022-05-04T11:33:13.855Z"
   },
   {
    "duration": 19,
    "start_time": "2022-05-04T11:33:50.773Z"
   },
   {
    "duration": 6,
    "start_time": "2022-05-04T11:34:06.091Z"
   },
   {
    "duration": 5,
    "start_time": "2022-05-04T11:34:19.180Z"
   },
   {
    "duration": 7,
    "start_time": "2022-05-04T11:34:42.047Z"
   },
   {
    "duration": 11,
    "start_time": "2022-05-04T11:35:17.682Z"
   },
   {
    "duration": 8,
    "start_time": "2022-05-04T11:35:31.402Z"
   },
   {
    "duration": 14,
    "start_time": "2022-05-04T11:47:13.504Z"
   },
   {
    "duration": 12,
    "start_time": "2022-05-04T11:48:15.921Z"
   },
   {
    "duration": 86,
    "start_time": "2022-05-04T11:49:04.681Z"
   },
   {
    "duration": 1607,
    "start_time": "2022-05-04T11:49:21.447Z"
   },
   {
    "duration": 560,
    "start_time": "2022-05-04T11:49:24.328Z"
   },
   {
    "duration": 25,
    "start_time": "2022-05-04T11:49:24.892Z"
   },
   {
    "duration": 1149,
    "start_time": "2022-05-04T11:49:24.921Z"
   },
   {
    "duration": 67,
    "start_time": "2022-05-04T11:49:26.073Z"
   },
   {
    "duration": 37,
    "start_time": "2022-05-04T11:49:26.148Z"
   },
   {
    "duration": 952,
    "start_time": "2022-05-04T11:49:26.188Z"
   },
   {
    "duration": 93,
    "start_time": "2022-05-04T11:49:27.142Z"
   },
   {
    "duration": 29,
    "start_time": "2022-05-04T11:49:27.237Z"
   },
   {
    "duration": 790,
    "start_time": "2022-05-04T11:49:27.269Z"
   },
   {
    "duration": 13,
    "start_time": "2022-05-04T11:49:28.061Z"
   },
   {
    "duration": 15,
    "start_time": "2022-05-04T11:49:28.078Z"
   },
   {
    "duration": 41,
    "start_time": "2022-05-04T11:49:28.124Z"
   },
   {
    "duration": 13,
    "start_time": "2022-05-04T11:49:28.167Z"
   },
   {
    "duration": 16,
    "start_time": "2022-05-04T11:49:28.182Z"
   },
   {
    "duration": 33,
    "start_time": "2022-05-04T11:49:28.200Z"
   },
   {
    "duration": 34,
    "start_time": "2022-05-04T11:49:28.239Z"
   },
   {
    "duration": 19,
    "start_time": "2022-05-04T11:49:28.275Z"
   },
   {
    "duration": 19,
    "start_time": "2022-05-04T11:49:28.296Z"
   },
   {
    "duration": 4,
    "start_time": "2022-05-04T11:49:28.871Z"
   },
   {
    "duration": 345,
    "start_time": "2022-05-04T11:49:29.050Z"
   },
   {
    "duration": 1137,
    "start_time": "2022-05-04T11:49:29.397Z"
   },
   {
    "duration": 1017,
    "start_time": "2022-05-04T11:49:30.539Z"
   },
   {
    "duration": 821,
    "start_time": "2022-05-04T11:49:31.559Z"
   },
   {
    "duration": 19,
    "start_time": "2022-05-04T11:49:32.383Z"
   },
   {
    "duration": 360,
    "start_time": "2022-05-04T11:49:32.429Z"
   },
   {
    "duration": 359,
    "start_time": "2022-05-04T11:49:32.791Z"
   },
   {
    "duration": 280,
    "start_time": "2022-05-04T11:49:33.155Z"
   },
   {
    "duration": 359,
    "start_time": "2022-05-04T11:49:33.438Z"
   },
   {
    "duration": 74,
    "start_time": "2022-05-04T11:49:33.800Z"
   },
   {
    "duration": 394,
    "start_time": "2022-05-04T11:49:33.877Z"
   },
   {
    "duration": 1506,
    "start_time": "2022-05-04T11:53:13.004Z"
   },
   {
    "duration": 532,
    "start_time": "2022-05-04T11:53:18.036Z"
   },
   {
    "duration": 28,
    "start_time": "2022-05-04T11:53:18.571Z"
   },
   {
    "duration": 1103,
    "start_time": "2022-05-04T11:53:18.602Z"
   },
   {
    "duration": 61,
    "start_time": "2022-05-04T11:53:19.707Z"
   },
   {
    "duration": 28,
    "start_time": "2022-05-04T11:53:19.772Z"
   },
   {
    "duration": 887,
    "start_time": "2022-05-04T11:53:19.802Z"
   },
   {
    "duration": 76,
    "start_time": "2022-05-04T11:53:20.692Z"
   },
   {
    "duration": 24,
    "start_time": "2022-05-04T11:53:20.771Z"
   },
   {
    "duration": 786,
    "start_time": "2022-05-04T11:53:20.798Z"
   },
   {
    "duration": 16,
    "start_time": "2022-05-04T11:53:21.586Z"
   },
   {
    "duration": 52,
    "start_time": "2022-05-04T11:53:21.605Z"
   },
   {
    "duration": 56,
    "start_time": "2022-05-04T11:53:21.660Z"
   },
   {
    "duration": 32,
    "start_time": "2022-05-04T11:53:21.719Z"
   },
   {
    "duration": 19,
    "start_time": "2022-05-04T11:53:21.756Z"
   },
   {
    "duration": 36,
    "start_time": "2022-05-04T11:53:21.778Z"
   },
   {
    "duration": 36,
    "start_time": "2022-05-04T11:53:21.817Z"
   },
   {
    "duration": 28,
    "start_time": "2022-05-04T11:53:21.856Z"
   },
   {
    "duration": 47,
    "start_time": "2022-05-04T11:53:21.886Z"
   },
   {
    "duration": 14,
    "start_time": "2022-05-04T11:53:21.936Z"
   },
   {
    "duration": 328,
    "start_time": "2022-05-04T11:53:21.953Z"
   },
   {
    "duration": 1125,
    "start_time": "2022-05-04T11:53:23.222Z"
   },
   {
    "duration": 952,
    "start_time": "2022-05-04T11:53:24.350Z"
   },
   {
    "duration": 794,
    "start_time": "2022-05-04T11:53:25.304Z"
   },
   {
    "duration": 26,
    "start_time": "2022-05-04T11:53:26.101Z"
   },
   {
    "duration": 250,
    "start_time": "2022-05-04T11:53:26.130Z"
   },
   {
    "duration": 318,
    "start_time": "2022-05-04T11:53:26.478Z"
   },
   {
    "duration": 240,
    "start_time": "2022-05-04T11:53:27.970Z"
   },
   {
    "duration": 333,
    "start_time": "2022-05-04T11:53:29.113Z"
   },
   {
    "duration": 65,
    "start_time": "2022-05-04T11:53:31.908Z"
   },
   {
    "duration": 461,
    "start_time": "2022-05-04T11:53:35.125Z"
   },
   {
    "duration": 157,
    "start_time": "2022-05-04T11:53:38.011Z"
   },
   {
    "duration": 14,
    "start_time": "2022-05-04T11:53:54.801Z"
   },
   {
    "duration": 19,
    "start_time": "2022-05-04T12:01:43.931Z"
   },
   {
    "duration": 21,
    "start_time": "2022-05-04T12:05:36.841Z"
   },
   {
    "duration": 16,
    "start_time": "2022-05-04T12:07:27.622Z"
   },
   {
    "duration": 143,
    "start_time": "2022-05-04T12:08:18.732Z"
   },
   {
    "duration": 6,
    "start_time": "2022-05-04T12:08:34.767Z"
   },
   {
    "duration": 43,
    "start_time": "2022-05-04T12:08:51.992Z"
   },
   {
    "duration": 7,
    "start_time": "2022-05-04T12:08:54.568Z"
   },
   {
    "duration": 181,
    "start_time": "2022-05-04T12:08:55.576Z"
   },
   {
    "duration": 357,
    "start_time": "2022-05-04T12:09:57.870Z"
   },
   {
    "duration": 51,
    "start_time": "2022-05-04T12:10:00.229Z"
   },
   {
    "duration": 7,
    "start_time": "2022-05-04T12:10:01.498Z"
   },
   {
    "duration": 189,
    "start_time": "2022-05-04T12:10:02.425Z"
   },
   {
    "duration": 5,
    "start_time": "2022-05-04T12:10:26.207Z"
   },
   {
    "duration": 1553,
    "start_time": "2022-05-04T12:10:28.349Z"
   },
   {
    "duration": 1507,
    "start_time": "2022-05-04T12:10:29.905Z"
   },
   {
    "duration": 1469,
    "start_time": "2022-05-04T12:10:31.414Z"
   },
   {
    "duration": 38,
    "start_time": "2022-05-04T12:10:32.886Z"
   },
   {
    "duration": 26,
    "start_time": "2022-05-04T12:10:32.927Z"
   },
   {
    "duration": 6,
    "start_time": "2022-05-04T12:10:32.956Z"
   },
   {
    "duration": 16,
    "start_time": "2022-05-04T12:10:32.965Z"
   },
   {
    "duration": 8,
    "start_time": "2022-05-04T12:10:33.059Z"
   },
   {
    "duration": 6,
    "start_time": "2022-05-04T12:10:40.086Z"
   },
   {
    "duration": 12,
    "start_time": "2022-05-04T12:10:57.766Z"
   },
   {
    "duration": 11,
    "start_time": "2022-05-04T12:10:58.582Z"
   },
   {
    "duration": 38,
    "start_time": "2022-05-04T12:13:06.746Z"
   },
   {
    "duration": 28,
    "start_time": "2022-05-04T12:13:24.673Z"
   },
   {
    "duration": 15,
    "start_time": "2022-05-04T12:13:35.356Z"
   },
   {
    "duration": 4,
    "start_time": "2022-05-04T12:13:38.291Z"
   },
   {
    "duration": 19,
    "start_time": "2022-05-04T12:13:39.056Z"
   },
   {
    "duration": 10,
    "start_time": "2022-05-04T12:13:41.178Z"
   },
   {
    "duration": 16,
    "start_time": "2022-05-04T12:13:59.157Z"
   },
   {
    "duration": 4,
    "start_time": "2022-05-04T12:14:00.729Z"
   },
   {
    "duration": 19,
    "start_time": "2022-05-04T12:14:01.321Z"
   },
   {
    "duration": 7,
    "start_time": "2022-05-04T12:14:01.929Z"
   },
   {
    "duration": 13,
    "start_time": "2022-05-04T12:17:14.814Z"
   },
   {
    "duration": 636,
    "start_time": "2022-05-04T13:22:18.967Z"
   },
   {
    "duration": 854,
    "start_time": "2022-05-04T13:23:14.105Z"
   },
   {
    "duration": 34,
    "start_time": "2022-05-04T13:23:41.911Z"
   },
   {
    "duration": 6,
    "start_time": "2022-05-04T13:23:45.344Z"
   },
   {
    "duration": 163,
    "start_time": "2022-05-04T13:23:46.566Z"
   },
   {
    "duration": 180,
    "start_time": "2022-05-04T13:24:08.190Z"
   },
   {
    "duration": 160,
    "start_time": "2022-05-04T13:24:23.484Z"
   },
   {
    "duration": 6,
    "start_time": "2022-05-04T13:25:28.301Z"
   },
   {
    "duration": 1797,
    "start_time": "2022-05-04T13:26:25.655Z"
   },
   {
    "duration": 2372,
    "start_time": "2022-05-04T13:26:27.845Z"
   },
   {
    "duration": 1419,
    "start_time": "2022-05-04T13:26:34.089Z"
   },
   {
    "duration": 21,
    "start_time": "2022-05-04T13:26:46.365Z"
   },
   {
    "duration": 13,
    "start_time": "2022-05-04T13:27:05.328Z"
   },
   {
    "duration": 4,
    "start_time": "2022-05-04T13:27:07.746Z"
   },
   {
    "duration": 13,
    "start_time": "2022-05-04T13:27:08.639Z"
   },
   {
    "duration": 9,
    "start_time": "2022-05-04T13:27:10.278Z"
   },
   {
    "duration": 4,
    "start_time": "2022-05-04T13:27:30.497Z"
   },
   {
    "duration": 13,
    "start_time": "2022-05-04T13:27:31.225Z"
   },
   {
    "duration": 10,
    "start_time": "2022-05-04T13:27:32.021Z"
   },
   {
    "duration": 6,
    "start_time": "2022-05-04T13:29:00.220Z"
   },
   {
    "duration": 19,
    "start_time": "2022-05-04T13:29:44.071Z"
   },
   {
    "duration": 34,
    "start_time": "2022-05-04T13:32:09.093Z"
   },
   {
    "duration": 7,
    "start_time": "2022-05-04T13:32:10.880Z"
   },
   {
    "duration": 2076,
    "start_time": "2022-05-04T13:32:19.512Z"
   },
   {
    "duration": 19,
    "start_time": "2022-05-04T13:32:45.634Z"
   },
   {
    "duration": 7,
    "start_time": "2022-05-04T13:33:10.863Z"
   },
   {
    "duration": 1993,
    "start_time": "2022-05-04T13:33:14.928Z"
   },
   {
    "duration": 7,
    "start_time": "2022-05-04T13:33:44.059Z"
   },
   {
    "duration": 172,
    "start_time": "2022-05-04T13:33:49.571Z"
   },
   {
    "duration": 34,
    "start_time": "2022-05-04T13:35:34.040Z"
   },
   {
    "duration": 7,
    "start_time": "2022-05-04T13:35:35.208Z"
   },
   {
    "duration": 183,
    "start_time": "2022-05-04T13:35:37.328Z"
   },
   {
    "duration": 23,
    "start_time": "2022-05-04T13:36:42.191Z"
   },
   {
    "duration": 153,
    "start_time": "2022-05-04T13:39:37.316Z"
   },
   {
    "duration": 10,
    "start_time": "2022-05-04T13:39:38.963Z"
   },
   {
    "duration": 1970,
    "start_time": "2022-05-04T13:40:11.263Z"
   },
   {
    "duration": 21,
    "start_time": "2022-05-04T14:34:53.719Z"
   },
   {
    "duration": 38,
    "start_time": "2022-05-04T14:35:35.946Z"
   },
   {
    "duration": 19,
    "start_time": "2022-05-04T14:35:37.369Z"
   },
   {
    "duration": 6,
    "start_time": "2022-05-04T14:35:46.515Z"
   },
   {
    "duration": 3155,
    "start_time": "2022-05-04T14:36:00.268Z"
   },
   {
    "duration": 39,
    "start_time": "2022-05-04T14:38:02.256Z"
   },
   {
    "duration": 22,
    "start_time": "2022-05-04T14:38:03.735Z"
   },
   {
    "duration": 34,
    "start_time": "2022-05-04T14:46:52.866Z"
   },
   {
    "duration": 1920,
    "start_time": "2022-05-04T14:46:53.806Z"
   },
   {
    "duration": 0,
    "start_time": "2022-05-04T14:46:55.729Z"
   },
   {
    "duration": 34,
    "start_time": "2022-05-04T14:47:10.089Z"
   },
   {
    "duration": 841,
    "start_time": "2022-05-04T14:47:16.247Z"
   },
   {
    "duration": 18,
    "start_time": "2022-05-04T14:47:20.114Z"
   },
   {
    "duration": 38,
    "start_time": "2022-05-04T14:48:57.088Z"
   },
   {
    "duration": 21,
    "start_time": "2022-05-04T14:49:01.306Z"
   },
   {
    "duration": 503,
    "start_time": "2022-05-04T14:50:16.818Z"
   },
   {
    "duration": 23,
    "start_time": "2022-05-04T14:50:23.361Z"
   },
   {
    "duration": 4328,
    "start_time": "2022-05-04T14:50:40.395Z"
   },
   {
    "duration": 5196,
    "start_time": "2022-05-04T14:50:54.917Z"
   },
   {
    "duration": 514,
    "start_time": "2022-05-04T14:51:16.310Z"
   },
   {
    "duration": 22,
    "start_time": "2022-05-04T14:51:18.652Z"
   },
   {
    "duration": 4457,
    "start_time": "2022-05-04T14:51:19.782Z"
   },
   {
    "duration": 1022,
    "start_time": "2022-05-04T14:51:35.528Z"
   },
   {
    "duration": 53,
    "start_time": "2022-05-04T14:51:42.363Z"
   },
   {
    "duration": 23,
    "start_time": "2022-05-04T14:51:51.479Z"
   },
   {
    "duration": 911,
    "start_time": "2022-05-04T14:52:14.516Z"
   },
   {
    "duration": 66,
    "start_time": "2022-05-04T14:52:20.640Z"
   },
   {
    "duration": 19,
    "start_time": "2022-05-04T14:52:29.494Z"
   },
   {
    "duration": 722,
    "start_time": "2022-05-04T14:52:50.322Z"
   },
   {
    "duration": 15,
    "start_time": "2022-05-04T14:52:59.626Z"
   },
   {
    "duration": 14,
    "start_time": "2022-05-04T14:53:46.167Z"
   },
   {
    "duration": 13,
    "start_time": "2022-05-04T14:53:51.350Z"
   },
   {
    "duration": 5,
    "start_time": "2022-05-04T14:54:04.181Z"
   },
   {
    "duration": 18,
    "start_time": "2022-05-04T14:54:08.196Z"
   },
   {
    "duration": 14,
    "start_time": "2022-05-04T14:54:12.609Z"
   },
   {
    "duration": 14,
    "start_time": "2022-05-04T14:54:42.051Z"
   },
   {
    "duration": 15,
    "start_time": "2022-05-04T14:54:46.044Z"
   },
   {
    "duration": 17,
    "start_time": "2022-05-04T14:54:50.807Z"
   },
   {
    "duration": 299,
    "start_time": "2022-05-04T14:55:11.059Z"
   },
   {
    "duration": 975,
    "start_time": "2022-05-04T14:55:32.411Z"
   },
   {
    "duration": 954,
    "start_time": "2022-05-04T14:55:34.200Z"
   },
   {
    "duration": 779,
    "start_time": "2022-05-04T14:55:35.157Z"
   },
   {
    "duration": 17,
    "start_time": "2022-05-04T14:55:44.030Z"
   },
   {
    "duration": 202,
    "start_time": "2022-05-04T14:55:51.760Z"
   },
   {
    "duration": 314,
    "start_time": "2022-05-04T14:56:00.724Z"
   },
   {
    "duration": 266,
    "start_time": "2022-05-04T14:56:05.688Z"
   },
   {
    "duration": 324,
    "start_time": "2022-05-04T14:56:13.919Z"
   },
   {
    "duration": 61,
    "start_time": "2022-05-04T14:56:33.048Z"
   },
   {
    "duration": 848,
    "start_time": "2022-05-04T14:57:20.517Z"
   },
   {
    "duration": 36,
    "start_time": "2022-05-04T14:57:32.262Z"
   },
   {
    "duration": 18,
    "start_time": "2022-05-04T14:57:36.884Z"
   },
   {
    "duration": 9,
    "start_time": "2022-05-04T14:59:53.690Z"
   },
   {
    "duration": 2322,
    "start_time": "2022-05-04T15:00:25.403Z"
   },
   {
    "duration": 28,
    "start_time": "2022-05-04T15:02:37.116Z"
   },
   {
    "duration": 24,
    "start_time": "2022-05-04T15:03:15.674Z"
   },
   {
    "duration": 28,
    "start_time": "2022-05-04T15:03:59.755Z"
   },
   {
    "duration": 24,
    "start_time": "2022-05-04T15:06:05.690Z"
   },
   {
    "duration": 34,
    "start_time": "2022-05-04T16:56:34.988Z"
   },
   {
    "duration": 19,
    "start_time": "2022-05-04T16:56:36.064Z"
   },
   {
    "duration": 40,
    "start_time": "2022-05-04T16:56:50.462Z"
   },
   {
    "duration": 22,
    "start_time": "2022-05-04T16:56:51.558Z"
   },
   {
    "duration": 7,
    "start_time": "2022-05-04T16:57:00.475Z"
   },
   {
    "duration": 165,
    "start_time": "2022-05-04T16:57:37.761Z"
   },
   {
    "duration": 41,
    "start_time": "2022-05-04T16:58:42.094Z"
   },
   {
    "duration": 21,
    "start_time": "2022-05-04T16:58:43.176Z"
   },
   {
    "duration": 12,
    "start_time": "2022-05-04T16:58:44.624Z"
   },
   {
    "duration": 165,
    "start_time": "2022-05-04T16:58:51.607Z"
   },
   {
    "duration": 22,
    "start_time": "2022-05-04T17:00:11.649Z"
   },
   {
    "duration": 13,
    "start_time": "2022-05-04T17:00:32.117Z"
   },
   {
    "duration": 27,
    "start_time": "2022-05-04T17:00:54.470Z"
   },
   {
    "duration": 567,
    "start_time": "2022-05-04T17:02:21.162Z"
   },
   {
    "duration": 80,
    "start_time": "2022-05-04T17:02:22.568Z"
   },
   {
    "duration": 35,
    "start_time": "2022-05-04T17:02:24.192Z"
   },
   {
    "duration": 565,
    "start_time": "2022-05-04T17:02:36.044Z"
   },
   {
    "duration": 54,
    "start_time": "2022-05-04T17:02:36.920Z"
   },
   {
    "duration": 24,
    "start_time": "2022-05-04T17:02:38.377Z"
   },
   {
    "duration": 3096,
    "start_time": "2022-05-04T17:03:09.671Z"
   },
   {
    "duration": 0,
    "start_time": "2022-05-04T17:03:12.769Z"
   },
   {
    "duration": 48,
    "start_time": "2022-05-04T17:04:28.697Z"
   },
   {
    "duration": 26,
    "start_time": "2022-05-04T17:04:29.642Z"
   },
   {
    "duration": 9,
    "start_time": "2022-05-04T17:04:37.857Z"
   },
   {
    "duration": 5,
    "start_time": "2022-05-04T17:04:39.911Z"
   },
   {
    "duration": 169,
    "start_time": "2022-05-04T17:04:47.696Z"
   },
   {
    "duration": 16,
    "start_time": "2022-05-04T17:05:24.949Z"
   },
   {
    "duration": 19,
    "start_time": "2022-05-04T17:05:37.598Z"
   },
   {
    "duration": 4,
    "start_time": "2022-05-04T17:05:48.835Z"
   },
   {
    "duration": 14,
    "start_time": "2022-05-04T17:05:49.587Z"
   },
   {
    "duration": 13,
    "start_time": "2022-05-04T17:06:02.729Z"
   },
   {
    "duration": 22,
    "start_time": "2022-05-04T17:07:54.552Z"
   },
   {
    "duration": 13,
    "start_time": "2022-05-04T17:09:20.746Z"
   },
   {
    "duration": 18,
    "start_time": "2022-05-04T17:09:25.727Z"
   },
   {
    "duration": 350,
    "start_time": "2022-05-04T17:11:28.207Z"
   },
   {
    "duration": 46,
    "start_time": "2022-05-04T17:11:29.486Z"
   },
   {
    "duration": 23,
    "start_time": "2022-05-04T17:11:30.606Z"
   },
   {
    "duration": 45,
    "start_time": "2022-05-04T17:12:12.941Z"
   },
   {
    "duration": 16,
    "start_time": "2022-05-04T17:12:13.845Z"
   },
   {
    "duration": 6,
    "start_time": "2022-05-04T17:12:25.712Z"
   },
   {
    "duration": 160,
    "start_time": "2022-05-04T17:12:26.776Z"
   },
   {
    "duration": 45,
    "start_time": "2022-05-04T17:13:06.229Z"
   },
   {
    "duration": 16,
    "start_time": "2022-05-04T17:13:08.060Z"
   },
   {
    "duration": 7,
    "start_time": "2022-05-04T17:13:09.591Z"
   },
   {
    "duration": 158,
    "start_time": "2022-05-04T17:13:13.980Z"
   },
   {
    "duration": 64,
    "start_time": "2022-05-04T19:06:23.938Z"
   },
   {
    "duration": 1317,
    "start_time": "2022-05-04T19:06:52.491Z"
   },
   {
    "duration": 423,
    "start_time": "2022-05-04T19:06:53.810Z"
   },
   {
    "duration": 20,
    "start_time": "2022-05-04T19:06:54.235Z"
   },
   {
    "duration": 901,
    "start_time": "2022-05-04T19:06:54.258Z"
   },
   {
    "duration": 57,
    "start_time": "2022-05-04T19:06:55.161Z"
   },
   {
    "duration": 16,
    "start_time": "2022-05-04T19:06:55.220Z"
   },
   {
    "duration": 765,
    "start_time": "2022-05-04T19:06:55.237Z"
   },
   {
    "duration": 73,
    "start_time": "2022-05-04T19:06:56.005Z"
   },
   {
    "duration": 15,
    "start_time": "2022-05-04T19:06:56.080Z"
   },
   {
    "duration": 703,
    "start_time": "2022-05-04T19:06:56.097Z"
   },
   {
    "duration": 10,
    "start_time": "2022-05-04T19:06:56.801Z"
   },
   {
    "duration": 18,
    "start_time": "2022-05-04T19:06:56.812Z"
   },
   {
    "duration": 12,
    "start_time": "2022-05-04T19:06:56.831Z"
   },
   {
    "duration": 8,
    "start_time": "2022-05-04T19:06:56.845Z"
   },
   {
    "duration": 35,
    "start_time": "2022-05-04T19:06:56.854Z"
   },
   {
    "duration": 14,
    "start_time": "2022-05-04T19:06:56.891Z"
   },
   {
    "duration": 16,
    "start_time": "2022-05-04T19:06:56.908Z"
   },
   {
    "duration": 18,
    "start_time": "2022-05-04T19:06:56.926Z"
   },
   {
    "duration": 18,
    "start_time": "2022-05-04T19:06:56.975Z"
   },
   {
    "duration": 4,
    "start_time": "2022-05-04T19:06:57.001Z"
   },
   {
    "duration": 234,
    "start_time": "2022-05-04T19:06:57.159Z"
   },
   {
    "duration": 602,
    "start_time": "2022-05-04T19:06:57.504Z"
   },
   {
    "duration": 609,
    "start_time": "2022-05-04T19:06:58.108Z"
   },
   {
    "duration": 465,
    "start_time": "2022-05-04T19:06:58.718Z"
   },
   {
    "duration": 14,
    "start_time": "2022-05-04T19:06:59.187Z"
   },
   {
    "duration": 223,
    "start_time": "2022-05-04T19:06:59.203Z"
   },
   {
    "duration": 212,
    "start_time": "2022-05-04T19:06:59.428Z"
   },
   {
    "duration": 170,
    "start_time": "2022-05-04T19:06:59.642Z"
   },
   {
    "duration": 229,
    "start_time": "2022-05-04T19:06:59.814Z"
   },
   {
    "duration": 53,
    "start_time": "2022-05-04T19:07:00.045Z"
   },
   {
    "duration": 73,
    "start_time": "2022-05-04T19:07:03.531Z"
   },
   {
    "duration": 297,
    "start_time": "2022-05-04T19:07:29.344Z"
   },
   {
    "duration": 33,
    "start_time": "2022-05-04T19:07:31.317Z"
   },
   {
    "duration": 37,
    "start_time": "2022-05-04T19:07:40.152Z"
   },
   {
    "duration": 30,
    "start_time": "2022-05-04T19:07:46.459Z"
   },
   {
    "duration": 13,
    "start_time": "2022-05-04T19:07:47.801Z"
   },
   {
    "duration": 4,
    "start_time": "2022-05-04T19:07:58.469Z"
   },
   {
    "duration": 18,
    "start_time": "2022-05-04T19:07:59.365Z"
   },
   {
    "duration": 4,
    "start_time": "2022-05-04T19:08:28.736Z"
   },
   {
    "duration": 87,
    "start_time": "2022-05-04T19:08:29.623Z"
   },
   {
    "duration": 5,
    "start_time": "2022-05-04T19:08:32.843Z"
   },
   {
    "duration": 1275,
    "start_time": "2022-05-04T19:08:43.461Z"
   },
   {
    "duration": 1210,
    "start_time": "2022-05-04T19:08:47.677Z"
   },
   {
    "duration": 1338,
    "start_time": "2022-05-04T19:08:49.979Z"
   },
   {
    "duration": 15,
    "start_time": "2022-05-04T19:09:04.445Z"
   },
   {
    "duration": 21,
    "start_time": "2022-05-04T19:10:32.409Z"
   },
   {
    "duration": 13,
    "start_time": "2022-05-04T19:10:51.709Z"
   },
   {
    "duration": 3,
    "start_time": "2022-05-04T19:13:23.542Z"
   },
   {
    "duration": 11,
    "start_time": "2022-05-04T19:13:24.368Z"
   },
   {
    "duration": 32,
    "start_time": "2022-05-04T19:13:28.005Z"
   },
   {
    "duration": 11,
    "start_time": "2022-05-04T19:14:14.350Z"
   },
   {
    "duration": 14,
    "start_time": "2022-05-04T19:14:27.628Z"
   },
   {
    "duration": 14,
    "start_time": "2022-05-04T19:14:28.639Z"
   },
   {
    "duration": 4,
    "start_time": "2022-05-04T19:14:44.344Z"
   },
   {
    "duration": 13,
    "start_time": "2022-05-04T19:14:45.923Z"
   },
   {
    "duration": 5,
    "start_time": "2022-05-04T19:14:52.396Z"
   },
   {
    "duration": 17,
    "start_time": "2022-05-04T19:18:26.760Z"
   },
   {
    "duration": 3,
    "start_time": "2022-05-04T19:19:07.143Z"
   },
   {
    "duration": 11,
    "start_time": "2022-05-04T19:19:07.941Z"
   },
   {
    "duration": 10,
    "start_time": "2022-05-04T19:19:22.912Z"
   },
   {
    "duration": 9,
    "start_time": "2022-05-04T19:21:03.525Z"
   },
   {
    "duration": 12,
    "start_time": "2022-05-04T19:21:44.625Z"
   },
   {
    "duration": 12,
    "start_time": "2022-05-04T19:23:03.268Z"
   },
   {
    "duration": 19,
    "start_time": "2022-05-04T19:24:34.743Z"
   },
   {
    "duration": 3,
    "start_time": "2022-05-04T19:24:56.489Z"
   },
   {
    "duration": 14,
    "start_time": "2022-05-04T19:24:57.229Z"
   },
   {
    "duration": 75,
    "start_time": "2022-05-04T19:29:48.519Z"
   },
   {
    "duration": 16,
    "start_time": "2022-05-04T19:30:02.195Z"
   },
   {
    "duration": 19,
    "start_time": "2022-05-04T19:33:51.666Z"
   },
   {
    "duration": 22,
    "start_time": "2022-05-04T19:34:20.620Z"
   },
   {
    "duration": 4,
    "start_time": "2022-05-04T19:34:36.050Z"
   },
   {
    "duration": 6,
    "start_time": "2022-05-04T19:34:51.747Z"
   },
   {
    "duration": 10,
    "start_time": "2022-05-04T19:35:00.261Z"
   },
   {
    "duration": 4,
    "start_time": "2022-05-04T19:36:06.284Z"
   },
   {
    "duration": 7,
    "start_time": "2022-05-04T19:36:13.741Z"
   },
   {
    "duration": 4,
    "start_time": "2022-05-04T19:36:30.849Z"
   },
   {
    "duration": 14,
    "start_time": "2022-05-04T19:36:31.569Z"
   },
   {
    "duration": 8,
    "start_time": "2022-05-04T19:36:32.360Z"
   },
   {
    "duration": 6,
    "start_time": "2022-05-04T19:37:07.821Z"
   },
   {
    "duration": 442,
    "start_time": "2022-05-04T19:37:40.965Z"
   },
   {
    "duration": 77,
    "start_time": "2022-05-04T19:38:22.003Z"
   },
   {
    "duration": 2881,
    "start_time": "2022-05-04T19:38:30.320Z"
   },
   {
    "duration": 11,
    "start_time": "2022-05-04T19:38:43.039Z"
   },
   {
    "duration": 5,
    "start_time": "2022-05-04T19:38:54.186Z"
   },
   {
    "duration": 11,
    "start_time": "2022-05-04T19:41:14.094Z"
   },
   {
    "duration": 265,
    "start_time": "2022-05-04T19:41:17.925Z"
   },
   {
    "duration": 151,
    "start_time": "2022-05-04T19:41:30.392Z"
   },
   {
    "duration": 143,
    "start_time": "2022-05-04T19:42:04.912Z"
   },
   {
    "duration": 612,
    "start_time": "2022-05-04T19:43:55.511Z"
   },
   {
    "duration": 578,
    "start_time": "2022-05-04T19:44:17.496Z"
   },
   {
    "duration": 124,
    "start_time": "2022-05-04T19:45:27.412Z"
   },
   {
    "duration": 135,
    "start_time": "2022-05-04T19:46:06.097Z"
   },
   {
    "duration": 4,
    "start_time": "2022-05-04T19:46:17.392Z"
   },
   {
    "duration": 661,
    "start_time": "2022-05-04T19:46:55.317Z"
   },
   {
    "duration": 641,
    "start_time": "2022-05-04T19:47:25.698Z"
   },
   {
    "duration": 17,
    "start_time": "2022-05-04T19:47:53.882Z"
   },
   {
    "duration": 3,
    "start_time": "2022-05-04T19:48:04.445Z"
   },
   {
    "duration": 15,
    "start_time": "2022-05-04T19:48:05.236Z"
   },
   {
    "duration": 7,
    "start_time": "2022-05-04T19:48:10.049Z"
   },
   {
    "duration": 16,
    "start_time": "2022-05-04T19:55:05.035Z"
   },
   {
    "duration": 8,
    "start_time": "2022-05-04T19:55:06.890Z"
   },
   {
    "duration": 1262,
    "start_time": "2022-05-05T10:01:16.071Z"
   },
   {
    "duration": 533,
    "start_time": "2022-05-05T10:01:17.335Z"
   },
   {
    "duration": 20,
    "start_time": "2022-05-05T10:01:17.869Z"
   },
   {
    "duration": 902,
    "start_time": "2022-05-05T10:01:17.891Z"
   },
   {
    "duration": 94,
    "start_time": "2022-05-05T10:01:18.794Z"
   },
   {
    "duration": 15,
    "start_time": "2022-05-05T10:01:18.889Z"
   },
   {
    "duration": 1304,
    "start_time": "2022-05-05T10:01:18.905Z"
   },
   {
    "duration": 63,
    "start_time": "2022-05-05T10:01:20.210Z"
   },
   {
    "duration": 14,
    "start_time": "2022-05-05T10:01:20.275Z"
   },
   {
    "duration": 790,
    "start_time": "2022-05-05T10:01:20.292Z"
   },
   {
    "duration": 9,
    "start_time": "2022-05-05T10:01:21.084Z"
   },
   {
    "duration": 14,
    "start_time": "2022-05-05T10:01:21.094Z"
   },
   {
    "duration": 64,
    "start_time": "2022-05-05T10:01:21.111Z"
   },
   {
    "duration": 6,
    "start_time": "2022-05-05T10:01:21.178Z"
   },
   {
    "duration": 16,
    "start_time": "2022-05-05T10:01:21.185Z"
   },
   {
    "duration": 11,
    "start_time": "2022-05-05T10:01:21.203Z"
   },
   {
    "duration": 64,
    "start_time": "2022-05-05T10:01:21.216Z"
   },
   {
    "duration": 15,
    "start_time": "2022-05-05T10:01:21.282Z"
   },
   {
    "duration": 18,
    "start_time": "2022-05-05T10:01:21.299Z"
   },
   {
    "duration": 54,
    "start_time": "2022-05-05T10:01:21.319Z"
   },
   {
    "duration": 437,
    "start_time": "2022-05-05T10:01:21.376Z"
   },
   {
    "duration": 819,
    "start_time": "2022-05-05T10:01:21.815Z"
   },
   {
    "duration": 571,
    "start_time": "2022-05-05T10:01:22.636Z"
   },
   {
    "duration": 564,
    "start_time": "2022-05-05T10:01:23.209Z"
   },
   {
    "duration": 11,
    "start_time": "2022-05-05T10:01:23.775Z"
   },
   {
    "duration": 305,
    "start_time": "2022-05-05T10:01:23.788Z"
   },
   {
    "duration": 408,
    "start_time": "2022-05-05T10:01:24.095Z"
   },
   {
    "duration": 315,
    "start_time": "2022-05-05T10:01:24.506Z"
   },
   {
    "duration": 299,
    "start_time": "2022-05-05T10:01:24.874Z"
   },
   {
    "duration": 40,
    "start_time": "2022-05-05T10:01:25.175Z"
   },
   {
    "duration": 297,
    "start_time": "2022-05-05T10:01:25.217Z"
   },
   {
    "duration": 33,
    "start_time": "2022-05-05T10:01:25.516Z"
   },
   {
    "duration": 23,
    "start_time": "2022-05-05T10:01:25.550Z"
   },
   {
    "duration": 4,
    "start_time": "2022-05-05T10:01:25.575Z"
   },
   {
    "duration": 102,
    "start_time": "2022-05-05T10:01:25.581Z"
   },
   {
    "duration": 1201,
    "start_time": "2022-05-05T10:01:25.685Z"
   },
   {
    "duration": 2023,
    "start_time": "2022-05-05T10:01:26.888Z"
   },
   {
    "duration": 1192,
    "start_time": "2022-05-05T10:01:28.913Z"
   },
   {
    "duration": 3,
    "start_time": "2022-05-05T10:01:30.107Z"
   },
   {
    "duration": 21,
    "start_time": "2022-05-05T10:01:30.112Z"
   },
   {
    "duration": 15,
    "start_time": "2022-05-05T10:01:30.135Z"
   },
   {
    "duration": 28,
    "start_time": "2022-05-05T10:01:30.152Z"
   },
   {
    "duration": 5,
    "start_time": "2022-05-05T10:01:30.183Z"
   },
   {
    "duration": 16,
    "start_time": "2022-05-05T10:02:51.852Z"
   },
   {
    "duration": 108,
    "start_time": "2022-05-05T10:03:08.860Z"
   },
   {
    "duration": 547,
    "start_time": "2022-05-05T10:03:13.107Z"
   },
   {
    "duration": 42,
    "start_time": "2022-05-05T10:03:31.787Z"
   },
   {
    "duration": 10,
    "start_time": "2022-05-05T10:04:28.564Z"
   },
   {
    "duration": 18,
    "start_time": "2022-05-05T10:04:44.560Z"
   },
   {
    "duration": 9,
    "start_time": "2022-05-05T10:05:18.644Z"
   },
   {
    "duration": 11,
    "start_time": "2022-05-05T10:05:39.293Z"
   },
   {
    "duration": 9,
    "start_time": "2022-05-05T10:05:42.936Z"
   },
   {
    "duration": 1263,
    "start_time": "2022-05-05T10:26:38.338Z"
   },
   {
    "duration": 345,
    "start_time": "2022-05-05T10:26:43.449Z"
   },
   {
    "duration": 17,
    "start_time": "2022-05-05T10:26:45.316Z"
   },
   {
    "duration": 772,
    "start_time": "2022-05-05T10:26:45.810Z"
   },
   {
    "duration": 44,
    "start_time": "2022-05-05T10:26:46.921Z"
   },
   {
    "duration": 15,
    "start_time": "2022-05-05T10:26:47.536Z"
   },
   {
    "duration": 619,
    "start_time": "2022-05-05T10:26:48.382Z"
   },
   {
    "duration": 50,
    "start_time": "2022-05-05T10:26:49.029Z"
   },
   {
    "duration": 13,
    "start_time": "2022-05-05T10:26:49.927Z"
   },
   {
    "duration": 587,
    "start_time": "2022-05-05T10:26:50.945Z"
   },
   {
    "duration": 9,
    "start_time": "2022-05-05T10:26:52.740Z"
   },
   {
    "duration": 9,
    "start_time": "2022-05-05T10:26:53.889Z"
   },
   {
    "duration": 8,
    "start_time": "2022-05-05T10:26:56.066Z"
   },
   {
    "duration": 7,
    "start_time": "2022-05-05T10:26:57.308Z"
   },
   {
    "duration": 12,
    "start_time": "2022-05-05T10:26:58.492Z"
   },
   {
    "duration": 9,
    "start_time": "2022-05-05T10:26:59.466Z"
   },
   {
    "duration": 9,
    "start_time": "2022-05-05T10:27:00.802Z"
   },
   {
    "duration": 11,
    "start_time": "2022-05-05T10:27:01.802Z"
   },
   {
    "duration": 12,
    "start_time": "2022-05-05T10:27:03.455Z"
   },
   {
    "duration": 3,
    "start_time": "2022-05-05T10:27:09.635Z"
   },
   {
    "duration": 216,
    "start_time": "2022-05-05T10:27:12.864Z"
   },
   {
    "duration": 589,
    "start_time": "2022-05-05T10:27:21.135Z"
   },
   {
    "duration": 537,
    "start_time": "2022-05-05T10:27:23.672Z"
   },
   {
    "duration": 408,
    "start_time": "2022-05-05T10:27:24.500Z"
   },
   {
    "duration": 12,
    "start_time": "2022-05-05T10:27:25.468Z"
   },
   {
    "duration": 124,
    "start_time": "2022-05-05T10:27:27.130Z"
   },
   {
    "duration": 197,
    "start_time": "2022-05-05T10:27:28.246Z"
   },
   {
    "duration": 130,
    "start_time": "2022-05-05T10:27:29.506Z"
   },
   {
    "duration": 194,
    "start_time": "2022-05-05T10:27:30.780Z"
   },
   {
    "duration": 1990,
    "start_time": "2022-05-05T10:28:09.570Z"
   },
   {
    "duration": 1951,
    "start_time": "2022-05-05T10:28:29.677Z"
   },
   {
    "duration": 5,
    "start_time": "2022-05-05T10:28:38.795Z"
   },
   {
    "duration": 5,
    "start_time": "2022-05-05T10:28:45.643Z"
   },
   {
    "duration": 9,
    "start_time": "2022-05-05T10:29:11.222Z"
   },
   {
    "duration": 9,
    "start_time": "2022-05-05T10:29:29.280Z"
   },
   {
    "duration": 10,
    "start_time": "2022-05-05T10:29:47.713Z"
   },
   {
    "duration": 11,
    "start_time": "2022-05-05T10:30:07.234Z"
   },
   {
    "duration": 11,
    "start_time": "2022-05-05T10:31:48.801Z"
   },
   {
    "duration": 5,
    "start_time": "2022-05-05T10:34:20.451Z"
   },
   {
    "duration": 21,
    "start_time": "2022-05-05T10:36:41.489Z"
   },
   {
    "duration": 5,
    "start_time": "2022-05-05T10:37:34.227Z"
   },
   {
    "duration": 5,
    "start_time": "2022-05-05T10:40:59.089Z"
   },
   {
    "duration": 7,
    "start_time": "2022-05-05T10:41:38.667Z"
   },
   {
    "duration": 4,
    "start_time": "2022-05-05T11:56:30.335Z"
   },
   {
    "duration": 36,
    "start_time": "2022-05-05T11:56:59.178Z"
   }
  ],
  "kernelspec": {
   "display_name": "Python 3 (ipykernel)",
   "language": "python",
   "name": "python3"
  },
  "language_info": {
   "codemirror_mode": {
    "name": "ipython",
    "version": 3
   },
   "file_extension": ".py",
   "mimetype": "text/x-python",
   "name": "python",
   "nbconvert_exporter": "python",
   "pygments_lexer": "ipython3",
   "version": "3.9.7"
  },
  "toc": {
   "base_numbering": 1,
   "nav_menu": {},
   "number_sections": false,
   "sideBar": true,
   "skip_h1_title": false,
   "title_cell": "Table of Contents",
   "title_sidebar": "Contents",
   "toc_cell": false,
   "toc_position": {
    "height": "calc(100% - 180px)",
    "left": "10px",
    "top": "150px",
    "width": "348.352px"
   },
   "toc_section_display": true,
   "toc_window_display": true
  }
 },
 "nbformat": 4,
 "nbformat_minor": 5
}
